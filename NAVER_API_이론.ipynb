{
  "cells": [
    {
      "cell_type": "markdown",
      "metadata": {
        "id": "view-in-github",
        "colab_type": "text"
      },
      "source": [
        "<a href=\"https://colab.research.google.com/github/kyuwoncho/EDA/blob/main/NAVER_API_%EC%9D%B4%EB%A1%A0.ipynb\" target=\"_parent\"><img src=\"https://colab.research.google.com/assets/colab-badge.svg\" alt=\"Open In Colab\"/></a>"
      ]
    },
    {
      "cell_type": "markdown",
      "id": "f5997b3b",
      "metadata": {
        "id": "f5997b3b"
      },
      "source": [
        "# Naver API\n",
        "\n",
        "## 1. 네이버 API 사용등록"
      ]
    },
    {
      "cell_type": "markdown",
      "id": "3a46cc18",
      "metadata": {
        "id": "3a46cc18"
      },
      "source": [
        "- 네이버 개발자 센터\n",
        "- https://developers.naver.com/main/\n",
        "- Application\n",
        "    - 어플리케이션 등록\n",
        "    - 어플리케이션 이름 EDA\n",
        "    - 사용 API\n",
        "        - 검색\n",
        "        - 데이터랩(검색어트랜드)\n",
        "        - 데이터랩(쇼핑인사이트)\n",
        "    - 환경추가\n",
        "        - WEB 설정\n",
        "        - http://localhost\n",
        "    - Clienct ID : WUyjcDpO9GnIR_W4rwlJ\n",
        "    - Clienct Secret : RHOTnh1UPC"
      ]
    },
    {
      "cell_type": "code",
      "source": [
        "from google.colab import drive\n",
        "drive.mount('/content/drive')"
      ],
      "metadata": {
        "colab": {
          "base_uri": "https://localhost:8080/"
        },
        "id": "jJgSx5vCaql7",
        "outputId": "4e62becd-c773-4728-c7aa-766ea75f9001"
      },
      "id": "jJgSx5vCaql7",
      "execution_count": 59,
      "outputs": [
        {
          "output_type": "stream",
          "name": "stdout",
          "text": [
            "Mounted at /content/drive\n"
          ]
        }
      ]
    },
    {
      "cell_type": "markdown",
      "id": "b615781f",
      "metadata": {
        "id": "b615781f"
      },
      "source": [
        "## 2. 네이버 검색 API 사용하기\n",
        "    - https://developers.naver.com/docs/serviceapi/search/blog/blog.md#%EB%B8%94%EB%A1%9C%EA%B7%B8 #개발가이드"
      ]
    },
    {
      "cell_type": "markdown",
      "id": "edbe8ba8",
      "metadata": {
        "id": "edbe8ba8"
      },
      "source": [
        "- urlib : http 프로토콜에 ㄸ라서 서버의 요청/응답을 처리하기 위한 모듈\n",
        "- urlib.request : 클라이언트의 요청을 처리하는 모듈\n",
        "- urlib.parse : url 주소에 대한 분석"
      ]
    },
    {
      "cell_type": "code",
      "execution_count": 1,
      "id": "f60a9557",
      "metadata": {
        "colab": {
          "base_uri": "https://localhost:8080/"
        },
        "id": "f60a9557",
        "outputId": "da8678f1-665b-4307-c0bf-ffc3623f8af4"
      },
      "outputs": [
        {
          "output_type": "stream",
          "name": "stdout",
          "text": [
            "{\n",
            "\t\"lastBuildDate\":\"Tue, 09 Aug 2022 19:48:37 +0900\",\n",
            "\t\"total\":348387,\n",
            "\t\"start\":1,\n",
            "\t\"display\":10,\n",
            "\t\"items\":[\n",
            "\t\t{\n",
            "\t\t\t\"title\":\"<b>파이썬<\\/b>자격증 입문자 취업준비의 좋은선택\",\n",
            "\t\t\t\"link\":\"https:\\/\\/blog.naver.com\\/dambi85?Redirect=Log&logNo=222811274814\",\n",
            "\t\t\t\"description\":\"어떻게든 되겠지 하는 마음으로 우선은 <b>파이썬<\\/b>자격증을 취득해 보기로 했는데요. 빅데이터에서 기초가 되는 부분이 <b>파이썬<\\/b>이었기 때문에 우선적으로 한 번 배워보고 가능하면 자격증까지 취득하면 좋으니... \",\n",
            "\t\t\t\"bloggername\":\"마마 리사킴의 유쾌한 일상 이야기\",\n",
            "\t\t\t\"bloggerlink\":\"https:\\/\\/blog.naver.com\\/dambi85\",\n",
            "\t\t\t\"postdate\":\"20220714\"\n",
            "\t\t},\n",
            "\t\t{\n",
            "\t\t\t\"title\":\"<b>파이썬<\\/b> 자격증 확실한 취득방법\",\n",
            "\t\t\t\"link\":\"https:\\/\\/blog.naver.com\\/monoblue01?Redirect=Log&logNo=222818937808\",\n",
            "\t\t\t\"description\":\"바로 <b>파이썬<\\/b> 자격증입니다. 이유는 요즘 가장 흔하게 쓰이는 언어였고, 취업 시 있으면 도움되기 때문이었죠. AI와 빅데이터가 갑자기 인기가 많아지고 관심을 받으면서 자연스럽게 기초 코딩인 <b>파이썬<\\/b> 또한... \",\n",
            "\t\t\t\"bloggername\":\"루윙코치 교육정보&육아일상\",\n",
            "\t\t\t\"bloggerlink\":\"https:\\/\\/blog.naver.com\\/monoblue01\",\n",
            "\t\t\t\"postdate\":\"20220719\"\n",
            "\t\t},\n",
            "\t\t{\n",
            "\t\t\t\"title\":\"<b>파이썬<\\/b>교육 기초부터 실무 연습까지\",\n",
            "\t\t\t\"link\":\"https:\\/\\/blog.naver.com\\/kmisun8282?Redirect=Log&logNo=222836710981\",\n",
            "\t\t\t\"description\":\"또 최근에는 많은 성인분들도 코딩의 기본부터 세밀하게 배울 수 있는 <b>파이썬<\\/b>교육에 집중을 하고... 사실 코딩을 위한 교육은 꼭 <b>파이썬<\\/b>교육이 아니더라도 분야가 다양했는데 기본적으로 자바, C언어, 빅데이터... \",\n",
            "\t\t\t\"bloggername\":\"난장이 좋은 캠핑러\",\n",
            "\t\t\t\"bloggerlink\":\"https:\\/\\/blog.naver.com\\/kmisun8282\",\n",
            "\t\t\t\"postdate\":\"20220801\"\n",
            "\t\t},\n",
            "\t\t{\n",
            "\t\t\t\"title\":\"<b>파이썬<\\/b>학원 실습 위주의 수업이 포인트!\",\n",
            "\t\t\t\"link\":\"https:\\/\\/blog.naver.com\\/jeongok8602?Redirect=Log&logNo=222822655599\",\n",
            "\t\t\t\"description\":\"그래서 저도 진짜 이렇게는 안되겠다싶어서 더욱 늦기전에 <b>파이썬<\\/b>학원을 다녀보기로 마음 먹었어요.... 보통 <b>파이썬<\\/b>학원을 다니는 분들은 저처럼 초보자들이 많을거에요. 많은 개발 언어중에서 해당 언어만이... \",\n",
            "\t\t\t\"bloggername\":\"호박공주맘의 시시콜콜\",\n",
            "\t\t\t\"bloggerlink\":\"https:\\/\\/blog.naver.com\\/jeongok8602\",\n",
            "\t\t\t\"postdate\":\"20220721\"\n",
            "\t\t},\n",
            "\t\t{\n",
            "\t\t\t\"title\":\"<b>파이썬<\\/b>학원 초보자를 위한 교육과정\",\n",
            "\t\t\t\"link\":\"https:\\/\\/blog.naver.com\\/kkpa1002?Redirect=Log&logNo=222807750795\",\n",
            "\t\t\t\"description\":\"친구에게 여러 가지 질문을 한 끝에 <b>파이썬<\\/b>학원을 저도 다녀봐야겠다는 확신을 얻을 수 있었습니다.... 그래서 <b>파이썬<\\/b>학원을 검색하기 시작했습니다. 어떤 곳이 좋은지 몰랐기에 친구에게 물어봤는데요. 제가... \",\n",
            "\t\t\t\"bloggername\":\"최신 트랜드와 지식창고\",\n",
            "\t\t\t\"bloggerlink\":\"https:\\/\\/blog.naver.com\\/kkpa1002\",\n",
            "\t\t\t\"postdate\":\"20220711\"\n",
            "\t\t},\n",
            "\t\t{\n",
            "\t\t\t\"title\":\"<b>파이썬<\\/b> 강좌 다양한 예제 풀이 학습\",\n",
            "\t\t\t\"link\":\"https:\\/\\/blog.naver.com\\/beany99?Redirect=Log&logNo=222772758216\",\n",
            "\t\t\t\"description\":\"그러다가 IT 분야가 시간이 지나도 유용하게 쓰일 거라는 사실을 알고 난 뒤에는 <b>파이썬<\\/b>강좌 등록에 대해 고민해보게 됐어요. <b>파이썬<\\/b>은 초보자도 쉽게 공부할 수 있다는 것을 알았죠. 물론 처음 접해보는... \",\n",
            "\t\t\t\"bloggername\":\"설레이는오늘\",\n",
            "\t\t\t\"bloggerlink\":\"https:\\/\\/blog.naver.com\\/beany99\",\n",
            "\t\t\t\"postdate\":\"20220614\"\n",
            "\t\t},\n",
            "\t\t{\n",
            "\t\t\t\"title\":\"<b>파이썬<\\/b>강의 입문자의 학습과정\",\n",
            "\t\t\t\"link\":\"https:\\/\\/blog.naver.com\\/qghkfwjf?Redirect=Log&logNo=222774486771\",\n",
            "\t\t\t\"description\":\"<b>파이썬<\\/b>이라는 언어는 프로그램밍 입문자가 많이 배우는 언어 중 하나인데요. 저는 머신러닝과 딥러닝에 관해서 더욱 자세히 알아보고 싶어서 <b>파이썬<\\/b>강의를 수강하게 됐죠. 처음 프로그래밍을 배우려고 생각했을... \",\n",
            "\t\t\t\"bloggername\":\"가넹이네\",\n",
            "\t\t\t\"bloggerlink\":\"https:\\/\\/blog.naver.com\\/qghkfwjf\",\n",
            "\t\t\t\"postdate\":\"20220615\"\n",
            "\t\t},\n",
            "\t\t{\n",
            "\t\t\t\"title\":\"<b>파이썬<\\/b>학원 기본 프로그래밍 학습 절차\",\n",
            "\t\t\t\"link\":\"https:\\/\\/blog.naver.com\\/sweety4338?Redirect=Log&logNo=222809775225\",\n",
            "\t\t\t\"description\":\"걸맞은 <b>파이썬<\\/b>학원을 염두에 두게 되었죠. 짧은 시간 소모로도 충분히 결과를 낼 수 있었던 것은... 자연스레 <b>파이썬<\\/b>학원을 찾게 되었죠. 이 분야를 다루는 학원이 많아 여러 차례에 걸쳐 카운슬링을 받으며... \",\n",
            "\t\t\t\"bloggername\":\"MY 지식@\",\n",
            "\t\t\t\"bloggerlink\":\"https:\\/\\/blog.naver.com\\/sweety4338\",\n",
            "\t\t\t\"postdate\":\"20220713\"\n",
            "\t\t},\n",
            "\t\t{\n",
            "\t\t\t\"title\":\"<b>파이썬<\\/b>교육 필수과목 체계적으로 배워보기\",\n",
            "\t\t\t\"link\":\"https:\\/\\/blog.naver.com\\/ddaemine?Redirect=Log&logNo=222833007550\",\n",
            "\t\t\t\"description\":\"빠르고 효율적으로 배울 수 있는 과정이 뭐가 있을까 고민하다가 문과는 <b>파이썬<\\/b>교육부터 시작하는 것이... 대부분의 학교에서 필수 과목으로 <b>파이썬<\\/b>교육을 들어야 하는데 저는 그 시기가 아니라 따로 배워야... \",\n",
            "\t\t\t\"bloggername\":\"눈 내 위 의 뚝 딱 공 작 소\",\n",
            "\t\t\t\"bloggerlink\":\"https:\\/\\/blog.naver.com\\/ddaemine\",\n",
            "\t\t\t\"postdate\":\"20220728\"\n",
            "\t\t},\n",
            "\t\t{\n",
            "\t\t\t\"title\":\"<b>파이썬<\\/b>기초 폭 넓은 개념 파악하기\",\n",
            "\t\t\t\"link\":\"https:\\/\\/blog.naver.com\\/redsdains?Redirect=Log&logNo=222757634260\",\n",
            "\t\t\t\"description\":\"요즘 <b>파이썬<\\/b>기초가 계속해서 대두가 되는 마당에 저 역시도 현재 JAVA를 배우면서 함께 이를 배우고 있어요. IT 쪽에서 전에는 JAVA가 계속해서 많이 사용되는 언어로 1위를 차지하고 있었지만 쓰기 편한 <b>파이썬<\\/b>을... \",\n",
            "\t\t\t\"bloggername\":\"재밌는 블로그\",\n",
            "\t\t\t\"bloggerlink\":\"https:\\/\\/blog.naver.com\\/redsdains\",\n",
            "\t\t\t\"postdate\":\"20220603\"\n",
            "\t\t}\n",
            "\t]\n",
            "}\n"
          ]
        }
      ],
      "source": [
        "# 네이버 검색 API예제는 블로그를 비롯 전문자료까지 호출방법이 동일하므로 blog검색만 대표로 예제를 올렸습니다.\n",
        "# 네이버 검색 Open API 예제 - 블로그 검색\n",
        "import os\n",
        "import sys\n",
        "import urllib.request\n",
        "\n",
        "client_id = \"WUyjcDpO9GnIR_W4rwlJ\"\n",
        "client_secret = \"RHOTnh1UPC\"\n",
        "\n",
        "encText = urllib.parse.quote(\"파이썬\")\n",
        "url = \"https://openapi.naver.com/v1/search/blog?query=\" + encText # json 결과\n",
        "# url = \"https://openapi.naver.com/v1/search/blog.xml?query=\" + encText # xml 결과\n",
        "request = urllib.request.Request(url)\n",
        "request.add_header(\"X-Naver-Client-Id\",client_id)\n",
        "request.add_header(\"X-Naver-Client-Secret\",client_secret)\n",
        "response = urllib.request.urlopen(request)\n",
        "rescode = response.getcode()\n",
        "\n",
        "if(rescode==200):\n",
        "    response_body = response.read()\n",
        "    print(response_body.decode('utf-8'))\n",
        "else:\n",
        "    print(\"Error Code:\" + rescode)"
      ]
    },
    {
      "cell_type": "code",
      "execution_count": 2,
      "id": "c5893e21",
      "metadata": {
        "colab": {
          "base_uri": "https://localhost:8080/"
        },
        "id": "c5893e21",
        "outputId": "a1f73576-41e3-4c80-d332-33b8624d41c9"
      },
      "outputs": [
        {
          "output_type": "execute_result",
          "data": {
            "text/plain": [
              "<http.client.HTTPResponse at 0x7fb303395bd0>"
            ]
          },
          "metadata": {},
          "execution_count": 2
        }
      ],
      "source": [
        "response"
      ]
    },
    {
      "cell_type": "code",
      "execution_count": 3,
      "id": "3bf76be6",
      "metadata": {
        "colab": {
          "base_uri": "https://localhost:8080/"
        },
        "id": "3bf76be6",
        "outputId": "1298a38d-ac24-45d6-afb2-b007c6f42289"
      },
      "outputs": [
        {
          "output_type": "execute_result",
          "data": {
            "text/plain": [
              "200"
            ]
          },
          "metadata": {},
          "execution_count": 3
        }
      ],
      "source": [
        "response.getcode() #200이면 정상"
      ]
    },
    {
      "cell_type": "code",
      "execution_count": 4,
      "id": "00afc8ab",
      "metadata": {
        "colab": {
          "base_uri": "https://localhost:8080/"
        },
        "id": "00afc8ab",
        "outputId": "83aaba59-84e6-4672-bc48-698dd3fa930f"
      },
      "outputs": [
        {
          "output_type": "execute_result",
          "data": {
            "text/plain": [
              "(<http.client.HTTPResponse at 0x7fb303395bd0>, 200, 200, 200)"
            ]
          },
          "metadata": {},
          "execution_count": 4
        }
      ],
      "source": [
        "#다 같은거임\n",
        "response, response.getcode(), response.code, response.status"
      ]
    },
    {
      "cell_type": "code",
      "execution_count": 5,
      "id": "929b2345",
      "metadata": {
        "colab": {
          "base_uri": "https://localhost:8080/"
        },
        "id": "929b2345",
        "outputId": "a8624ed2-2d6f-4513-a283-be4abb844d43"
      },
      "outputs": [
        {
          "output_type": "execute_result",
          "data": {
            "text/plain": [
              "b'{\\n\\t\"lastBuildDate\":\"Tue, 09 Aug 2022 19:48:37 +0900\",\\n\\t\"total\":348387,\\n\\t\"start\":1,\\n\\t\"display\":10,\\n\\t\"items\":[\\n\\t\\t{\\n\\t\\t\\t\"title\":\"<b>\\xed\\x8c\\x8c\\xec\\x9d\\xb4\\xec\\x8d\\xac<\\\\/b>\\xec\\x9e\\x90\\xea\\xb2\\xa9\\xec\\xa6\\x9d \\xec\\x9e\\x85\\xeb\\xac\\xb8\\xec\\x9e\\x90 \\xec\\xb7\\xa8\\xec\\x97\\x85\\xec\\xa4\\x80\\xeb\\xb9\\x84\\xec\\x9d\\x98 \\xec\\xa2\\x8b\\xec\\x9d\\x80\\xec\\x84\\xa0\\xed\\x83\\x9d\",\\n\\t\\t\\t\"link\":\"https:\\\\/\\\\/blog.naver.com\\\\/dambi85?Redirect=Log&logNo=222811274814\",\\n\\t\\t\\t\"description\":\"\\xec\\x96\\xb4\\xeb\\x96\\xbb\\xea\\xb2\\x8c\\xeb\\x93\\xa0 \\xeb\\x90\\x98\\xea\\xb2\\xa0\\xec\\xa7\\x80 \\xed\\x95\\x98\\xeb\\x8a\\x94 \\xeb\\xa7\\x88\\xec\\x9d\\x8c\\xec\\x9c\\xbc\\xeb\\xa1\\x9c \\xec\\x9a\\xb0\\xec\\x84\\xa0\\xec\\x9d\\x80 <b>\\xed\\x8c\\x8c\\xec\\x9d\\xb4\\xec\\x8d\\xac<\\\\/b>\\xec\\x9e\\x90\\xea\\xb2\\xa9\\xec\\xa6\\x9d\\xec\\x9d\\x84 \\xec\\xb7\\xa8\\xeb\\x93\\x9d\\xed\\x95\\xb4 \\xeb\\xb3\\xb4\\xea\\xb8\\xb0\\xeb\\xa1\\x9c \\xed\\x96\\x88\\xeb\\x8a\\x94\\xeb\\x8d\\xb0\\xec\\x9a\\x94. \\xeb\\xb9\\x85\\xeb\\x8d\\xb0\\xec\\x9d\\xb4\\xed\\x84\\xb0\\xec\\x97\\x90\\xec\\x84\\x9c \\xea\\xb8\\xb0\\xec\\xb4\\x88\\xea\\xb0\\x80 \\xeb\\x90\\x98\\xeb\\x8a\\x94 \\xeb\\xb6\\x80\\xeb\\xb6\\x84\\xec\\x9d\\xb4 <b>\\xed\\x8c\\x8c\\xec\\x9d\\xb4\\xec\\x8d\\xac<\\\\/b>\\xec\\x9d\\xb4\\xec\\x97\\x88\\xea\\xb8\\xb0 \\xeb\\x95\\x8c\\xeb\\xac\\xb8\\xec\\x97\\x90 \\xec\\x9a\\xb0\\xec\\x84\\xa0\\xec\\xa0\\x81\\xec\\x9c\\xbc\\xeb\\xa1\\x9c \\xed\\x95\\x9c \\xeb\\xb2\\x88 \\xeb\\xb0\\xb0\\xec\\x9b\\x8c\\xeb\\xb3\\xb4\\xea\\xb3\\xa0 \\xea\\xb0\\x80\\xeb\\x8a\\xa5\\xed\\x95\\x98\\xeb\\xa9\\xb4 \\xec\\x9e\\x90\\xea\\xb2\\xa9\\xec\\xa6\\x9d\\xea\\xb9\\x8c\\xec\\xa7\\x80 \\xec\\xb7\\xa8\\xeb\\x93\\x9d\\xed\\x95\\x98\\xeb\\xa9\\xb4 \\xec\\xa2\\x8b\\xec\\x9c\\xbc\\xeb\\x8b\\x88... \",\\n\\t\\t\\t\"bloggername\":\"\\xeb\\xa7\\x88\\xeb\\xa7\\x88 \\xeb\\xa6\\xac\\xec\\x82\\xac\\xed\\x82\\xb4\\xec\\x9d\\x98 \\xec\\x9c\\xa0\\xec\\xbe\\x8c\\xed\\x95\\x9c \\xec\\x9d\\xbc\\xec\\x83\\x81 \\xec\\x9d\\xb4\\xec\\x95\\xbc\\xea\\xb8\\xb0\",\\n\\t\\t\\t\"bloggerlink\":\"https:\\\\/\\\\/blog.naver.com\\\\/dambi85\",\\n\\t\\t\\t\"postdate\":\"20220714\"\\n\\t\\t},\\n\\t\\t{\\n\\t\\t\\t\"title\":\"<b>\\xed\\x8c\\x8c\\xec\\x9d\\xb4\\xec\\x8d\\xac<\\\\/b> \\xec\\x9e\\x90\\xea\\xb2\\xa9\\xec\\xa6\\x9d \\xed\\x99\\x95\\xec\\x8b\\xa4\\xed\\x95\\x9c \\xec\\xb7\\xa8\\xeb\\x93\\x9d\\xeb\\xb0\\xa9\\xeb\\xb2\\x95\",\\n\\t\\t\\t\"link\":\"https:\\\\/\\\\/blog.naver.com\\\\/monoblue01?Redirect=Log&logNo=222818937808\",\\n\\t\\t\\t\"description\":\"\\xeb\\xb0\\x94\\xeb\\xa1\\x9c <b>\\xed\\x8c\\x8c\\xec\\x9d\\xb4\\xec\\x8d\\xac<\\\\/b> \\xec\\x9e\\x90\\xea\\xb2\\xa9\\xec\\xa6\\x9d\\xec\\x9e\\x85\\xeb\\x8b\\x88\\xeb\\x8b\\xa4. \\xec\\x9d\\xb4\\xec\\x9c\\xa0\\xeb\\x8a\\x94 \\xec\\x9a\\x94\\xec\\xa6\\x98 \\xea\\xb0\\x80\\xec\\x9e\\xa5 \\xed\\x9d\\x94\\xed\\x95\\x98\\xea\\xb2\\x8c \\xec\\x93\\xb0\\xec\\x9d\\xb4\\xeb\\x8a\\x94 \\xec\\x96\\xb8\\xec\\x96\\xb4\\xec\\x98\\x80\\xea\\xb3\\xa0, \\xec\\xb7\\xa8\\xec\\x97\\x85 \\xec\\x8b\\x9c \\xec\\x9e\\x88\\xec\\x9c\\xbc\\xeb\\xa9\\xb4 \\xeb\\x8f\\x84\\xec\\x9b\\x80\\xeb\\x90\\x98\\xea\\xb8\\xb0 \\xeb\\x95\\x8c\\xeb\\xac\\xb8\\xec\\x9d\\xb4\\xec\\x97\\x88\\xec\\xa3\\xa0. AI\\xec\\x99\\x80 \\xeb\\xb9\\x85\\xeb\\x8d\\xb0\\xec\\x9d\\xb4\\xed\\x84\\xb0\\xea\\xb0\\x80 \\xea\\xb0\\x91\\xec\\x9e\\x90\\xea\\xb8\\xb0 \\xec\\x9d\\xb8\\xea\\xb8\\xb0\\xea\\xb0\\x80 \\xeb\\xa7\\x8e\\xec\\x95\\x84\\xec\\xa7\\x80\\xea\\xb3\\xa0 \\xea\\xb4\\x80\\xec\\x8b\\xac\\xec\\x9d\\x84 \\xeb\\xb0\\x9b\\xec\\x9c\\xbc\\xeb\\xa9\\xb4\\xec\\x84\\x9c \\xec\\x9e\\x90\\xec\\x97\\xb0\\xec\\x8a\\xa4\\xeb\\x9f\\xbd\\xea\\xb2\\x8c \\xea\\xb8\\xb0\\xec\\xb4\\x88 \\xec\\xbd\\x94\\xeb\\x94\\xa9\\xec\\x9d\\xb8 <b>\\xed\\x8c\\x8c\\xec\\x9d\\xb4\\xec\\x8d\\xac<\\\\/b> \\xeb\\x98\\x90\\xed\\x95\\x9c... \",\\n\\t\\t\\t\"bloggername\":\"\\xeb\\xa3\\xa8\\xec\\x9c\\x99\\xec\\xbd\\x94\\xec\\xb9\\x98 \\xea\\xb5\\x90\\xec\\x9c\\xa1\\xec\\xa0\\x95\\xeb\\xb3\\xb4&\\xec\\x9c\\xa1\\xec\\x95\\x84\\xec\\x9d\\xbc\\xec\\x83\\x81\",\\n\\t\\t\\t\"bloggerlink\":\"https:\\\\/\\\\/blog.naver.com\\\\/monoblue01\",\\n\\t\\t\\t\"postdate\":\"20220719\"\\n\\t\\t},\\n\\t\\t{\\n\\t\\t\\t\"title\":\"<b>\\xed\\x8c\\x8c\\xec\\x9d\\xb4\\xec\\x8d\\xac<\\\\/b>\\xea\\xb5\\x90\\xec\\x9c\\xa1 \\xea\\xb8\\xb0\\xec\\xb4\\x88\\xeb\\xb6\\x80\\xed\\x84\\xb0 \\xec\\x8b\\xa4\\xeb\\xac\\xb4 \\xec\\x97\\xb0\\xec\\x8a\\xb5\\xea\\xb9\\x8c\\xec\\xa7\\x80\",\\n\\t\\t\\t\"link\":\"https:\\\\/\\\\/blog.naver.com\\\\/kmisun8282?Redirect=Log&logNo=222836710981\",\\n\\t\\t\\t\"description\":\"\\xeb\\x98\\x90 \\xec\\xb5\\x9c\\xea\\xb7\\xbc\\xec\\x97\\x90\\xeb\\x8a\\x94 \\xeb\\xa7\\x8e\\xec\\x9d\\x80 \\xec\\x84\\xb1\\xec\\x9d\\xb8\\xeb\\xb6\\x84\\xeb\\x93\\xa4\\xeb\\x8f\\x84 \\xec\\xbd\\x94\\xeb\\x94\\xa9\\xec\\x9d\\x98 \\xea\\xb8\\xb0\\xeb\\xb3\\xb8\\xeb\\xb6\\x80\\xed\\x84\\xb0 \\xec\\x84\\xb8\\xeb\\xb0\\x80\\xed\\x95\\x98\\xea\\xb2\\x8c \\xeb\\xb0\\xb0\\xec\\x9a\\xb8 \\xec\\x88\\x98 \\xec\\x9e\\x88\\xeb\\x8a\\x94 <b>\\xed\\x8c\\x8c\\xec\\x9d\\xb4\\xec\\x8d\\xac<\\\\/b>\\xea\\xb5\\x90\\xec\\x9c\\xa1\\xec\\x97\\x90 \\xec\\xa7\\x91\\xec\\xa4\\x91\\xec\\x9d\\x84 \\xed\\x95\\x98\\xea\\xb3\\xa0... \\xec\\x82\\xac\\xec\\x8b\\xa4 \\xec\\xbd\\x94\\xeb\\x94\\xa9\\xec\\x9d\\x84 \\xec\\x9c\\x84\\xed\\x95\\x9c \\xea\\xb5\\x90\\xec\\x9c\\xa1\\xec\\x9d\\x80 \\xea\\xbc\\xad <b>\\xed\\x8c\\x8c\\xec\\x9d\\xb4\\xec\\x8d\\xac<\\\\/b>\\xea\\xb5\\x90\\xec\\x9c\\xa1\\xec\\x9d\\xb4 \\xec\\x95\\x84\\xeb\\x8b\\x88\\xeb\\x8d\\x94\\xeb\\x9d\\xbc\\xeb\\x8f\\x84 \\xeb\\xb6\\x84\\xec\\x95\\xbc\\xea\\xb0\\x80 \\xeb\\x8b\\xa4\\xec\\x96\\x91\\xed\\x96\\x88\\xeb\\x8a\\x94\\xeb\\x8d\\xb0 \\xea\\xb8\\xb0\\xeb\\xb3\\xb8\\xec\\xa0\\x81\\xec\\x9c\\xbc\\xeb\\xa1\\x9c \\xec\\x9e\\x90\\xeb\\xb0\\x94, C\\xec\\x96\\xb8\\xec\\x96\\xb4, \\xeb\\xb9\\x85\\xeb\\x8d\\xb0\\xec\\x9d\\xb4\\xed\\x84\\xb0... \",\\n\\t\\t\\t\"bloggername\":\"\\xeb\\x82\\x9c\\xec\\x9e\\xa5\\xec\\x9d\\xb4 \\xec\\xa2\\x8b\\xec\\x9d\\x80 \\xec\\xba\\xa0\\xed\\x95\\x91\\xeb\\x9f\\xac\",\\n\\t\\t\\t\"bloggerlink\":\"https:\\\\/\\\\/blog.naver.com\\\\/kmisun8282\",\\n\\t\\t\\t\"postdate\":\"20220801\"\\n\\t\\t},\\n\\t\\t{\\n\\t\\t\\t\"title\":\"<b>\\xed\\x8c\\x8c\\xec\\x9d\\xb4\\xec\\x8d\\xac<\\\\/b>\\xed\\x95\\x99\\xec\\x9b\\x90 \\xec\\x8b\\xa4\\xec\\x8a\\xb5 \\xec\\x9c\\x84\\xec\\xa3\\xbc\\xec\\x9d\\x98 \\xec\\x88\\x98\\xec\\x97\\x85\\xec\\x9d\\xb4 \\xed\\x8f\\xac\\xec\\x9d\\xb8\\xed\\x8a\\xb8!\",\\n\\t\\t\\t\"link\":\"https:\\\\/\\\\/blog.naver.com\\\\/jeongok8602?Redirect=Log&logNo=222822655599\",\\n\\t\\t\\t\"description\":\"\\xea\\xb7\\xb8\\xeb\\x9e\\x98\\xec\\x84\\x9c \\xec\\xa0\\x80\\xeb\\x8f\\x84 \\xec\\xa7\\x84\\xec\\xa7\\x9c \\xec\\x9d\\xb4\\xeb\\xa0\\x87\\xea\\xb2\\x8c\\xeb\\x8a\\x94 \\xec\\x95\\x88\\xeb\\x90\\x98\\xea\\xb2\\xa0\\xeb\\x8b\\xa4\\xec\\x8b\\xb6\\xec\\x96\\xb4\\xec\\x84\\x9c \\xeb\\x8d\\x94\\xec\\x9a\\xb1 \\xeb\\x8a\\xa6\\xea\\xb8\\xb0\\xec\\xa0\\x84\\xec\\x97\\x90 <b>\\xed\\x8c\\x8c\\xec\\x9d\\xb4\\xec\\x8d\\xac<\\\\/b>\\xed\\x95\\x99\\xec\\x9b\\x90\\xec\\x9d\\x84 \\xeb\\x8b\\xa4\\xeb\\x85\\x80\\xeb\\xb3\\xb4\\xea\\xb8\\xb0\\xeb\\xa1\\x9c \\xeb\\xa7\\x88\\xec\\x9d\\x8c \\xeb\\xa8\\xb9\\xec\\x97\\x88\\xec\\x96\\xb4\\xec\\x9a\\x94.... \\xeb\\xb3\\xb4\\xed\\x86\\xb5 <b>\\xed\\x8c\\x8c\\xec\\x9d\\xb4\\xec\\x8d\\xac<\\\\/b>\\xed\\x95\\x99\\xec\\x9b\\x90\\xec\\x9d\\x84 \\xeb\\x8b\\xa4\\xeb\\x8b\\x88\\xeb\\x8a\\x94 \\xeb\\xb6\\x84\\xeb\\x93\\xa4\\xec\\x9d\\x80 \\xec\\xa0\\x80\\xec\\xb2\\x98\\xeb\\x9f\\xbc \\xec\\xb4\\x88\\xeb\\xb3\\xb4\\xec\\x9e\\x90\\xeb\\x93\\xa4\\xec\\x9d\\xb4 \\xeb\\xa7\\x8e\\xec\\x9d\\x84\\xea\\xb1\\xb0\\xec\\x97\\x90\\xec\\x9a\\x94. \\xeb\\xa7\\x8e\\xec\\x9d\\x80 \\xea\\xb0\\x9c\\xeb\\xb0\\x9c \\xec\\x96\\xb8\\xec\\x96\\xb4\\xec\\xa4\\x91\\xec\\x97\\x90\\xec\\x84\\x9c \\xed\\x95\\xb4\\xeb\\x8b\\xb9 \\xec\\x96\\xb8\\xec\\x96\\xb4\\xeb\\xa7\\x8c\\xec\\x9d\\xb4... \",\\n\\t\\t\\t\"bloggername\":\"\\xed\\x98\\xb8\\xeb\\xb0\\x95\\xea\\xb3\\xb5\\xec\\xa3\\xbc\\xeb\\xa7\\x98\\xec\\x9d\\x98 \\xec\\x8b\\x9c\\xec\\x8b\\x9c\\xec\\xbd\\x9c\\xec\\xbd\\x9c\",\\n\\t\\t\\t\"bloggerlink\":\"https:\\\\/\\\\/blog.naver.com\\\\/jeongok8602\",\\n\\t\\t\\t\"postdate\":\"20220721\"\\n\\t\\t},\\n\\t\\t{\\n\\t\\t\\t\"title\":\"<b>\\xed\\x8c\\x8c\\xec\\x9d\\xb4\\xec\\x8d\\xac<\\\\/b>\\xed\\x95\\x99\\xec\\x9b\\x90 \\xec\\xb4\\x88\\xeb\\xb3\\xb4\\xec\\x9e\\x90\\xeb\\xa5\\xbc \\xec\\x9c\\x84\\xed\\x95\\x9c \\xea\\xb5\\x90\\xec\\x9c\\xa1\\xea\\xb3\\xbc\\xec\\xa0\\x95\",\\n\\t\\t\\t\"link\":\"https:\\\\/\\\\/blog.naver.com\\\\/kkpa1002?Redirect=Log&logNo=222807750795\",\\n\\t\\t\\t\"description\":\"\\xec\\xb9\\x9c\\xea\\xb5\\xac\\xec\\x97\\x90\\xea\\xb2\\x8c \\xec\\x97\\xac\\xeb\\x9f\\xac \\xea\\xb0\\x80\\xec\\xa7\\x80 \\xec\\xa7\\x88\\xeb\\xac\\xb8\\xec\\x9d\\x84 \\xed\\x95\\x9c \\xeb\\x81\\x9d\\xec\\x97\\x90 <b>\\xed\\x8c\\x8c\\xec\\x9d\\xb4\\xec\\x8d\\xac<\\\\/b>\\xed\\x95\\x99\\xec\\x9b\\x90\\xec\\x9d\\x84 \\xec\\xa0\\x80\\xeb\\x8f\\x84 \\xeb\\x8b\\xa4\\xeb\\x85\\x80\\xeb\\xb4\\x90\\xec\\x95\\xbc\\xea\\xb2\\xa0\\xeb\\x8b\\xa4\\xeb\\x8a\\x94 \\xed\\x99\\x95\\xec\\x8b\\xa0\\xec\\x9d\\x84 \\xec\\x96\\xbb\\xec\\x9d\\x84 \\xec\\x88\\x98 \\xec\\x9e\\x88\\xec\\x97\\x88\\xec\\x8a\\xb5\\xeb\\x8b\\x88\\xeb\\x8b\\xa4.... \\xea\\xb7\\xb8\\xeb\\x9e\\x98\\xec\\x84\\x9c <b>\\xed\\x8c\\x8c\\xec\\x9d\\xb4\\xec\\x8d\\xac<\\\\/b>\\xed\\x95\\x99\\xec\\x9b\\x90\\xec\\x9d\\x84 \\xea\\xb2\\x80\\xec\\x83\\x89\\xed\\x95\\x98\\xea\\xb8\\xb0 \\xec\\x8b\\x9c\\xec\\x9e\\x91\\xed\\x96\\x88\\xec\\x8a\\xb5\\xeb\\x8b\\x88\\xeb\\x8b\\xa4. \\xec\\x96\\xb4\\xeb\\x96\\xa4 \\xea\\xb3\\xb3\\xec\\x9d\\xb4 \\xec\\xa2\\x8b\\xec\\x9d\\x80\\xec\\xa7\\x80 \\xeb\\xaa\\xb0\\xeb\\x9e\\x90\\xea\\xb8\\xb0\\xec\\x97\\x90 \\xec\\xb9\\x9c\\xea\\xb5\\xac\\xec\\x97\\x90\\xea\\xb2\\x8c \\xeb\\xac\\xbc\\xec\\x96\\xb4\\xeb\\xb4\\xa4\\xeb\\x8a\\x94\\xeb\\x8d\\xb0\\xec\\x9a\\x94. \\xec\\xa0\\x9c\\xea\\xb0\\x80... \",\\n\\t\\t\\t\"bloggername\":\"\\xec\\xb5\\x9c\\xec\\x8b\\xa0 \\xed\\x8a\\xb8\\xeb\\x9e\\x9c\\xeb\\x93\\x9c\\xec\\x99\\x80 \\xec\\xa7\\x80\\xec\\x8b\\x9d\\xec\\xb0\\xbd\\xea\\xb3\\xa0\",\\n\\t\\t\\t\"bloggerlink\":\"https:\\\\/\\\\/blog.naver.com\\\\/kkpa1002\",\\n\\t\\t\\t\"postdate\":\"20220711\"\\n\\t\\t},\\n\\t\\t{\\n\\t\\t\\t\"title\":\"<b>\\xed\\x8c\\x8c\\xec\\x9d\\xb4\\xec\\x8d\\xac<\\\\/b> \\xea\\xb0\\x95\\xec\\xa2\\x8c \\xeb\\x8b\\xa4\\xec\\x96\\x91\\xed\\x95\\x9c \\xec\\x98\\x88\\xec\\xa0\\x9c \\xed\\x92\\x80\\xec\\x9d\\xb4 \\xed\\x95\\x99\\xec\\x8a\\xb5\",\\n\\t\\t\\t\"link\":\"https:\\\\/\\\\/blog.naver.com\\\\/beany99?Redirect=Log&logNo=222772758216\",\\n\\t\\t\\t\"description\":\"\\xea\\xb7\\xb8\\xeb\\x9f\\xac\\xeb\\x8b\\xa4\\xea\\xb0\\x80 IT \\xeb\\xb6\\x84\\xec\\x95\\xbc\\xea\\xb0\\x80 \\xec\\x8b\\x9c\\xea\\xb0\\x84\\xec\\x9d\\xb4 \\xec\\xa7\\x80\\xeb\\x82\\x98\\xeb\\x8f\\x84 \\xec\\x9c\\xa0\\xec\\x9a\\xa9\\xed\\x95\\x98\\xea\\xb2\\x8c \\xec\\x93\\xb0\\xec\\x9d\\xbc \\xea\\xb1\\xb0\\xeb\\x9d\\xbc\\xeb\\x8a\\x94 \\xec\\x82\\xac\\xec\\x8b\\xa4\\xec\\x9d\\x84 \\xec\\x95\\x8c\\xea\\xb3\\xa0 \\xeb\\x82\\x9c \\xeb\\x92\\xa4\\xec\\x97\\x90\\xeb\\x8a\\x94 <b>\\xed\\x8c\\x8c\\xec\\x9d\\xb4\\xec\\x8d\\xac<\\\\/b>\\xea\\xb0\\x95\\xec\\xa2\\x8c \\xeb\\x93\\xb1\\xeb\\xa1\\x9d\\xec\\x97\\x90 \\xeb\\x8c\\x80\\xed\\x95\\xb4 \\xea\\xb3\\xa0\\xeb\\xaf\\xbc\\xed\\x95\\xb4\\xeb\\xb3\\xb4\\xea\\xb2\\x8c \\xeb\\x90\\x90\\xec\\x96\\xb4\\xec\\x9a\\x94. <b>\\xed\\x8c\\x8c\\xec\\x9d\\xb4\\xec\\x8d\\xac<\\\\/b>\\xec\\x9d\\x80 \\xec\\xb4\\x88\\xeb\\xb3\\xb4\\xec\\x9e\\x90\\xeb\\x8f\\x84 \\xec\\x89\\xbd\\xea\\xb2\\x8c \\xea\\xb3\\xb5\\xeb\\xb6\\x80\\xed\\x95\\xa0 \\xec\\x88\\x98 \\xec\\x9e\\x88\\xeb\\x8b\\xa4\\xeb\\x8a\\x94 \\xea\\xb2\\x83\\xec\\x9d\\x84 \\xec\\x95\\x8c\\xec\\x95\\x98\\xec\\xa3\\xa0. \\xeb\\xac\\xbc\\xeb\\xa1\\xa0 \\xec\\xb2\\x98\\xec\\x9d\\x8c \\xec\\xa0\\x91\\xed\\x95\\xb4\\xeb\\xb3\\xb4\\xeb\\x8a\\x94... \",\\n\\t\\t\\t\"bloggername\":\"\\xec\\x84\\xa4\\xeb\\xa0\\x88\\xec\\x9d\\xb4\\xeb\\x8a\\x94\\xec\\x98\\xa4\\xeb\\x8a\\x98\",\\n\\t\\t\\t\"bloggerlink\":\"https:\\\\/\\\\/blog.naver.com\\\\/beany99\",\\n\\t\\t\\t\"postdate\":\"20220614\"\\n\\t\\t},\\n\\t\\t{\\n\\t\\t\\t\"title\":\"<b>\\xed\\x8c\\x8c\\xec\\x9d\\xb4\\xec\\x8d\\xac<\\\\/b>\\xea\\xb0\\x95\\xec\\x9d\\x98 \\xec\\x9e\\x85\\xeb\\xac\\xb8\\xec\\x9e\\x90\\xec\\x9d\\x98 \\xed\\x95\\x99\\xec\\x8a\\xb5\\xea\\xb3\\xbc\\xec\\xa0\\x95\",\\n\\t\\t\\t\"link\":\"https:\\\\/\\\\/blog.naver.com\\\\/qghkfwjf?Redirect=Log&logNo=222774486771\",\\n\\t\\t\\t\"description\":\"<b>\\xed\\x8c\\x8c\\xec\\x9d\\xb4\\xec\\x8d\\xac<\\\\/b>\\xec\\x9d\\xb4\\xeb\\x9d\\xbc\\xeb\\x8a\\x94 \\xec\\x96\\xb8\\xec\\x96\\xb4\\xeb\\x8a\\x94 \\xed\\x94\\x84\\xeb\\xa1\\x9c\\xea\\xb7\\xb8\\xeb\\x9e\\xa8\\xeb\\xb0\\x8d \\xec\\x9e\\x85\\xeb\\xac\\xb8\\xec\\x9e\\x90\\xea\\xb0\\x80 \\xeb\\xa7\\x8e\\xec\\x9d\\xb4 \\xeb\\xb0\\xb0\\xec\\x9a\\xb0\\xeb\\x8a\\x94 \\xec\\x96\\xb8\\xec\\x96\\xb4 \\xec\\xa4\\x91 \\xed\\x95\\x98\\xeb\\x82\\x98\\xec\\x9d\\xb8\\xeb\\x8d\\xb0\\xec\\x9a\\x94. \\xec\\xa0\\x80\\xeb\\x8a\\x94 \\xeb\\xa8\\xb8\\xec\\x8b\\xa0\\xeb\\x9f\\xac\\xeb\\x8b\\x9d\\xea\\xb3\\xbc \\xeb\\x94\\xa5\\xeb\\x9f\\xac\\xeb\\x8b\\x9d\\xec\\x97\\x90 \\xea\\xb4\\x80\\xed\\x95\\xb4\\xec\\x84\\x9c \\xeb\\x8d\\x94\\xec\\x9a\\xb1 \\xec\\x9e\\x90\\xec\\x84\\xb8\\xed\\x9e\\x88 \\xec\\x95\\x8c\\xec\\x95\\x84\\xeb\\xb3\\xb4\\xea\\xb3\\xa0 \\xec\\x8b\\xb6\\xec\\x96\\xb4\\xec\\x84\\x9c <b>\\xed\\x8c\\x8c\\xec\\x9d\\xb4\\xec\\x8d\\xac<\\\\/b>\\xea\\xb0\\x95\\xec\\x9d\\x98\\xeb\\xa5\\xbc \\xec\\x88\\x98\\xea\\xb0\\x95\\xed\\x95\\x98\\xea\\xb2\\x8c \\xeb\\x90\\x90\\xec\\xa3\\xa0. \\xec\\xb2\\x98\\xec\\x9d\\x8c \\xed\\x94\\x84\\xeb\\xa1\\x9c\\xea\\xb7\\xb8\\xeb\\x9e\\x98\\xeb\\xb0\\x8d\\xec\\x9d\\x84 \\xeb\\xb0\\xb0\\xec\\x9a\\xb0\\xeb\\xa0\\xa4\\xea\\xb3\\xa0 \\xec\\x83\\x9d\\xea\\xb0\\x81\\xed\\x96\\x88\\xec\\x9d\\x84... \",\\n\\t\\t\\t\"bloggername\":\"\\xea\\xb0\\x80\\xeb\\x84\\xb9\\xec\\x9d\\xb4\\xeb\\x84\\xa4\",\\n\\t\\t\\t\"bloggerlink\":\"https:\\\\/\\\\/blog.naver.com\\\\/qghkfwjf\",\\n\\t\\t\\t\"postdate\":\"20220615\"\\n\\t\\t},\\n\\t\\t{\\n\\t\\t\\t\"title\":\"<b>\\xed\\x8c\\x8c\\xec\\x9d\\xb4\\xec\\x8d\\xac<\\\\/b>\\xed\\x95\\x99\\xec\\x9b\\x90 \\xea\\xb8\\xb0\\xeb\\xb3\\xb8 \\xed\\x94\\x84\\xeb\\xa1\\x9c\\xea\\xb7\\xb8\\xeb\\x9e\\x98\\xeb\\xb0\\x8d \\xed\\x95\\x99\\xec\\x8a\\xb5 \\xec\\xa0\\x88\\xec\\xb0\\xa8\",\\n\\t\\t\\t\"link\":\"https:\\\\/\\\\/blog.naver.com\\\\/sweety4338?Redirect=Log&logNo=222809775225\",\\n\\t\\t\\t\"description\":\"\\xea\\xb1\\xb8\\xeb\\xa7\\x9e\\xec\\x9d\\x80 <b>\\xed\\x8c\\x8c\\xec\\x9d\\xb4\\xec\\x8d\\xac<\\\\/b>\\xed\\x95\\x99\\xec\\x9b\\x90\\xec\\x9d\\x84 \\xec\\x97\\xbc\\xeb\\x91\\x90\\xec\\x97\\x90 \\xeb\\x91\\x90\\xea\\xb2\\x8c \\xeb\\x90\\x98\\xec\\x97\\x88\\xec\\xa3\\xa0. \\xec\\xa7\\xa7\\xec\\x9d\\x80 \\xec\\x8b\\x9c\\xea\\xb0\\x84 \\xec\\x86\\x8c\\xeb\\xaa\\xa8\\xeb\\xa1\\x9c\\xeb\\x8f\\x84 \\xec\\xb6\\xa9\\xeb\\xb6\\x84\\xed\\x9e\\x88 \\xea\\xb2\\xb0\\xea\\xb3\\xbc\\xeb\\xa5\\xbc \\xeb\\x82\\xbc \\xec\\x88\\x98 \\xec\\x9e\\x88\\xec\\x97\\x88\\xeb\\x8d\\x98 \\xea\\xb2\\x83\\xec\\x9d\\x80... \\xec\\x9e\\x90\\xec\\x97\\xb0\\xec\\x8a\\xa4\\xeb\\xa0\\x88 <b>\\xed\\x8c\\x8c\\xec\\x9d\\xb4\\xec\\x8d\\xac<\\\\/b>\\xed\\x95\\x99\\xec\\x9b\\x90\\xec\\x9d\\x84 \\xec\\xb0\\xbe\\xea\\xb2\\x8c \\xeb\\x90\\x98\\xec\\x97\\x88\\xec\\xa3\\xa0. \\xec\\x9d\\xb4 \\xeb\\xb6\\x84\\xec\\x95\\xbc\\xeb\\xa5\\xbc \\xeb\\x8b\\xa4\\xeb\\xa3\\xa8\\xeb\\x8a\\x94 \\xed\\x95\\x99\\xec\\x9b\\x90\\xec\\x9d\\xb4 \\xeb\\xa7\\x8e\\xec\\x95\\x84 \\xec\\x97\\xac\\xeb\\x9f\\xac \\xec\\xb0\\xa8\\xeb\\xa1\\x80\\xec\\x97\\x90 \\xea\\xb1\\xb8\\xec\\xb3\\x90 \\xec\\xb9\\xb4\\xec\\x9a\\xb4\\xec\\x8a\\xac\\xeb\\xa7\\x81\\xec\\x9d\\x84 \\xeb\\xb0\\x9b\\xec\\x9c\\xbc\\xeb\\xa9\\xb0... \",\\n\\t\\t\\t\"bloggername\":\"MY \\xec\\xa7\\x80\\xec\\x8b\\x9d@\",\\n\\t\\t\\t\"bloggerlink\":\"https:\\\\/\\\\/blog.naver.com\\\\/sweety4338\",\\n\\t\\t\\t\"postdate\":\"20220713\"\\n\\t\\t},\\n\\t\\t{\\n\\t\\t\\t\"title\":\"<b>\\xed\\x8c\\x8c\\xec\\x9d\\xb4\\xec\\x8d\\xac<\\\\/b>\\xea\\xb5\\x90\\xec\\x9c\\xa1 \\xed\\x95\\x84\\xec\\x88\\x98\\xea\\xb3\\xbc\\xeb\\xaa\\xa9 \\xec\\xb2\\xb4\\xea\\xb3\\x84\\xec\\xa0\\x81\\xec\\x9c\\xbc\\xeb\\xa1\\x9c \\xeb\\xb0\\xb0\\xec\\x9b\\x8c\\xeb\\xb3\\xb4\\xea\\xb8\\xb0\",\\n\\t\\t\\t\"link\":\"https:\\\\/\\\\/blog.naver.com\\\\/ddaemine?Redirect=Log&logNo=222833007550\",\\n\\t\\t\\t\"description\":\"\\xeb\\xb9\\xa0\\xeb\\xa5\\xb4\\xea\\xb3\\xa0 \\xed\\x9a\\xa8\\xec\\x9c\\xa8\\xec\\xa0\\x81\\xec\\x9c\\xbc\\xeb\\xa1\\x9c \\xeb\\xb0\\xb0\\xec\\x9a\\xb8 \\xec\\x88\\x98 \\xec\\x9e\\x88\\xeb\\x8a\\x94 \\xea\\xb3\\xbc\\xec\\xa0\\x95\\xec\\x9d\\xb4 \\xeb\\xad\\x90\\xea\\xb0\\x80 \\xec\\x9e\\x88\\xec\\x9d\\x84\\xea\\xb9\\x8c \\xea\\xb3\\xa0\\xeb\\xaf\\xbc\\xed\\x95\\x98\\xeb\\x8b\\xa4\\xea\\xb0\\x80 \\xeb\\xac\\xb8\\xea\\xb3\\xbc\\xeb\\x8a\\x94 <b>\\xed\\x8c\\x8c\\xec\\x9d\\xb4\\xec\\x8d\\xac<\\\\/b>\\xea\\xb5\\x90\\xec\\x9c\\xa1\\xeb\\xb6\\x80\\xed\\x84\\xb0 \\xec\\x8b\\x9c\\xec\\x9e\\x91\\xed\\x95\\x98\\xeb\\x8a\\x94 \\xea\\xb2\\x83\\xec\\x9d\\xb4... \\xeb\\x8c\\x80\\xeb\\xb6\\x80\\xeb\\xb6\\x84\\xec\\x9d\\x98 \\xed\\x95\\x99\\xea\\xb5\\x90\\xec\\x97\\x90\\xec\\x84\\x9c \\xed\\x95\\x84\\xec\\x88\\x98 \\xea\\xb3\\xbc\\xeb\\xaa\\xa9\\xec\\x9c\\xbc\\xeb\\xa1\\x9c <b>\\xed\\x8c\\x8c\\xec\\x9d\\xb4\\xec\\x8d\\xac<\\\\/b>\\xea\\xb5\\x90\\xec\\x9c\\xa1\\xec\\x9d\\x84 \\xeb\\x93\\xa4\\xec\\x96\\xb4\\xec\\x95\\xbc \\xed\\x95\\x98\\xeb\\x8a\\x94\\xeb\\x8d\\xb0 \\xec\\xa0\\x80\\xeb\\x8a\\x94 \\xea\\xb7\\xb8 \\xec\\x8b\\x9c\\xea\\xb8\\xb0\\xea\\xb0\\x80 \\xec\\x95\\x84\\xeb\\x8b\\x88\\xeb\\x9d\\xbc \\xeb\\x94\\xb0\\xeb\\xa1\\x9c \\xeb\\xb0\\xb0\\xec\\x9b\\x8c\\xec\\x95\\xbc... \",\\n\\t\\t\\t\"bloggername\":\"\\xeb\\x88\\x88 \\xeb\\x82\\xb4 \\xec\\x9c\\x84 \\xec\\x9d\\x98 \\xeb\\x9a\\x9d \\xeb\\x94\\xb1 \\xea\\xb3\\xb5 \\xec\\x9e\\x91 \\xec\\x86\\x8c\",\\n\\t\\t\\t\"bloggerlink\":\"https:\\\\/\\\\/blog.naver.com\\\\/ddaemine\",\\n\\t\\t\\t\"postdate\":\"20220728\"\\n\\t\\t},\\n\\t\\t{\\n\\t\\t\\t\"title\":\"<b>\\xed\\x8c\\x8c\\xec\\x9d\\xb4\\xec\\x8d\\xac<\\\\/b>\\xea\\xb8\\xb0\\xec\\xb4\\x88 \\xed\\x8f\\xad \\xeb\\x84\\x93\\xec\\x9d\\x80 \\xea\\xb0\\x9c\\xeb\\x85\\x90 \\xed\\x8c\\x8c\\xec\\x95\\x85\\xed\\x95\\x98\\xea\\xb8\\xb0\",\\n\\t\\t\\t\"link\":\"https:\\\\/\\\\/blog.naver.com\\\\/redsdains?Redirect=Log&logNo=222757634260\",\\n\\t\\t\\t\"description\":\"\\xec\\x9a\\x94\\xec\\xa6\\x98 <b>\\xed\\x8c\\x8c\\xec\\x9d\\xb4\\xec\\x8d\\xac<\\\\/b>\\xea\\xb8\\xb0\\xec\\xb4\\x88\\xea\\xb0\\x80 \\xea\\xb3\\x84\\xec\\x86\\x8d\\xed\\x95\\xb4\\xec\\x84\\x9c \\xeb\\x8c\\x80\\xeb\\x91\\x90\\xea\\xb0\\x80 \\xeb\\x90\\x98\\xeb\\x8a\\x94 \\xeb\\xa7\\x88\\xeb\\x8b\\xb9\\xec\\x97\\x90 \\xec\\xa0\\x80 \\xec\\x97\\xad\\xec\\x8b\\x9c\\xeb\\x8f\\x84 \\xed\\x98\\x84\\xec\\x9e\\xac JAVA\\xeb\\xa5\\xbc \\xeb\\xb0\\xb0\\xec\\x9a\\xb0\\xeb\\xa9\\xb4\\xec\\x84\\x9c \\xed\\x95\\xa8\\xea\\xbb\\x98 \\xec\\x9d\\xb4\\xeb\\xa5\\xbc \\xeb\\xb0\\xb0\\xec\\x9a\\xb0\\xea\\xb3\\xa0 \\xec\\x9e\\x88\\xec\\x96\\xb4\\xec\\x9a\\x94. IT \\xec\\xaa\\xbd\\xec\\x97\\x90\\xec\\x84\\x9c \\xec\\xa0\\x84\\xec\\x97\\x90\\xeb\\x8a\\x94 JAVA\\xea\\xb0\\x80 \\xea\\xb3\\x84\\xec\\x86\\x8d\\xed\\x95\\xb4\\xec\\x84\\x9c \\xeb\\xa7\\x8e\\xec\\x9d\\xb4 \\xec\\x82\\xac\\xec\\x9a\\xa9\\xeb\\x90\\x98\\xeb\\x8a\\x94 \\xec\\x96\\xb8\\xec\\x96\\xb4\\xeb\\xa1\\x9c 1\\xec\\x9c\\x84\\xeb\\xa5\\xbc \\xec\\xb0\\xa8\\xec\\xa7\\x80\\xed\\x95\\x98\\xea\\xb3\\xa0 \\xec\\x9e\\x88\\xec\\x97\\x88\\xec\\xa7\\x80\\xeb\\xa7\\x8c \\xec\\x93\\xb0\\xea\\xb8\\xb0 \\xed\\x8e\\xb8\\xed\\x95\\x9c <b>\\xed\\x8c\\x8c\\xec\\x9d\\xb4\\xec\\x8d\\xac<\\\\/b>\\xec\\x9d\\x84... \",\\n\\t\\t\\t\"bloggername\":\"\\xec\\x9e\\xac\\xeb\\xb0\\x8c\\xeb\\x8a\\x94 \\xeb\\xb8\\x94\\xeb\\xa1\\x9c\\xea\\xb7\\xb8\",\\n\\t\\t\\t\"bloggerlink\":\"https:\\\\/\\\\/blog.naver.com\\\\/redsdains\",\\n\\t\\t\\t\"postdate\":\"20220603\"\\n\\t\\t}\\n\\t]\\n}'"
            ]
          },
          "metadata": {},
          "execution_count": 5
        }
      ],
      "source": [
        "# 글자로 읽을 경우, decode utf-8로 설정\n",
        "response_body"
      ]
    },
    {
      "cell_type": "code",
      "execution_count": 6,
      "id": "e1e2382c",
      "metadata": {
        "colab": {
          "base_uri": "https://localhost:8080/"
        },
        "id": "e1e2382c",
        "outputId": "729dfd83-ee05-4f25-8e36-af0541a5233a"
      },
      "outputs": [
        {
          "output_type": "stream",
          "name": "stdout",
          "text": [
            "{\n",
            "\t\"lastBuildDate\":\"Tue, 09 Aug 2022 19:48:37 +0900\",\n",
            "\t\"total\":348387,\n",
            "\t\"start\":1,\n",
            "\t\"display\":10,\n",
            "\t\"items\":[\n",
            "\t\t{\n",
            "\t\t\t\"title\":\"<b>파이썬<\\/b>자격증 입문자 취업준비의 좋은선택\",\n",
            "\t\t\t\"link\":\"https:\\/\\/blog.naver.com\\/dambi85?Redirect=Log&logNo=222811274814\",\n",
            "\t\t\t\"description\":\"어떻게든 되겠지 하는 마음으로 우선은 <b>파이썬<\\/b>자격증을 취득해 보기로 했는데요. 빅데이터에서 기초가 되는 부분이 <b>파이썬<\\/b>이었기 때문에 우선적으로 한 번 배워보고 가능하면 자격증까지 취득하면 좋으니... \",\n",
            "\t\t\t\"bloggername\":\"마마 리사킴의 유쾌한 일상 이야기\",\n",
            "\t\t\t\"bloggerlink\":\"https:\\/\\/blog.naver.com\\/dambi85\",\n",
            "\t\t\t\"postdate\":\"20220714\"\n",
            "\t\t},\n",
            "\t\t{\n",
            "\t\t\t\"title\":\"<b>파이썬<\\/b> 자격증 확실한 취득방법\",\n",
            "\t\t\t\"link\":\"https:\\/\\/blog.naver.com\\/monoblue01?Redirect=Log&logNo=222818937808\",\n",
            "\t\t\t\"description\":\"바로 <b>파이썬<\\/b> 자격증입니다. 이유는 요즘 가장 흔하게 쓰이는 언어였고, 취업 시 있으면 도움되기 때문이었죠. AI와 빅데이터가 갑자기 인기가 많아지고 관심을 받으면서 자연스럽게 기초 코딩인 <b>파이썬<\\/b> 또한... \",\n",
            "\t\t\t\"bloggername\":\"루윙코치 교육정보&육아일상\",\n",
            "\t\t\t\"bloggerlink\":\"https:\\/\\/blog.naver.com\\/monoblue01\",\n",
            "\t\t\t\"postdate\":\"20220719\"\n",
            "\t\t},\n",
            "\t\t{\n",
            "\t\t\t\"title\":\"<b>파이썬<\\/b>교육 기초부터 실무 연습까지\",\n",
            "\t\t\t\"link\":\"https:\\/\\/blog.naver.com\\/kmisun8282?Redirect=Log&logNo=222836710981\",\n",
            "\t\t\t\"description\":\"또 최근에는 많은 성인분들도 코딩의 기본부터 세밀하게 배울 수 있는 <b>파이썬<\\/b>교육에 집중을 하고... 사실 코딩을 위한 교육은 꼭 <b>파이썬<\\/b>교육이 아니더라도 분야가 다양했는데 기본적으로 자바, C언어, 빅데이터... \",\n",
            "\t\t\t\"bloggername\":\"난장이 좋은 캠핑러\",\n",
            "\t\t\t\"bloggerlink\":\"https:\\/\\/blog.naver.com\\/kmisun8282\",\n",
            "\t\t\t\"postdate\":\"20220801\"\n",
            "\t\t},\n",
            "\t\t{\n",
            "\t\t\t\"title\":\"<b>파이썬<\\/b>학원 실습 위주의 수업이 포인트!\",\n",
            "\t\t\t\"link\":\"https:\\/\\/blog.naver.com\\/jeongok8602?Redirect=Log&logNo=222822655599\",\n",
            "\t\t\t\"description\":\"그래서 저도 진짜 이렇게는 안되겠다싶어서 더욱 늦기전에 <b>파이썬<\\/b>학원을 다녀보기로 마음 먹었어요.... 보통 <b>파이썬<\\/b>학원을 다니는 분들은 저처럼 초보자들이 많을거에요. 많은 개발 언어중에서 해당 언어만이... \",\n",
            "\t\t\t\"bloggername\":\"호박공주맘의 시시콜콜\",\n",
            "\t\t\t\"bloggerlink\":\"https:\\/\\/blog.naver.com\\/jeongok8602\",\n",
            "\t\t\t\"postdate\":\"20220721\"\n",
            "\t\t},\n",
            "\t\t{\n",
            "\t\t\t\"title\":\"<b>파이썬<\\/b>학원 초보자를 위한 교육과정\",\n",
            "\t\t\t\"link\":\"https:\\/\\/blog.naver.com\\/kkpa1002?Redirect=Log&logNo=222807750795\",\n",
            "\t\t\t\"description\":\"친구에게 여러 가지 질문을 한 끝에 <b>파이썬<\\/b>학원을 저도 다녀봐야겠다는 확신을 얻을 수 있었습니다.... 그래서 <b>파이썬<\\/b>학원을 검색하기 시작했습니다. 어떤 곳이 좋은지 몰랐기에 친구에게 물어봤는데요. 제가... \",\n",
            "\t\t\t\"bloggername\":\"최신 트랜드와 지식창고\",\n",
            "\t\t\t\"bloggerlink\":\"https:\\/\\/blog.naver.com\\/kkpa1002\",\n",
            "\t\t\t\"postdate\":\"20220711\"\n",
            "\t\t},\n",
            "\t\t{\n",
            "\t\t\t\"title\":\"<b>파이썬<\\/b> 강좌 다양한 예제 풀이 학습\",\n",
            "\t\t\t\"link\":\"https:\\/\\/blog.naver.com\\/beany99?Redirect=Log&logNo=222772758216\",\n",
            "\t\t\t\"description\":\"그러다가 IT 분야가 시간이 지나도 유용하게 쓰일 거라는 사실을 알고 난 뒤에는 <b>파이썬<\\/b>강좌 등록에 대해 고민해보게 됐어요. <b>파이썬<\\/b>은 초보자도 쉽게 공부할 수 있다는 것을 알았죠. 물론 처음 접해보는... \",\n",
            "\t\t\t\"bloggername\":\"설레이는오늘\",\n",
            "\t\t\t\"bloggerlink\":\"https:\\/\\/blog.naver.com\\/beany99\",\n",
            "\t\t\t\"postdate\":\"20220614\"\n",
            "\t\t},\n",
            "\t\t{\n",
            "\t\t\t\"title\":\"<b>파이썬<\\/b>강의 입문자의 학습과정\",\n",
            "\t\t\t\"link\":\"https:\\/\\/blog.naver.com\\/qghkfwjf?Redirect=Log&logNo=222774486771\",\n",
            "\t\t\t\"description\":\"<b>파이썬<\\/b>이라는 언어는 프로그램밍 입문자가 많이 배우는 언어 중 하나인데요. 저는 머신러닝과 딥러닝에 관해서 더욱 자세히 알아보고 싶어서 <b>파이썬<\\/b>강의를 수강하게 됐죠. 처음 프로그래밍을 배우려고 생각했을... \",\n",
            "\t\t\t\"bloggername\":\"가넹이네\",\n",
            "\t\t\t\"bloggerlink\":\"https:\\/\\/blog.naver.com\\/qghkfwjf\",\n",
            "\t\t\t\"postdate\":\"20220615\"\n",
            "\t\t},\n",
            "\t\t{\n",
            "\t\t\t\"title\":\"<b>파이썬<\\/b>학원 기본 프로그래밍 학습 절차\",\n",
            "\t\t\t\"link\":\"https:\\/\\/blog.naver.com\\/sweety4338?Redirect=Log&logNo=222809775225\",\n",
            "\t\t\t\"description\":\"걸맞은 <b>파이썬<\\/b>학원을 염두에 두게 되었죠. 짧은 시간 소모로도 충분히 결과를 낼 수 있었던 것은... 자연스레 <b>파이썬<\\/b>학원을 찾게 되었죠. 이 분야를 다루는 학원이 많아 여러 차례에 걸쳐 카운슬링을 받으며... \",\n",
            "\t\t\t\"bloggername\":\"MY 지식@\",\n",
            "\t\t\t\"bloggerlink\":\"https:\\/\\/blog.naver.com\\/sweety4338\",\n",
            "\t\t\t\"postdate\":\"20220713\"\n",
            "\t\t},\n",
            "\t\t{\n",
            "\t\t\t\"title\":\"<b>파이썬<\\/b>교육 필수과목 체계적으로 배워보기\",\n",
            "\t\t\t\"link\":\"https:\\/\\/blog.naver.com\\/ddaemine?Redirect=Log&logNo=222833007550\",\n",
            "\t\t\t\"description\":\"빠르고 효율적으로 배울 수 있는 과정이 뭐가 있을까 고민하다가 문과는 <b>파이썬<\\/b>교육부터 시작하는 것이... 대부분의 학교에서 필수 과목으로 <b>파이썬<\\/b>교육을 들어야 하는데 저는 그 시기가 아니라 따로 배워야... \",\n",
            "\t\t\t\"bloggername\":\"눈 내 위 의 뚝 딱 공 작 소\",\n",
            "\t\t\t\"bloggerlink\":\"https:\\/\\/blog.naver.com\\/ddaemine\",\n",
            "\t\t\t\"postdate\":\"20220728\"\n",
            "\t\t},\n",
            "\t\t{\n",
            "\t\t\t\"title\":\"<b>파이썬<\\/b>기초 폭 넓은 개념 파악하기\",\n",
            "\t\t\t\"link\":\"https:\\/\\/blog.naver.com\\/redsdains?Redirect=Log&logNo=222757634260\",\n",
            "\t\t\t\"description\":\"요즘 <b>파이썬<\\/b>기초가 계속해서 대두가 되는 마당에 저 역시도 현재 JAVA를 배우면서 함께 이를 배우고 있어요. IT 쪽에서 전에는 JAVA가 계속해서 많이 사용되는 언어로 1위를 차지하고 있었지만 쓰기 편한 <b>파이썬<\\/b>을... \",\n",
            "\t\t\t\"bloggername\":\"재밌는 블로그\",\n",
            "\t\t\t\"bloggerlink\":\"https:\\/\\/blog.naver.com\\/redsdains\",\n",
            "\t\t\t\"postdate\":\"20220603\"\n",
            "\t\t}\n",
            "\t]\n",
            "}\n"
          ]
        }
      ],
      "source": [
        "# 글자로 읽을 경우, decode utf-8로 설정\n",
        "print(response_body.decode('utf-8'))"
      ]
    },
    {
      "cell_type": "markdown",
      "id": "39aca0fd",
      "metadata": {
        "id": "39aca0fd"
      },
      "source": [
        "## 검색 : 책(book)"
      ]
    },
    {
      "cell_type": "code",
      "execution_count": null,
      "id": "8f078190",
      "metadata": {
        "id": "8f078190",
        "outputId": "a98c4a0c-01ac-4059-e4b6-163901446e17"
      },
      "outputs": [
        {
          "name": "stdout",
          "output_type": "stream",
          "text": [
            "{\n",
            "\t\"lastBuildDate\":\"Wed, 03 Aug 2022 18:54:59 +0900\",\n",
            "\t\"total\":756,\n",
            "\t\"start\":1,\n",
            "\t\"display\":10,\n",
            "\t\"items\":[\n",
            "\t\t{\n",
            "\t\t\t\"title\":\"파이썬 자동화 교과서 (업무 생산성을 3배 높이는 엑셀, 워드, 크롤링, 메일 자동화 기술)\",\n",
            "\t\t\t\"link\":\"https:\\/\\/search.shopping.naver.com\\/book\\/catalog\\/33275494626\",\n",
            "\t\t\t\"image\":\"https:\\/\\/shopping-phinf.pstatic.net\\/main_3327549\\/33275494626.20220716093824.jpg\",\n",
            "\t\t\t\"author\":\"구지라 히코즈쿠에\",\n",
            "\t\t\t\"discount\":\"24300\",\n",
            "\t\t\t\"publisher\":\"제이펍\",\n",
            "\t\t\t\"pubdate\":\"20220719\",\n",
            "\t\t\t\"isbn\":\"9791192469195\",\n",
            "\t\t\t\"description\":\"매일 지루하게 반복되는 작업, 이제 안녕 \\n정시 퇴근과 연봉 인상을 보장하는 파이썬 업무 자동화 기술\\n\\n사람이 종일 작업할 반복 업무를 프로그래밍을 이용하면 2시간 만에 끝낼 수 있다. 파이썬은 누구나 입문할 수 있는 프로그래밍 언어로, 이 책은 엑셀 데이터 처리 등 일상적인 업무를 파이썬으로 자동화하는 방법을 설명한다. 엑셀 파일 읽고 쓰기, 워드\\/PDF 저장 등 오피스 문서 자동화로 시작해서, 나아가 웹 브라우저에서 데이터 가져오기, 메일 전송, SNS 게시, 마우스\\/키보드 조작까지, 일과 삶을 편리하게 해주는 자동화 지식을 담았다. \\n\\n1장은 파이썬을 설치하고 간단한 코드를 돌려본다. 2장에서는 openpyxl 등으로 엑셀 파일을 열고 데이터를 읽고 쓰는 법, 그리고 셀 서식에 대해서 배운다. 3장은 좀 더 비즈니스 친화적인 내용으로 템플릿 양식 활용, 복수 파일 취합, 그리고 워드(python-docx)나 CSV와 엑셀을 연계하는 방법 등을 살펴본다. \\n\\n모든 것이 웹으로 이루어지는 오늘날 추세에 맞게, 4장은 뷰티풀 수프(bs4)와 requests를 이용한 웹 크롤링\\/스크레이핑을 다룬다. HTML\\/CSS\\/DOM을 이해하는 것은 물론, 셀레늄과 크롬드라이버로 동적 사이트를 조작하는 방법까지 제대로 배울 수 있다. 5장은 비즈니스에서 빼놓을 수 없는 메일 자동화로 시작한다. 파이썬으로 지메일, 아웃룩, 네이버 메일로 메일을 보내는 방법을 다룬다. 이어서 라인(LINE) 및 트위터 같은 SNS의 API를 이용해 게시물을 올리는 법을 다룬다. \\n\\n마지막 6장은 업무에 도움이 되는 추가적인 자동화 기술을 다룬다. 간단한 웹 서버 구축(플라스크)과 대화상자를 사용하는 데스크톱 앱 생성(PySimpleGUI)을 다루고, 매크로처럼 마우스와 키보드를 자동화(PyAutoGUI)하는 방법도 살펴본다. 부록으로는 파이썬 문법 핵심을 수록했다. \\n\\n거의 모든 예제에 대해 윈도우, 리눅스, macOS에서 모두 작동하는 예제 코드를 제공하며, 초심자도 이해할 수 있도록 코드마다 친절한 설명을 달았다. 특히 한국어판에서는 한국 실정에 맞지 않는 원서 예제나 코드를 모두 새롭게 작성하고 테스트했다. 여기에 엑셀 파일 등 실습에 사용할 샘플 데이터를 충분히 제공하므로, 입문자도 실습을 통해 파이썬을 익히고 자신의 업무에 적용할 수 있다. \\n\\n대상 독자\\n■ 프로그래밍으로 즐겁게 업무를 처리하고 싶은 분\\n■ 엑셀, 워드, 웹 브라우저 등을 이용하는 사무 관련 업무를 자동화하고 싶은 분\\n■ 업무 자동화의 핵심을 알고 싶은 분\"\n",
            "\t\t},\n",
            "\t\t{\n",
            "\t\t\t\"title\":\"혼자 공부하는 파이썬 (1:1 과외하듯 배우는 프로그래밍 자습서)\",\n",
            "\t\t\t\"link\":\"https:\\/\\/search.shopping.naver.com\\/book\\/catalog\\/32507605957\",\n",
            "\t\t\t\"image\":\"https:\\/\\/shopping-phinf.pstatic.net\\/main_3250760\\/32507605957.20220603093703.jpg\",\n",
            "\t\t\t\"author\":\"윤인성\",\n",
            "\t\t\t\"discount\":\"19800\",\n",
            "\t\t\t\"publisher\":\"한빛미디어\",\n",
            "\t\t\t\"pubdate\":\"20220601\",\n",
            "\t\t\t\"isbn\":\"9791162245651\",\n",
            "\t\t\t\"description\":\"『혼자 공부하는 파이썬』이 더욱 흥미있고 알찬 내용으로 개정되었습니다. 프로그래밍이 정말 처음인 입문자도 따라갈 수 있는 친절한 설명과 단계별 학습은 그대로! 혼자 공부하더라도 체계적으로 계획을 세워 학습할 수 있도록 ‘혼공 계획표’를 새롭게 추가했습니다. 또한 입문자가 자주 물어보는 질문과 오류 해결 방법을 적재적소에 배치하여 예상치 못한 문제에 부딪혀도 좌절하지 않고 끝까지 완독할 수 있도록 도와줍니다. 단순한 문법 암기와 코딩 따라하기에 지쳤다면, 새로운 혼공파와 함께 ‘누적 예제’와 ‘도전 문제’로 프로그래밍의 신세계를 경험해 보세요! 배운 내용을 씹고 뜯고 맛보고 즐기다 보면 응용력은 물론 알고리즘 사고력까지 키워 코딩 실력이 쑥쑥 성장할 것입니다.\\n\\n혼자 해도 충분하다! 1:1 과외하듯 배우는 파이썬 프로그래밍 자습서\\n이 책은 독학으로 파이썬을 배우는 입문자가 ‘꼭 필요한 내용을 제대로 학습’할 수 있도록 구성했습니다. 뭘 모르는지조차 모르는 입문자의 막연한 마음에 십분 공감하여 과외 선생님이 알려주듯 친절하게, 핵심적인 내용만 콕콕 집어줍니다. 책의 첫 페이지를 펼쳐서 마지막 페이지를 덮을 때까지, 혼자서도 충분히 파이썬을 배울 수 있다는 자신감과 확신이 계속될 것입니다!\\n\\n베타리더 검증으로, ‘함께 만든’ 입문자 맞춤형 도서\\n베타리더와 함께 입문자에게 맞는 난이도, 분량, 학습 요소 등을 적극 반영했습니다. 어려운 용어와 개념은 한 번 더 풀어쓰고, 복잡한 설명은 눈에 잘 들어오는 그림으로 풀어냈습니다. ‘혼자 공부해 본’ 여러 입문자의 초심과 눈높이가 책 곳곳에 반영된 것이 이 책의 가장 큰 장점입니다.\"\n",
            "\t\t},\n",
            "\t\t{\n",
            "\t\t\t\"title\":\"파이썬 머신러닝 완벽 가이드 (다양한 캐글 예제와 함께 기초 알고리즘부터 최신 기법까지 배우는)\",\n",
            "\t\t\t\"link\":\"https:\\/\\/search.shopping.naver.com\\/book\\/catalog\\/32485894885\",\n",
            "\t\t\t\"image\":\"https:\\/\\/shopping-phinf.pstatic.net\\/main_3248589\\/32485894885.20220527043735.jpg\",\n",
            "\t\t\t\"author\":\"권철민\",\n",
            "\t\t\t\"discount\":\"36000\",\n",
            "\t\t\t\"publisher\":\"위키북스\",\n",
            "\t\t\t\"pubdate\":\"20220421\",\n",
            "\t\t\t\"isbn\":\"9791158393229\",\n",
            "\t\t\t\"description\":\"자세한 이론 설명과 파이썬 실습을 통해 머신러닝을 완벽하게 배울 수 있습니다!\\n\\n《파이썬 머신러닝 완벽 가이드》는 이론 위주의 머신러닝 책에서 탈피해, 다양한 실전 예제를 직접 구현해 보면서 머신러닝을 체득할 수 있도록 만들었습니다. 캐글과 UCI 머신러닝 리포지토리에서 난이도가 있는 실습 데이터를 기반으로 실전 예제를 구성했고, XGBoost, LightGBM, 스태킹 기법 등 캐글의 많은 데이터 사이언스에서 애용하는 최신 알고리즘과 기법을 상세하게 설명했습니다.\\n\\n이번 개정2판에서는 최신 사이킷런 버전(1.0.2)을 포함해 책에서 사용되는 모든 라이브러리를 최신 버전으로 업그레이드한 실습 코드를 구현하고, 다양한 유형의 하이퍼파라미터를 가지는 XGBoost나 LightGBM 모델의 최적 하이퍼파라미터 튜닝을 위한 베이지안 최적화 기법 적용 실습을 제공합니다. 또한 머신러닝 관련 데이터 분석에 널리 쓰이는 시각화 라이브러리인 matplotlib과 seaborn의 활용법을 다룬 장을 새롭게 추가했습니다.\"\n",
            "\t\t},\n",
            "\t\t{\n",
            "\t\t\t\"title\":\"파이썬과 40개의 작품들 (자동화, 크롤링, 이미지처리, 데이터분석, 웹페이지, GUI 프로그램, 게임)\",\n",
            "\t\t\t\"link\":\"https:\\/\\/search.shopping.naver.com\\/book\\/catalog\\/32472041705\",\n",
            "\t\t\t\"image\":\"https:\\/\\/shopping-phinf.pstatic.net\\/main_3247204\\/32472041705.20220527090930.jpg\",\n",
            "\t\t\t\"author\":\"장문철\",\n",
            "\t\t\t\"discount\":\"16920\",\n",
            "\t\t\t\"publisher\":\"앤써북\",\n",
            "\t\t\t\"pubdate\":\"20220228\",\n",
            "\t\t\t\"isbn\":\"9791185553931\",\n",
            "\t\t\t\"description\":\"이 책은 내 업무와 생활에 바로 적용할 수 있는 40개의 프로그램을 직접 코딩해서 만들어보고, 동시에 파이썬을 자연스럽게 이해할 수 있게 구성하였다!\\n\\n파이썬 기초 문법 떼고 자동화, 크롤링, 이미지처리, 데이터분석, 웹페이지, GUI 프로그램, 게임, 인공지능 관련 40개 프로그램 직접 파이썬 코딩하며 만들어 본다.  \\n\\n이 책은 파이썬 기초 문법을 익힌 후 총 40개의 주제별 프로그램을 직접 코딩하며 만들어볼 수 있도록 구성하였다.\"\n",
            "\t\t},\n",
            "\t\t{\n",
            "\t\t\t\"title\":\"Do it! 쉽게 배우는 파이썬 데이터 분석 (데이터 분석 프로젝트 전 과정 수록!)\",\n",
            "\t\t\t\"link\":\"https:\\/\\/search.shopping.naver.com\\/book\\/catalog\\/32474211621\",\n",
            "\t\t\t\"image\":\"https:\\/\\/shopping-phinf.pstatic.net\\/main_3247421\\/32474211621.20220527075531.jpg\",\n",
            "\t\t\t\"author\":\"김영우\",\n",
            "\t\t\t\"discount\":\"20700\",\n",
            "\t\t\t\"publisher\":\"이지스퍼블리싱\",\n",
            "\t\t\t\"pubdate\":\"20220531\",\n",
            "\t\t\t\"isbn\":\"9791163033493\",\n",
            "\t\t\t\"description\":\"통계, 파이썬을 1도 몰라도 데이터를 혼자서 다룰 수 있다!\\n데이터 분석 프로젝트 전 과정 수록!\\n\\n데이터 분석 분야의 명강사이며 이 분야 베스트셀러 저자인 김영우 선생님의 강의가 책으로 나왔다. 통계, 프로그래밍, 데이터 분석을 전혀 몰라도 《Do it! 쉽게 배우는 파이썬 데이터 분석》을 통해 최근 주목받는 데이터 분석 기법을 재미있게 배울 수 있다. 데이터 분석에 필요한 파이썬 문법은 이 책에 나온 것만 보면 된다. 이 책은 데이터 정제, 가공, 분석부터 그래프 그리기까지 실제 현업에서 데이터 분석 프로젝트를 할 때와 같은 모든 과정을 직접 해볼 수 있다. 쉬운 예제부터 차근차근 실습하다 보면 문과생도 파이썬 코드에 익숙해지고, 끝에 가서는 자신만의 훌륭한 데이터 분석 프로젝트를 완수할 수 있다!\"\n",
            "\t\t},\n",
            "\t\t{\n",
            "\t\t\t\"title\":\"파이썬\",\n",
            "\t\t\t\"link\":\"https:\\/\\/search.shopping.naver.com\\/book\\/catalog\\/32460987987\",\n",
            "\t\t\t\"image\":\"https:\\/\\/shopping-phinf.pstatic.net\\/main_3246098\\/32460987987.20220527060746.jpg\",\n",
            "\t\t\t\"author\":\"홍의경\",\n",
            "\t\t\t\"discount\":\"28800\",\n",
            "\t\t\t\"publisher\":\"생능출판\",\n",
            "\t\t\t\"pubdate\":\"20220309\",\n",
            "\t\t\t\"isbn\":\"9788970506784\",\n",
            "\t\t\t\"description\":\"코딩 실력을 키우는 지름길은 실습이다.\\n\\n2008년 즈음에 검인정 중학교 교과서 정보1, 정보2, 정보3을 공저로 저술하였습니다. 그 당시에 8종류의 교과서가 검인정에 합격하였는데, 파이썬을 기반으로 하는 교과서가 2종류, C언어를 기반으로 하는 교과서가 2종류, 베이직을 기반으로 하는 교과서가 2종류, 스크래치를 기반으로 하는 교과서가 2종류였습니다.\\n\\n교육용 언어로 시작한 파이썬이 중학교 학생들이 비교적 쉽게 학습할 수 있는 프로그래밍 언어라고 생각했는데 10여년의 세월이 흐른 지금 파이썬이 활용되는 분야가 가히 폭발적으로 증가하였습니다. \\n\\n파이썬에 관한 쉽고 좋은 교재를 저술하기 위해서 인터넷에서 30,000페이지 이상의 자료를 찾아서 검토하였습니다. 어쩌면 파이썬이 첫 프로그래밍 언어일 본 교재의 독자들이 두려움 없이 파이썬을 기초부터 쉽게 공부하다가, 교재를 다 읽고 나면 “어느새 중급 수준에 도달했구나”라는 생각이 들도록  완성도 높은 교재를 목표로 하였습니다. \\n\\n입문자를 대상으로 하는 교재일수록 집필하는데 훨씬 더 많은 정성과 노력이 필요하다는 것을 잘 알고 있습니다. 개인적으로는 데이터베이스 전공교재를 저술할 때보다 몇 배 더 힘들었고, 공을 많이 들였습니다. \\n\\n원고를 버전 9까지 작성하는 동안 셀 수 없이 원고를 읽어보면서 꼭 필요하지 않은 문장은 삭제하고, 필요한 문장은 반드시 넣었습니다. 고등학교 검인정 교과서 1권, 중학교 검인정 교과서 3권, 데이터베이스 전공 교재 2권, 엑셀 교재 1권, 번역서 2권을 집필하면서 나름대로 한글을 정확하고 간결하게 표현하는데 자신이 있습니다.\"\n",
            "\t\t},\n",
            "\t\t{\n",
            "\t\t\t\"title\":\"CODING BASICS PYTHON (파이썬)\",\n",
            "\t\t\t\"link\":\"https:\\/\\/search.shopping.naver.com\\/book\\/catalog\\/32440944646\",\n",
            "\t\t\t\"image\":\"https:\\/\\/shopping-phinf.pstatic.net\\/main_3244094\\/32440944646.20220527033702.jpg\",\n",
            "\t\t\t\"author\":\"김상민^장성식^김일태\",\n",
            "\t\t\t\"discount\":\"18000\",\n",
            "\t\t\t\"publisher\":\"렉스미디어닷넷\",\n",
            "\t\t\t\"pubdate\":\"20220210\",\n",
            "\t\t\t\"isbn\":\"9788959604210\",\n",
            "\t\t\t\"description\":\"파이썬으로 다지는 프로그래밍의 기초\\n\\nㆍ 다양한 예제를 활용하여 초보자도 쉽게 프로그래밍의 기본을 익힐 수 있는 파이썬 입문서입니다.\\nㆍ 문법을 사전식으로 나열하지 않고 기능적인 프로그램을 하나씩 완성하면서 익힐 수 있게 구성했습니다.\\nㆍ 단계별로 완성하는 장별 예제 및 연습문제를 바탕으로 자신만의 프로그램을 완성할 수 있습니다.\"\n",
            "\t\t},\n",
            "\t\t{\n",
            "\t\t\t\"title\":\"새내기 파이썬\",\n",
            "\t\t\t\"link\":\"https:\\/\\/search.shopping.naver.com\\/book\\/catalog\\/33084056619\",\n",
            "\t\t\t\"image\":\"https:\\/\\/shopping-phinf.pstatic.net\\/main_3308405\\/33084056619.20220712094239.jpg\",\n",
            "\t\t\t\"author\":\"천인국\",\n",
            "\t\t\t\"discount\":\"29100\",\n",
            "\t\t\t\"publisher\":\"생능출판\",\n",
            "\t\t\t\"pubdate\":\"20220630\",\n",
            "\t\t\t\"isbn\":\"9788970505558\",\n",
            "\t\t\t\"description\":\"파이썬은 현재 가장 각광받는 언어라고 말할 수 있다. 최근에 인공지능이나 데이터 과학, 영상처리, 업무 자동화 분야는 파이썬으로 프로그램을 작성하는 것이 거의 표준으로 되어 있다. 해가 갈수록 각 분야에서 파이썬 활용이 폭발적으로 늘어나고 있다. 이 책은 다양한 전공의 학생들에게 파이썬을 소개하고, 해당 전공에서 파이썬을 활용하기 위한 목적으로 기획되었다. 이 책을 저술하면서 역점을 두었던 몇 가지는 다음과 같다.\\n\\nㆍ 파이썬 기초부터 심도 있는 내용까지를 다루려고 노력하였다.\\nㆍ 다양한 그림을 사용하여 내용을 쉽게 이해할 수 있도록 노력하였다.\\nㆍ 독자들이 흥미를 가질만한 예제(example)를 간추려서 제공하였다.\\nㆍ 독자들이 다양하게 변형시켜보고 실험할 수 있는 주제는 Lab으로 제공하였고 도전할 수 있는 주제를 제시하였다.\\nㆍ 독자들이 파이썬 기초를 학습한 후에, 다양한 라이브러리를 이용하여 작품을 만들 수 있도록 14장과 15장을 추가하였다. 14장에서는 데이터 과학을 위한 라이브러리들을 소개하였고 15장에서는 넘파이와 영상처리를 위한 라이브러리를 소개하였다.\"\n",
            "\t\t},\n",
            "\t\t{\n",
            "\t\t\t\"title\":\"파이썬 훈련소\",\n",
            "\t\t\t\"link\":\"https:\\/\\/search.shopping.naver.com\\/book\\/catalog\\/33700901627\",\n",
            "\t\t\t\"image\":\"https:\\/\\/shopping-phinf.pstatic.net\\/main_3370090\\/33700901627.20220726163112.jpg\",\n",
            "\t\t\t\"author\":\"북마크\",\n",
            "\t\t\t\"discount\":\"9300\",\n",
            "\t\t\t\"publisher\":\"부크크(bookk)\",\n",
            "\t\t\t\"pubdate\":\"20220719\",\n",
            "\t\t\t\"isbn\":\"9791137289482\",\n",
            "\t\t\t\"description\":\"코딩 왕초보도 인터렉티브 쉘을 통하여 쉽게 파이썬을 배울수 있도록 구성한 책이자 파이썬의 간단한 개념 설명과 직접 타이핑을 통해 빠르게 파이썬의 뼈대를 익히고, 형성해 주는 책이다.\"\n",
            "\t\t},\n",
            "\t\t{\n",
            "\t\t\t\"title\":\"파이썬 한권으로 끝내기: 데이터분석전문가(ADP) + 빅데이터분석기사 실기대비 (국가공인\\/국가기술 자격, 파이썬의 기초부터 심화까지 모두 잡는 핵심요약, 실제출제경향을 반영한 기출동형 모의고사 3회분)\",\n",
            "\t\t\t\"link\":\"https:\\/\\/search.shopping.naver.com\\/book\\/catalog\\/32441429060\",\n",
            "\t\t\t\"image\":\"https:\\/\\/shopping-phinf.pstatic.net\\/main_3244142\\/32441429060.20220527031733.jpg\",\n",
            "\t\t\t\"author\":\"데싸라면^빨간색 물고기^자투리코드\",\n",
            "\t\t\t\"discount\":\"17820\",\n",
            "\t\t\t\"publisher\":\"시대고시기획\",\n",
            "\t\t\t\"pubdate\":\"20220603\",\n",
            "\t\t\t\"isbn\":\"9791138321853\",\n",
            "\t\t\t\"description\":\"도서 특징\\n■ 한 권으로 데이터분석전문가는 물론 빅데이터분석기사 취득까지 한 번에!\\n■ 초보자도 쉽게 코드를 읽을 수 있는 ALL COLOR 구성!\\n■ 파이썬의 기초부터 심화까지 모두 잡는 핵심요약!\\n■ 데이터분석전문가ㆍ빅데이터분석기사 실제 합격자인 저자의 실전 Tip!\\n■ 최신 출제경향을 담은 기출동형 모의고사 3회분!\"\n",
            "\t\t}\n",
            "\t]\n",
            "}\n"
          ]
        }
      ],
      "source": [
        "# 네이버 검색 API예제는 블로그를 비롯 전문자료까지 호출방법이 동일하므로 blog검색만 대표로 예제를 올렸습니다.\n",
        "# 네이버 검색 Open API 예제 - 블로그 검색\n",
        "import os\n",
        "import sys\n",
        "import urllib.request\n",
        "\n",
        "client_id = \"WUyjcDpO9GnIR_W4rwlJ\"\n",
        "client_secret = \"RHOTnh1UPC\"\n",
        "\n",
        "encText = urllib.parse.quote(\"파이썬\")\n",
        "url = \"https://openapi.naver.com/v1/search/book?query=\" + encText # json 결과\n",
        "# url = \"https://openapi.naver.com/v1/search/blog.xml?query=\" + encText # xml 결과\n",
        "request = urllib.request.Request(url)\n",
        "request.add_header(\"X-Naver-Client-Id\",client_id)\n",
        "request.add_header(\"X-Naver-Client-Secret\",client_secret)\n",
        "response = urllib.request.urlopen(request)\n",
        "rescode = response.getcode()\n",
        "\n",
        "if(rescode==200):\n",
        "    response_body = response.read()\n",
        "    print(response_body.decode('utf-8'))\n",
        "else:\n",
        "    print(\"Error Code:\" + rescode)"
      ]
    },
    {
      "cell_type": "markdown",
      "id": "d4bfafe1",
      "metadata": {
        "id": "d4bfafe1"
      },
      "source": [
        "## 검색 : 영화(movie)"
      ]
    },
    {
      "cell_type": "code",
      "execution_count": null,
      "id": "a2db2b36",
      "metadata": {
        "id": "a2db2b36",
        "outputId": "193ab300-fc8e-47af-9b19-4bb23ea517ca"
      },
      "outputs": [
        {
          "name": "stdout",
          "output_type": "stream",
          "text": [
            "{\n",
            "\t\"lastBuildDate\":\"Wed, 03 Aug 2022 18:56:17 +0900\",\n",
            "\t\"total\":1,\n",
            "\t\"start\":1,\n",
            "\t\"display\":1,\n",
            "\t\"items\":[\n",
            "\t\t{\n",
            "\t\t\t\"title\":\"<b>파이썬<\\/b> 앤 가드\",\n",
            "\t\t\t\"link\":\"https:\\/\\/movie.naver.com\\/movie\\/bi\\/mi\\/basic.nhn?code=152070\",\n",
            "\t\t\t\"image\":\"https:\\/\\/ssl.pstatic.net\\/imgmovie\\/mdi\\/mit110\\/1520\\/152070_P01_145336.jpg\",\n",
            "\t\t\t\"subtitle\":\"PYTHON AND GUARD\",\n",
            "\t\t\t\"pubDate\":\"2015\",\n",
            "\t\t\t\"director\":\"안톤 디아코프|\",\n",
            "\t\t\t\"actor\":\"\",\n",
            "\t\t\t\"userRating\":\"0.00\"\n",
            "\t\t}\n",
            "\t]\n",
            "}\n"
          ]
        }
      ],
      "source": [
        "# 네이버 검색 API예제는 블로그를 비롯 전문자료까지 호출방법이 동일하므로 blog검색만 대표로 예제를 올렸습니다.\n",
        "# 네이버 검색 Open API 예제 - 블로그 검색\n",
        "import os\n",
        "import sys\n",
        "import urllib.request\n",
        "\n",
        "client_id = \"WUyjcDpO9GnIR_W4rwlJ\"\n",
        "client_secret = \"RHOTnh1UPC\"\n",
        "\n",
        "encText = urllib.parse.quote(\"파이썬\")\n",
        "url = \"https://openapi.naver.com/v1/search/movie?query=\" + encText # json 결과\n",
        "# url = \"https://openapi.naver.com/v1/search/blog.xml?query=\" + encText # xml 결과\n",
        "request = urllib.request.Request(url)\n",
        "request.add_header(\"X-Naver-Client-Id\",client_id)\n",
        "request.add_header(\"X-Naver-Client-Secret\",client_secret)\n",
        "response = urllib.request.urlopen(request)\n",
        "rescode = response.getcode()\n",
        "\n",
        "if(rescode==200):\n",
        "    response_body = response.read()\n",
        "    print(response_body.decode('utf-8'))\n",
        "else:\n",
        "    print(\"Error Code:\" + rescode)"
      ]
    },
    {
      "cell_type": "markdown",
      "id": "e786d11e",
      "metadata": {
        "id": "e786d11e"
      },
      "source": [
        "## 검색 : 카페(cafearticle)"
      ]
    },
    {
      "cell_type": "code",
      "execution_count": null,
      "id": "a54b46cd",
      "metadata": {
        "id": "a54b46cd",
        "outputId": "adbb4fec-e18f-4d0f-df94-b59594e9d81c"
      },
      "outputs": [
        {
          "name": "stdout",
          "output_type": "stream",
          "text": [
            "{\n",
            "\t\"lastBuildDate\":\"Wed, 03 Aug 2022 18:56:33 +0900\",\n",
            "\t\"total\":144454,\n",
            "\t\"start\":1,\n",
            "\t\"display\":10,\n",
            "\t\"items\":[\n",
            "\t\t{\n",
            "\t\t\t\"title\":\"<b>파이썬<\\/b> 중고책\",\n",
            "\t\t\t\"link\":\"http:\\/\\/cafe.naver.com\\/joonggonara\\/933333246\",\n",
            "\t\t\t\"description\":\"개인거래(판매), 판매중, 가격 12,345원, 직접결제(네이버페이 송금), <b>파이썬<\\/b> 중고책, 순번 제목 작가 출판사 등급 금액 1 <b>파이썬<\\/b> 코딩도장 남재윤 길벗 B 9,000 2 처음 시작하는 <b>파이썬<\\/b>(구판) 빌 루바노빅 한빛미디어 S... \",\n",
            "\t\t\t\"cafename\":\"중고나라\",\n",
            "\t\t\t\"cafeurl\":\"https:\\/\\/cafe.naver.com\\/joonggonara\"\n",
            "\t\t},\n",
            "\t\t{\n",
            "\t\t\t\"title\":\"R로 시작하든 <b>파이썬<\\/b>으로 시작하든 문제 없는 이유\",\n",
            "\t\t\t\"link\":\"http:\\/\\/cafe.naver.com\\/sqlpd\\/37043\",\n",
            "\t\t\t\"description\":\"<b>파이썬<\\/b> 판다스의 문법 R의 기본함수 문법으로 번역해 보면 간단합니다. -<b>파이썬<\\/b>: R df['a'] : d$a df.iloc[a:b,:] : d[a:b, ] df.iloc[d['a']&gt;3,:] : d[d$a&gt;3, ] 등등.. <b>파이썬<\\/b>의 판다스는 R의 기본 함수에 매칭된다고 볼 수... \",\n",
            "\t\t\t\"cafename\":\"데이터 전문가 포럼 (빅데이터분석기사...\",\n",
            "\t\t\t\"cafeurl\":\"https:\\/\\/cafe.naver.com\\/sqlpd\"\n",
            "\t\t},\n",
            "\t\t{\n",
            "\t\t\t\"title\":\"vscode <b>파이썬<\\/b> 질문입니다!!\",\n",
            "\t\t\t\"link\":\"http:\\/\\/cafe.naver.com\\/inmacbook\\/2554123\",\n",
            "\t\t\t\"description\":\"vscode에서 <b>파이썬<\\/b> 실행하면 저런 명령어로 실행이 되는데 제가 python3만 깔아놔서 그런지 python3로 실행하고 싶은데 저 pyhton을 python3으로 바꾸는방법 아시는분 계신가요 ? ㅠㅜ\",\n",
            "\t\t\t\"cafename\":\"맥 쓰는 사람들 [구 맥북을 쓰는 사람...\",\n",
            "\t\t\t\"cafeurl\":\"https:\\/\\/cafe.naver.com\\/inmacbook\"\n",
            "\t\t},\n",
            "\t\t{\n",
            "\t\t\t\"title\":\"[공부] <b>파이썬<\\/b> 컴퓨터 사양\",\n",
            "\t\t\t\"link\":\"http:\\/\\/cafe.naver.com\\/workee\\/1005330\",\n",
            "\t\t\t\"description\":\"제가 우선 <b>파이썬<\\/b> 공부부터 시작해서 SQL까지 공부해보려고 합니다 용도는 시장조사 및 데이터 분석 정도인데요 컴퓨터 고사양은 필요없고, 기본 사양정도면 된다는데 혹시 개발자 분들 혹은 저처럼 문돌이에 공부중이신... \",\n",
            "\t\t\t\"cafename\":\"직장인 탐구생활\",\n",
            "\t\t\t\"cafeurl\":\"https:\\/\\/cafe.naver.com\\/workee\"\n",
            "\t\t},\n",
            "\t\t{\n",
            "\t\t\t\"title\":\"<b>파이썬<\\/b> 재밌게 공부하는 방법 있나요\",\n",
            "\t\t\t\"link\":\"http:\\/\\/cafe.naver.com\\/daehakwon\\/102661\",\n",
            "\t\t\t\"description\":\"싶어서 <b>파이썬<\\/b> 공부하려는데 그냥 교재 사서 들여다보거나 유투브 따라가는 건 동기부여도 부족하고 재미도 없을 것 같더라구요 뭔가 목표 가지고 재밌게 공부할 방법 없을까요... 그리고 <b>파이썬<\\/b> 공부하신 분들 <b>파이썬<\\/b>은... \",\n",
            "\t\t\t\"cafename\":\"대학원 입학을 준비하는 사람들의 모임\",\n",
            "\t\t\t\"cafeurl\":\"https:\\/\\/cafe.naver.com\\/daehakwon\"\n",
            "\t\t},\n",
            "\t\t{\n",
            "\t\t\t\"title\":\"<b>파이썬<\\/b> 그리고 C언어\",\n",
            "\t\t\t\"link\":\"http:\\/\\/cafe.naver.com\\/mathall\\/2442055\",\n",
            "\t\t\t\"description\":\"아이가 명백한 이과성향이고 컴퓨터 쪽으로 관심이 많아 학원 다니며 <b>파이썬<\\/b>을 배우고 있고 거의 5개월 정도 걸렸네요. 이제 c언어 들어간다고 하는데 계속 쭉 해둔다면 괜찮을까.. 계속 고민되는 요즘입니다. 아무래도... \",\n",
            "\t\t\t\"cafename\":\"[상위1%카페] 대한민국 상위1% 교육정...\",\n",
            "\t\t\t\"cafeurl\":\"https:\\/\\/cafe.naver.com\\/mathall\"\n",
            "\t\t},\n",
            "\t\t{\n",
            "\t\t\t\"title\":\"<b>파이썬<\\/b> 중고책\",\n",
            "\t\t\t\"link\":\"http:\\/\\/cafe.naver.com\\/joonggonara\\/933430495\",\n",
            "\t\t\t\"description\":\"개인거래(판매), 판매중, 가격 12,345원, 직접결제(네이버페이 송금), <b>파이썬<\\/b> 중고책, 순번 제목 작가 출판사 등급 금액 1 <b>파이썬<\\/b> 코딩도장 남재윤 길벗 B 9,000 2 처음 시작하는 <b>파이썬<\\/b>(구판) 빌 루바노빅 한빛미디어 S... \",\n",
            "\t\t\t\"cafename\":\"중고나라\",\n",
            "\t\t\t\"cafeurl\":\"https:\\/\\/cafe.naver.com\\/joonggonara\"\n",
            "\t\t},\n",
            "\t\t{\n",
            "\t\t\t\"title\":\"<b>파이썬<\\/b> 중고책\",\n",
            "\t\t\t\"link\":\"http:\\/\\/cafe.naver.com\\/joonggonara\\/933507158\",\n",
            "\t\t\t\"description\":\"개인거래(판매), 판매중, 가격 12,345원, 직접결제(네이버페이 송금), <b>파이썬<\\/b> 중고책, 순번 제목 작가 출판사 등급 금액 1 <b>파이썬<\\/b> 코딩도장 남재윤 길벗 B 9,000 2 처음 시작하는 <b>파이썬<\\/b>(구판) 빌 루바노빅 한빛미디어 S... \",\n",
            "\t\t\t\"cafename\":\"중고나라\",\n",
            "\t\t\t\"cafeurl\":\"https:\\/\\/cafe.naver.com\\/joonggonara\"\n",
            "\t\t},\n",
            "\t\t{\n",
            "\t\t\t\"title\":\"<b>파이썬<\\/b> 질문\",\n",
            "\t\t\t\"link\":\"http:\\/\\/cafe.naver.com\\/sqlpd\\/36788\",\n",
            "\t\t\t\"description\":\"안녕하세요 <b>파이썬<\\/b>을 공부하고 있는데 if하고 ,input이 결합된 함수를 공부하고 있어요 근데, 책에서 하라는 대로 했고 input에 정수입력&gt;에 273이라고 썼는데 결과가 왜 이렇게 나오나요..?\",\n",
            "\t\t\t\"cafename\":\"데이터 전문가 포럼 (빅데이터분석기사...\",\n",
            "\t\t\t\"cafeurl\":\"https:\\/\\/cafe.naver.com\\/sqlpd\"\n",
            "\t\t},\n",
            "\t\t{\n",
            "\t\t\t\"title\":\"<b>파이썬<\\/b> netmiko 초보입니다!\",\n",
            "\t\t\t\"link\":\"http:\\/\\/cafe.naver.com\\/neteg\\/246512\",\n",
            "\t\t\t\"description\":\"우연히 <b>파이썬<\\/b> 자동화 보게 되었다가 <b>파이썬<\\/b> netmiko가 있다는 것을 보았습니다. <b>파이썬<\\/b> 아예 모르지만... 구글 검색해서 사람들이 올려놓은 것을 보면서 연습중입니다.... \",\n",
            "\t\t\t\"cafename\":\"네트워크 전문가 따라잡기 (IT 인프라...\",\n",
            "\t\t\t\"cafeurl\":\"https:\\/\\/cafe.naver.com\\/neteg\"\n",
            "\t\t}\n",
            "\t]\n",
            "}\n"
          ]
        }
      ],
      "source": [
        "# 네이버 검색 API예제는 블로그를 비롯 전문자료까지 호출방법이 동일하므로 blog검색만 대표로 예제를 올렸습니다.\n",
        "# 네이버 검색 Open API 예제 - 블로그 검색\n",
        "import os\n",
        "import sys\n",
        "import urllib.request\n",
        "\n",
        "client_id = \"WUyjcDpO9GnIR_W4rwlJ\"\n",
        "client_secret = \"RHOTnh1UPC\"\n",
        "\n",
        "encText = urllib.parse.quote(\"파이썬\")\n",
        "url = \"https://openapi.naver.com/v1/search/cafearticle?query=\" + encText # json 결과\n",
        "# url = \"https://openapi.naver.com/v1/search/blog.xml?query=\" + encText # xml 결과\n",
        "request = urllib.request.Request(url)\n",
        "request.add_header(\"X-Naver-Client-Id\",client_id)\n",
        "request.add_header(\"X-Naver-Client-Secret\",client_secret)\n",
        "response = urllib.request.urlopen(request)\n",
        "rescode = response.getcode()\n",
        "\n",
        "if(rescode==200):\n",
        "    response_body = response.read()\n",
        "    print(response_body.decode('utf-8'))\n",
        "else:\n",
        "    print(\"Error Code:\" + rescode)"
      ]
    },
    {
      "cell_type": "markdown",
      "id": "315285f3",
      "metadata": {
        "id": "315285f3"
      },
      "source": [
        "## 검색 : 쇼핑(shop)"
      ]
    },
    {
      "cell_type": "code",
      "execution_count": null,
      "id": "ec951bb8",
      "metadata": {
        "id": "ec951bb8",
        "outputId": "3e32b622-c5c6-4881-af9d-e4caa4e29c42"
      },
      "outputs": [
        {
          "name": "stdout",
          "output_type": "stream",
          "text": [
            "{\n",
            "\t\"lastBuildDate\":\"Wed, 03 Aug 2022 18:56:43 +0900\",\n",
            "\t\"total\":202990,\n",
            "\t\"start\":1,\n",
            "\t\"display\":10,\n",
            "\t\"items\":[\n",
            "\t\t{\n",
            "\t\t\t\"title\":\"국내제작 미니 반달 투웨이 숄더 크로스 호보백\",\n",
            "\t\t\t\"link\":\"https:\\/\\/search.shopping.naver.com\\/gate.nhn?id=22883016920\",\n",
            "\t\t\t\"image\":\"https:\\/\\/shopping-phinf.pstatic.net\\/main_2288301\\/22883016920.20200517143913.jpg\",\n",
            "\t\t\t\"lprice\":\"16900\",\n",
            "\t\t\t\"hprice\":\"\",\n",
            "\t\t\t\"mallName\":\"네이버\",\n",
            "\t\t\t\"productId\":\"22883016920\",\n",
            "\t\t\t\"productType\":\"1\",\n",
            "\t\t\t\"brand\":\"\",\n",
            "\t\t\t\"maker\":\"\",\n",
            "\t\t\t\"category1\":\"패션잡화\",\n",
            "\t\t\t\"category2\":\"여성가방\",\n",
            "\t\t\t\"category3\":\"크로스백\",\n",
            "\t\t\t\"category4\":\"\"\n",
            "\t\t},\n",
            "\t\t{\n",
            "\t\t\t\"title\":\"잘모이 셀리나 리얼 <b>파이톤<\\/b> 빅 토트백 LTZ-5216\",\n",
            "\t\t\t\"link\":\"https:\\/\\/search.shopping.naver.com\\/gate.nhn?id=29022581772\",\n",
            "\t\t\t\"image\":\"https:\\/\\/shopping-phinf.pstatic.net\\/main_2902258\\/29022581772.20210929033957.jpg\",\n",
            "\t\t\t\"lprice\":\"157990\",\n",
            "\t\t\t\"hprice\":\"\",\n",
            "\t\t\t\"mallName\":\"네이버\",\n",
            "\t\t\t\"productId\":\"29022581772\",\n",
            "\t\t\t\"productType\":\"1\",\n",
            "\t\t\t\"brand\":\"잘모이\",\n",
            "\t\t\t\"maker\":\"\",\n",
            "\t\t\t\"category1\":\"패션잡화\",\n",
            "\t\t\t\"category2\":\"여성가방\",\n",
            "\t\t\t\"category3\":\"토트백\",\n",
            "\t\t\t\"category4\":\"\"\n",
            "\t\t},\n",
            "\t\t{\n",
            "\t\t\t\"title\":\"셀리나 리얼 <b>파이톤<\\/b> 스마트백 LTZ-5217\",\n",
            "\t\t\t\"link\":\"https:\\/\\/search.shopping.naver.com\\/gate.nhn?id=29034170281\",\n",
            "\t\t\t\"image\":\"https:\\/\\/shopping-phinf.pstatic.net\\/main_2903417\\/29034170281.20210929210506.jpg\",\n",
            "\t\t\t\"lprice\":\"63500\",\n",
            "\t\t\t\"hprice\":\"\",\n",
            "\t\t\t\"mallName\":\"네이버\",\n",
            "\t\t\t\"productId\":\"29034170281\",\n",
            "\t\t\t\"productType\":\"1\",\n",
            "\t\t\t\"brand\":\"\",\n",
            "\t\t\t\"maker\":\"\",\n",
            "\t\t\t\"category1\":\"패션잡화\",\n",
            "\t\t\t\"category2\":\"여성가방\",\n",
            "\t\t\t\"category3\":\"토트백\",\n",
            "\t\t\t\"category4\":\"\"\n",
            "\t\t},\n",
            "\t\t{\n",
            "\t\t\t\"title\":\"사만사타바사 럭키 Lucky 미니백 15371MI68\",\n",
            "\t\t\t\"link\":\"https:\\/\\/search.shopping.naver.com\\/gate.nhn?id=24143307710\",\n",
            "\t\t\t\"image\":\"https:\\/\\/shopping-phinf.pstatic.net\\/main_2414330\\/24143307710.20211004002608.jpg\",\n",
            "\t\t\t\"lprice\":\"76120\",\n",
            "\t\t\t\"hprice\":\"\",\n",
            "\t\t\t\"mallName\":\"네이버\",\n",
            "\t\t\t\"productId\":\"24143307710\",\n",
            "\t\t\t\"productType\":\"1\",\n",
            "\t\t\t\"brand\":\"사만사타바사\",\n",
            "\t\t\t\"maker\":\"\",\n",
            "\t\t\t\"category1\":\"패션잡화\",\n",
            "\t\t\t\"category2\":\"여성가방\",\n",
            "\t\t\t\"category3\":\"크로스백\",\n",
            "\t\t\t\"category4\":\"\"\n",
            "\t\t},\n",
            "\t\t{\n",
            "\t\t\t\"title\":\"잘모이 298 000원 잘모이 셀리나 리얼 <b>파이톤<\\/b> 미니 토트백 ZA-4023\",\n",
            "\t\t\t\"link\":\"https:\\/\\/search.shopping.naver.com\\/gate.nhn?id=32629979250\",\n",
            "\t\t\t\"image\":\"https:\\/\\/shopping-phinf.pstatic.net\\/main_3262997\\/32629979250.20220528102857.jpg\",\n",
            "\t\t\t\"lprice\":\"135000\",\n",
            "\t\t\t\"hprice\":\"\",\n",
            "\t\t\t\"mallName\":\"네이버\",\n",
            "\t\t\t\"productId\":\"32629979250\",\n",
            "\t\t\t\"productType\":\"1\",\n",
            "\t\t\t\"brand\":\"잘모이\",\n",
            "\t\t\t\"maker\":\"\",\n",
            "\t\t\t\"category1\":\"패션잡화\",\n",
            "\t\t\t\"category2\":\"여성가방\",\n",
            "\t\t\t\"category3\":\"토트백\",\n",
            "\t\t\t\"category4\":\"\"\n",
            "\t\t},\n",
            "\t\t{\n",
            "\t\t\t\"title\":\"<b>파이톤<\\/b> 스퀘어 여성 크로스 백 체인 소가죽 여자 가방 자체제작\",\n",
            "\t\t\t\"link\":\"https:\\/\\/search.shopping.naver.com\\/gate.nhn?id=83469204127\",\n",
            "\t\t\t\"image\":\"https:\\/\\/shopping-phinf.pstatic.net\\/main_8346920\\/83469204127.jpg\",\n",
            "\t\t\t\"lprice\":\"153000\",\n",
            "\t\t\t\"hprice\":\"\",\n",
            "\t\t\t\"mallName\":\"빈톤드\",\n",
            "\t\t\t\"productId\":\"83469204127\",\n",
            "\t\t\t\"productType\":\"2\",\n",
            "\t\t\t\"brand\":\"\",\n",
            "\t\t\t\"maker\":\"\",\n",
            "\t\t\t\"category1\":\"패션잡화\",\n",
            "\t\t\t\"category2\":\"여성가방\",\n",
            "\t\t\t\"category3\":\"크로스백\",\n",
            "\t\t\t\"category4\":\"\"\n",
            "\t\t},\n",
            "\t\t{\n",
            "\t\t\t\"title\":\"나일론 프라다원단 반달 호보 크로스백\",\n",
            "\t\t\t\"link\":\"https:\\/\\/search.shopping.naver.com\\/gate.nhn?id=83292809213\",\n",
            "\t\t\t\"image\":\"https:\\/\\/shopping-phinf.pstatic.net\\/main_8329280\\/83292809213.jpg\",\n",
            "\t\t\t\"lprice\":\"11700\",\n",
            "\t\t\t\"hprice\":\"\",\n",
            "\t\t\t\"mallName\":\"무지막지\",\n",
            "\t\t\t\"productId\":\"83292809213\",\n",
            "\t\t\t\"productType\":\"2\",\n",
            "\t\t\t\"brand\":\"\",\n",
            "\t\t\t\"maker\":\"\",\n",
            "\t\t\t\"category1\":\"패션잡화\",\n",
            "\t\t\t\"category2\":\"여성가방\",\n",
            "\t\t\t\"category3\":\"크로스백\",\n",
            "\t\t\t\"category4\":\"\"\n",
            "\t\t},\n",
            "\t\t{\n",
            "\t\t\t\"title\":\"카바스토리에 카바스토리에 <b>파이톤<\\/b> 케일리 멀티백 CHK-5222\",\n",
            "\t\t\t\"link\":\"https:\\/\\/search.shopping.naver.com\\/gate.nhn?id=32352747520\",\n",
            "\t\t\t\"image\":\"https:\\/\\/shopping-phinf.pstatic.net\\/main_3235274\\/32352747520.20220516104420.jpg\",\n",
            "\t\t\t\"lprice\":\"170520\",\n",
            "\t\t\t\"hprice\":\"\",\n",
            "\t\t\t\"mallName\":\"네이버\",\n",
            "\t\t\t\"productId\":\"32352747520\",\n",
            "\t\t\t\"productType\":\"1\",\n",
            "\t\t\t\"brand\":\"\",\n",
            "\t\t\t\"maker\":\"\",\n",
            "\t\t\t\"category1\":\"패션잡화\",\n",
            "\t\t\t\"category2\":\"여성가방\",\n",
            "\t\t\t\"category3\":\"토트백\",\n",
            "\t\t\t\"category4\":\"\"\n",
            "\t\t},\n",
            "\t\t{\n",
            "\t\t\t\"title\":\"202U솔지빈티지1-잘모이리얼<b>파이톤<\\/b>백\",\n",
            "\t\t\t\"link\":\"https:\\/\\/search.shopping.naver.com\\/gate.nhn?id=33462094484\",\n",
            "\t\t\t\"image\":\"https:\\/\\/shopping-phinf.pstatic.net\\/main_3346209\\/33462094484.20220713112925.jpg\",\n",
            "\t\t\t\"lprice\":\"38700\",\n",
            "\t\t\t\"hprice\":\"\",\n",
            "\t\t\t\"mallName\":\"네이버\",\n",
            "\t\t\t\"productId\":\"33462094484\",\n",
            "\t\t\t\"productType\":\"1\",\n",
            "\t\t\t\"brand\":\"\",\n",
            "\t\t\t\"maker\":\"\",\n",
            "\t\t\t\"category1\":\"패션잡화\",\n",
            "\t\t\t\"category2\":\"여성가방\",\n",
            "\t\t\t\"category3\":\"토트백\",\n",
            "\t\t\t\"category4\":\"\"\n",
            "\t\t},\n",
            "\t\t{\n",
            "\t\t\t\"title\":\"스튜디오세라 소가죽 크로코 마이크로 플랩백 H20H633 블랙\",\n",
            "\t\t\t\"link\":\"https:\\/\\/search.shopping.naver.com\\/gate.nhn?id=82530160916\",\n",
            "\t\t\t\"image\":\"https:\\/\\/shopping-phinf.pstatic.net\\/main_8253016\\/82530160916.3.jpg\",\n",
            "\t\t\t\"lprice\":\"69700\",\n",
            "\t\t\t\"hprice\":\"\",\n",
            "\t\t\t\"mallName\":\"스튜디오 세라\",\n",
            "\t\t\t\"productId\":\"82530160916\",\n",
            "\t\t\t\"productType\":\"2\",\n",
            "\t\t\t\"brand\":\"\",\n",
            "\t\t\t\"maker\":\"\",\n",
            "\t\t\t\"category1\":\"패션잡화\",\n",
            "\t\t\t\"category2\":\"여성가방\",\n",
            "\t\t\t\"category3\":\"크로스백\",\n",
            "\t\t\t\"category4\":\"\"\n",
            "\t\t}\n",
            "\t]\n",
            "}\n"
          ]
        }
      ],
      "source": [
        "# 네이버 검색 API예제는 블로그를 비롯 전문자료까지 호출방법이 동일하므로 blog검색만 대표로 예제를 올렸습니다.\n",
        "# 네이버 검색 Open API 예제 - 블로그 검색\n",
        "import os\n",
        "import sys\n",
        "import urllib.request\n",
        "\n",
        "client_id = \"WUyjcDpO9GnIR_W4rwlJ\"\n",
        "client_secret = \"RHOTnh1UPC\"\n",
        "\n",
        "encText = urllib.parse.quote(\"파이썬\")\n",
        "url = \"https://openapi.naver.com/v1/search/shop?query=\" + encText # json 결과\n",
        "# url = \"https://openapi.naver.com/v1/search/blog.xml?query=\" + encText # xml 결과\n",
        "request = urllib.request.Request(url)\n",
        "request.add_header(\"X-Naver-Client-Id\",client_id)\n",
        "request.add_header(\"X-Naver-Client-Secret\",client_secret)\n",
        "response = urllib.request.urlopen(request)\n",
        "rescode = response.getcode()\n",
        "\n",
        "if(rescode==200):\n",
        "    response_body = response.read()\n",
        "    print(response_body.decode('utf-8'))\n",
        "else:\n",
        "    print(\"Error Code:\" + rescode)"
      ]
    },
    {
      "cell_type": "markdown",
      "id": "ff7dbb2e",
      "metadata": {
        "id": "ff7dbb2e"
      },
      "source": [
        "## 검색 : 백과사전(encyc)"
      ]
    },
    {
      "cell_type": "code",
      "execution_count": null,
      "id": "84ea9b02",
      "metadata": {
        "id": "84ea9b02",
        "outputId": "cf7e3506-809a-4fec-93b1-2073115fe08b"
      },
      "outputs": [
        {
          "name": "stdout",
          "output_type": "stream",
          "text": [
            "{\n",
            "\t\"lastBuildDate\":\"Wed, 03 Aug 2022 18:57:30 +0900\",\n",
            "\t\"total\":481,\n",
            "\t\"start\":1,\n",
            "\t\"display\":10,\n",
            "\t\"items\":[\n",
            "\t\t{\n",
            "\t\t\t\"title\":\"<b>파이썬<\\/b>\",\n",
            "\t\t\t\"link\":\"https:\\/\\/terms.naver.com\\/entry.naver?docId=3580815&cid=59088&categoryId=59096\",\n",
            "\t\t\t\"description\":\"‘<b>파이썬<\\/b>’이다. 간결한 문법으로 입문자가 이해하기 쉽고, 다양한 분야에 활용할 수 있기 때문이다. 이 외에도 <b>파이썬<\\/b>은 머신러닝, 그래픽, 웹 개발 등 여러 업계에서 선호하는 언어로 꾸준히... \",\n",
            "\t\t\t\"thumbnail\":\"http:\\/\\/openapi-dbscthumb.phinf.naver.net\\/4749_000_1\\/20170118193349632_0CHSSS5Y6.png\\/01_16.png?type=m160_160\"\n",
            "\t\t},\n",
            "\t\t{\n",
            "\t\t\t\"title\":\"<b>파이썬<\\/b>\",\n",
            "\t\t\t\"link\":\"https:\\/\\/terms.naver.com\\/entry.naver?docId=3607513&cid=58598&categoryId=59316\",\n",
            "\t\t\t\"description\":\" 컴퓨터 언어의 일종으로 간결하고 생산성 높은 프로그래밍 언어.  <b>파이썬<\\/b>(python)은 프로그램을 설계하는 프로그래밍 언어 중 하나입니다. 컴퓨터는 0과 1을(이진수) 인식하여 작동하기 때문에 과거에는... \",\n",
            "\t\t\t\"thumbnail\":\"http:\\/\\/openapi-dbscthumb.phinf.naver.net\\/4751_000_3\\/20170710213206672_OPHLG2VOW.jpg\\/992_170575_10034.jpg?type=m160_160\"\n",
            "\t\t},\n",
            "\t\t{\n",
            "\t\t\t\"title\":\"<b>파이썬<\\/b>\",\n",
            "\t\t\t\"link\":\"https:\\/\\/terms.naver.com\\/entry.naver?docId=3533295&cid=40942&categoryId=32838\",\n",
            "\t\t\t\"description\":\" 오픈소스 고급 프로그래밍 언어 중 하나이다.  C언어를 기반으로 한 오픈소스 고급 프로그래밍 언어로, 1991년 귀도 반 로섬(Guido van Rossum)에 의해 설계 및 개발되었다. <b>파이썬<\\/b>이라는 이름은 <b>파이썬<\\/b>을... \",\n",
            "\t\t\t\"thumbnail\":\"\"\n",
            "\t\t},\n",
            "\t\t{\n",
            "\t\t\t\"title\":\"<b>파이썬<\\/b>\",\n",
            "\t\t\t\"link\":\"https:\\/\\/ko.wikipedia.org\\/wiki\\/%ED%8C%8C%EC%9D%B4%EC%8D%AC\",\n",
            "\t\t\t\"description\":\"<b>파이썬<\\/b> ( 영어: Python )은 1991년 네덜란드계 프로그래머인 귀도 반 로섬이 발표한 고급 프로그래밍 언어로, 플랫폼에 독립적이며 인터프리터식, 객체지향적, 동적 타이핑(dynamically typed) 대화형... \",\n",
            "\t\t\t\"thumbnail\":\"\"\n",
            "\t\t},\n",
            "\t\t{\n",
            "\t\t\t\"title\":\"C<b>파이썬<\\/b>\",\n",
            "\t\t\t\"link\":\"https:\\/\\/ko.wikipedia.org\\/wiki\\/C%ED%8C%8C%EC%9D%B4%EC%8D%AC\",\n",
            "\t\t\t\"description\":\"C<b>파이썬<\\/b> (CPython)은 <b>파이썬<\\/b> 프로그래밍 언어의 참조 구현체이다. C와 <b>파이썬<\\/b>으로 작성된 C<b>파이썬<\\/b>은 이 언어에 가장 널리 사용되는 기본 구현체이다. C<b>파이썬<\\/b>은 인터프리트 과정 이전에 <b>파이썬<\\/b> 코드를... \",\n",
            "\t\t\t\"thumbnail\":\"\"\n",
            "\t\t},\n",
            "\t\t{\n",
            "\t\t\t\"title\":\"바이오<b>파이썬<\\/b>\",\n",
            "\t\t\t\"link\":\"https:\\/\\/ko.wikipedia.org\\/wiki\\/%EB%B0%94%EC%9D%B4%EC%98%A4%ED%8C%8C%EC%9D%B4%EC%8D%AC\",\n",
            "\t\t\t\"description\":\"바이오<b>파이썬<\\/b> (Biopython) 프로젝트는 분자생물학 계산에 자유롭게 사용하기 위한 <b>파이썬<\\/b> 라이브러리 구축 프로젝트이다. 같이 보기 바이오자바 바이오펄 외부 링크 biopython.org\",\n",
            "\t\t\t\"thumbnail\":\"\"\n",
            "\t\t},\n",
            "\t\t{\n",
            "\t\t\t\"title\":\"<b>파이썬<\\/b>애니웨어\",\n",
            "\t\t\t\"link\":\"https:\\/\\/ko.wikipedia.org\\/wiki\\/%ED%8C%8C%EC%9D%B4%EC%8D%AC%EC%95%A0%EB%8B%88%EC%9B%A8%EC%96%B4\",\n",
            "\t\t\t\"description\":\"<b>파이썬<\\/b>애니웨어 (PythonAnywhere)는 <b>파이썬<\\/b> 프로그래밍 언어 기반의 웹 호스팅 서비스(서비스형 플랫폼)이자 온라인 통합 개발 환경이다. 2012년에 Giles Thomas와 Robert Smithson이 설립했으며 서버... \",\n",
            "\t\t\t\"thumbnail\":\"\"\n",
            "\t\t},\n",
            "\t\t{\n",
            "\t\t\t\"title\":\"<b>파이썬<\\/b>의 역사\",\n",
            "\t\t\t\"link\":\"https:\\/\\/ko.wikipedia.org\\/wiki\\/%ED%8C%8C%EC%9D%B4%EC%8D%AC%EC%9D%98_%EC%97%AD%EC%82%AC\",\n",
            "\t\t\t\"description\":\"프로그래밍 언어 <b>파이썬<\\/b>은 1980년대 말에 구상되었으며 그 구현체는 1989년 12월 예외 처리가 가능하고 아메바 운영 체제와 통신이 가능한 ABC의 후속 프로그래밍 언어로서 CWI(Centrum Wiskunde... \",\n",
            "\t\t\t\"thumbnail\":\"\"\n",
            "\t\t},\n",
            "\t\t{\n",
            "\t\t\t\"title\":\"아나콘다 (<b>파이썬<\\/b> 배포판)\",\n",
            "\t\t\t\"link\":\"https:\\/\\/ko.wikipedia.org\\/wiki\\/%EC%95%84%EB%82%98%EC%BD%98%EB%8B%A4_(%ED%8C%8C%EC%9D%B4%EC%8D%AC_%EB%B0%B0%ED%8F%AC%ED%8C%90)\",\n",
            "\t\t\t\"description\":\"아나콘다 (Anaconda)는 패키지 관리와 디플로이를 단순케 할 목적으로 과학 계산(데이터 과학, 기계 학습 애플리케이션, 대규모 데이터 처리, 예측 분석 등)을 위한 <b>파이썬<\\/b>과 R 프로그래밍 언어의 자유... \",\n",
            "\t\t\t\"thumbnail\":\"\"\n",
            "\t\t},\n",
            "\t\t{\n",
            "\t\t\t\"title\":\"<b>파이썬<\\/b> 소프트웨어 재단\",\n",
            "\t\t\t\"link\":\"https:\\/\\/ko.wikipedia.org\\/wiki\\/%ED%8C%8C%EC%9D%B4%EC%8D%AC_%EC%86%8C%ED%94%84%ED%8A%B8%EC%9B%A8%EC%96%B4_%EC%9E%AC%EB%8B%A8\",\n",
            "\t\t\t\"description\":\"<b>파이썬<\\/b> 소프트웨어 재단 (Python Software Foundation, PSF)은 <b>파이썬<\\/b> 프로그래밍 언어에 헌신하는 비영리 단체로서, 2001년 3월 6일 런칭했다. 이 단체의 임무는 <b>파이썬<\\/b> 공동체의 개발을 발전시키고... \",\n",
            "\t\t\t\"thumbnail\":\"\"\n",
            "\t\t}\n",
            "\t]\n",
            "}\n"
          ]
        }
      ],
      "source": [
        "# 네이버 검색 API예제는 블로그를 비롯 전문자료까지 호출방법이 동일하므로 blog검색만 대표로 예제를 올렸습니다.\n",
        "# 네이버 검색 Open API 예제 - 블로그 검색\n",
        "import os\n",
        "import sys\n",
        "import urllib.request\n",
        "\n",
        "client_id = \"WUyjcDpO9GnIR_W4rwlJ\"\n",
        "client_secret = \"RHOTnh1UPC\"\n",
        "\n",
        "encText = urllib.parse.quote(\"파이썬\")\n",
        "url = \"https://openapi.naver.com/v1/search/encyc?query=\" + encText # json 결과\n",
        "# url = \"https://openapi.naver.com/v1/search/blog.xml?query=\" + encText # xml 결과\n",
        "request = urllib.request.Request(url)\n",
        "request.add_header(\"X-Naver-Client-Id\",client_id)\n",
        "request.add_header(\"X-Naver-Client-Secret\",client_secret)\n",
        "response = urllib.request.urlopen(request)\n",
        "rescode = response.getcode()\n",
        "\n",
        "if(rescode==200):\n",
        "    response_body = response.read()\n",
        "    print(response_body.decode('utf-8'))\n",
        "else:\n",
        "    print(\"Error Code:\" + rescode)"
      ]
    },
    {
      "cell_type": "markdown",
      "source": [
        "# 실습"
      ],
      "metadata": {
        "id": "3UijT28EOMvd"
      },
      "id": "3UijT28EOMvd"
    },
    {
      "cell_type": "markdown",
      "source": [
        "## 몰스킨"
      ],
      "metadata": {
        "id": "RUSWdBFGOO00"
      },
      "id": "RUSWdBFGOO00"
    },
    {
      "cell_type": "code",
      "execution_count": 1,
      "id": "c9e12749",
      "metadata": {
        "colab": {
          "base_uri": "https://localhost:8080/"
        },
        "id": "c9e12749",
        "outputId": "4c67e0be-f2e8-480d-f505-7dd87f74c66f"
      },
      "outputs": [
        {
          "output_type": "stream",
          "name": "stdout",
          "text": [
            "{\n",
            "\t\"lastBuildDate\":\"Tue, 09 Aug 2022 21:22:26 +0900\",\n",
            "\t\"total\":24408,\n",
            "\t\"start\":1,\n",
            "\t\"display\":10,\n",
            "\t\"items\":[\n",
            "\t\t{\n",
            "\t\t\t\"title\":\"<b>몰스킨<\\/b> 클래식 노트 소프트커버 도트 포켓 머틀그린\",\n",
            "\t\t\t\"link\":\"https:\\/\\/search.shopping.naver.com\\/gate.nhn?id=24014924801\",\n",
            "\t\t\t\"image\":\"https:\\/\\/shopping-phinf.pstatic.net\\/main_2401492\\/24014924801.20200903021703.jpg\",\n",
            "\t\t\t\"lprice\":\"20760\",\n",
            "\t\t\t\"hprice\":\"\",\n",
            "\t\t\t\"mallName\":\"네이버\",\n",
            "\t\t\t\"productId\":\"24014924801\",\n",
            "\t\t\t\"productType\":\"1\",\n",
            "\t\t\t\"brand\":\"몰스킨\",\n",
            "\t\t\t\"maker\":\"몰스킨\",\n",
            "\t\t\t\"category1\":\"생활\\/건강\",\n",
            "\t\t\t\"category2\":\"문구\\/사무용품\",\n",
            "\t\t\t\"category3\":\"노트\\/수첩\",\n",
            "\t\t\t\"category4\":\"노트\"\n",
            "\t\t},\n",
            "\t\t{\n",
            "\t\t\t\"title\":\"<b>몰스킨<\\/b> 클래식노트 익스팬디드 소프트커버 사파이어블루\",\n",
            "\t\t\t\"link\":\"https:\\/\\/search.shopping.naver.com\\/gate.nhn?id=26369214932\",\n",
            "\t\t\t\"image\":\"https:\\/\\/shopping-phinf.pstatic.net\\/main_2636921\\/26369214932.20210315185812.jpg\",\n",
            "\t\t\t\"lprice\":\"19410\",\n",
            "\t\t\t\"hprice\":\"\",\n",
            "\t\t\t\"mallName\":\"네이버\",\n",
            "\t\t\t\"productId\":\"26369214932\",\n",
            "\t\t\t\"productType\":\"1\",\n",
            "\t\t\t\"brand\":\"몰스킨\",\n",
            "\t\t\t\"maker\":\"몰스킨\",\n",
            "\t\t\t\"category1\":\"생활\\/건강\",\n",
            "\t\t\t\"category2\":\"문구\\/사무용품\",\n",
            "\t\t\t\"category3\":\"노트\\/수첩\",\n",
            "\t\t\t\"category4\":\"노트\"\n",
            "\t\t},\n",
            "\t\t{\n",
            "\t\t\t\"title\":\"<b>몰스킨<\\/b> 2023 위클리 18개월 다이어리 소프트커버 포켓 색상선택\",\n",
            "\t\t\t\"link\":\"https:\\/\\/search.shopping.naver.com\\/gate.nhn?id=32457903283\",\n",
            "\t\t\t\"image\":\"https:\\/\\/shopping-phinf.pstatic.net\\/main_3245790\\/32457903283.20220521025804.jpg\",\n",
            "\t\t\t\"lprice\":\"28000\",\n",
            "\t\t\t\"hprice\":\"\",\n",
            "\t\t\t\"mallName\":\"네이버\",\n",
            "\t\t\t\"productId\":\"32457903283\",\n",
            "\t\t\t\"productType\":\"1\",\n",
            "\t\t\t\"brand\":\"몰스킨\",\n",
            "\t\t\t\"maker\":\"몰스킨\",\n",
            "\t\t\t\"category1\":\"생활\\/건강\",\n",
            "\t\t\t\"category2\":\"문구\\/사무용품\",\n",
            "\t\t\t\"category3\":\"다이어리\\/플래너\",\n",
            "\t\t\t\"category4\":\"다이어리\"\n",
            "\t\t},\n",
            "\t\t{\n",
            "\t\t\t\"title\":\"<b>몰스킨<\\/b> 다이어리 수첩 데일리 위클리 파인그린 레몬옐로우 룰드\",\n",
            "\t\t\t\"link\":\"https:\\/\\/search.shopping.naver.com\\/gate.nhn?id=29246808093\",\n",
            "\t\t\t\"image\":\"https:\\/\\/shopping-phinf.pstatic.net\\/main_2924680\\/29246808093.20211015235402.jpg\",\n",
            "\t\t\t\"lprice\":\"9300\",\n",
            "\t\t\t\"hprice\":\"\",\n",
            "\t\t\t\"mallName\":\"네이버\",\n",
            "\t\t\t\"productId\":\"29246808093\",\n",
            "\t\t\t\"productType\":\"1\",\n",
            "\t\t\t\"brand\":\"\",\n",
            "\t\t\t\"maker\":\"몰스킨\",\n",
            "\t\t\t\"category1\":\"생활\\/건강\",\n",
            "\t\t\t\"category2\":\"문구\\/사무용품\",\n",
            "\t\t\t\"category3\":\"다이어리\\/플래너\",\n",
            "\t\t\t\"category4\":\"다이어리\"\n",
            "\t\t},\n",
            "\t\t{\n",
            "\t\t\t\"title\":\"<b>몰스킨<\\/b> 노트 가죽 하드커버 각인 감성 고급 명품 업무용 이쁜 심플\",\n",
            "\t\t\t\"link\":\"https:\\/\\/search.shopping.naver.com\\/gate.nhn?id=82526953942\",\n",
            "\t\t\t\"image\":\"https:\\/\\/shopping-phinf.pstatic.net\\/main_8252695\\/82526953942.7.jpg\",\n",
            "\t\t\t\"lprice\":\"24900\",\n",
            "\t\t\t\"hprice\":\"\",\n",
            "\t\t\t\"mallName\":\"베스트펜\",\n",
            "\t\t\t\"productId\":\"82526953942\",\n",
            "\t\t\t\"productType\":\"2\",\n",
            "\t\t\t\"brand\":\"몰스킨\",\n",
            "\t\t\t\"maker\":\"\",\n",
            "\t\t\t\"category1\":\"생활\\/건강\",\n",
            "\t\t\t\"category2\":\"문구\\/사무용품\",\n",
            "\t\t\t\"category3\":\"노트\\/수첩\",\n",
            "\t\t\t\"category4\":\"노트\"\n",
            "\t\t},\n",
            "\t\t{\n",
            "\t\t\t\"title\":\"[<b>몰스킨<\\/b>] 2022-23년 18개월 다이어리(데일리, 위클리, 먼슬리, 한정판)\",\n",
            "\t\t\t\"link\":\"https:\\/\\/search.shopping.naver.com\\/gate.nhn?id=32235666548\",\n",
            "\t\t\t\"image\":\"https:\\/\\/shopping-phinf.pstatic.net\\/main_3223566\\/32235666548.1.jpg\",\n",
            "\t\t\t\"lprice\":\"28000\",\n",
            "\t\t\t\"hprice\":\"\",\n",
            "\t\t\t\"mallName\":\"몰스킨공식온라인스토어\",\n",
            "\t\t\t\"productId\":\"32235666548\",\n",
            "\t\t\t\"productType\":\"2\",\n",
            "\t\t\t\"brand\":\"몰스킨\",\n",
            "\t\t\t\"maker\":\"\",\n",
            "\t\t\t\"category1\":\"생활\\/건강\",\n",
            "\t\t\t\"category2\":\"문구\\/사무용품\",\n",
            "\t\t\t\"category3\":\"다이어리\\/플래너\",\n",
            "\t\t\t\"category4\":\"다이어리\"\n",
            "\t\t},\n",
            "\t\t{\n",
            "\t\t\t\"title\":\"<b>몰스킨<\\/b> 클래식 노트 소프트커버 룰드 라지 리프블루\",\n",
            "\t\t\t\"link\":\"https:\\/\\/search.shopping.naver.com\\/gate.nhn?id=24017041588\",\n",
            "\t\t\t\"image\":\"https:\\/\\/shopping-phinf.pstatic.net\\/main_2401704\\/24017041588.20200903044334.jpg\",\n",
            "\t\t\t\"lprice\":\"19650\",\n",
            "\t\t\t\"hprice\":\"\",\n",
            "\t\t\t\"mallName\":\"네이버\",\n",
            "\t\t\t\"productId\":\"24017041588\",\n",
            "\t\t\t\"productType\":\"1\",\n",
            "\t\t\t\"brand\":\"몰스킨\",\n",
            "\t\t\t\"maker\":\"몰스킨\",\n",
            "\t\t\t\"category1\":\"생활\\/건강\",\n",
            "\t\t\t\"category2\":\"문구\\/사무용품\",\n",
            "\t\t\t\"category3\":\"다이어리\\/플래너\",\n",
            "\t\t\t\"category4\":\"다이어리\"\n",
            "\t\t},\n",
            "\t\t{\n",
            "\t\t\t\"title\":\"<b>몰스킨<\\/b> 2023 위클리 18개월 다이어리 소프트커버 라지 색상선택\",\n",
            "\t\t\t\"link\":\"https:\\/\\/search.shopping.naver.com\\/gate.nhn?id=32456490385\",\n",
            "\t\t\t\"image\":\"https:\\/\\/shopping-phinf.pstatic.net\\/main_3245649\\/32456490385.20220521062038.jpg\",\n",
            "\t\t\t\"lprice\":\"39000\",\n",
            "\t\t\t\"hprice\":\"\",\n",
            "\t\t\t\"mallName\":\"네이버\",\n",
            "\t\t\t\"productId\":\"32456490385\",\n",
            "\t\t\t\"productType\":\"1\",\n",
            "\t\t\t\"brand\":\"몰스킨\",\n",
            "\t\t\t\"maker\":\"몰스킨\",\n",
            "\t\t\t\"category1\":\"생활\\/건강\",\n",
            "\t\t\t\"category2\":\"문구\\/사무용품\",\n",
            "\t\t\t\"category3\":\"다이어리\\/플래너\",\n",
            "\t\t\t\"category4\":\"다이어리\"\n",
            "\t\t},\n",
            "\t\t{\n",
            "\t\t\t\"title\":\"<b>몰스킨<\\/b> 무료각인 룰드 노트 하드 포켓 -머틀그린\",\n",
            "\t\t\t\"link\":\"https:\\/\\/search.shopping.naver.com\\/gate.nhn?id=24075358671\",\n",
            "\t\t\t\"image\":\"https:\\/\\/shopping-phinf.pstatic.net\\/main_2407535\\/24075358671.20200908032927.jpg\",\n",
            "\t\t\t\"lprice\":\"18850\",\n",
            "\t\t\t\"hprice\":\"\",\n",
            "\t\t\t\"mallName\":\"네이버\",\n",
            "\t\t\t\"productId\":\"24075358671\",\n",
            "\t\t\t\"productType\":\"1\",\n",
            "\t\t\t\"brand\":\"\",\n",
            "\t\t\t\"maker\":\"몰스킨\",\n",
            "\t\t\t\"category1\":\"생활\\/건강\",\n",
            "\t\t\t\"category2\":\"문구\\/사무용품\",\n",
            "\t\t\t\"category3\":\"다이어리\\/플래너\",\n",
            "\t\t\t\"category4\":\"다이어리\"\n",
            "\t\t},\n",
            "\t\t{\n",
            "\t\t\t\"title\":\"<b>몰스킨<\\/b> 클래식노트 플레인 하드 L\",\n",
            "\t\t\t\"link\":\"https:\\/\\/search.shopping.naver.com\\/gate.nhn?id=24031381534\",\n",
            "\t\t\t\"image\":\"https:\\/\\/shopping-phinf.pstatic.net\\/main_2403138\\/24031381534.20200904012957.jpg\",\n",
            "\t\t\t\"lprice\":\"19440\",\n",
            "\t\t\t\"hprice\":\"\",\n",
            "\t\t\t\"mallName\":\"네이버\",\n",
            "\t\t\t\"productId\":\"24031381534\",\n",
            "\t\t\t\"productType\":\"1\",\n",
            "\t\t\t\"brand\":\"몰스킨\",\n",
            "\t\t\t\"maker\":\"몰스킨\",\n",
            "\t\t\t\"category1\":\"생활\\/건강\",\n",
            "\t\t\t\"category2\":\"문구\\/사무용품\",\n",
            "\t\t\t\"category3\":\"노트\\/수첩\",\n",
            "\t\t\t\"category4\":\"노트\"\n",
            "\t\t}\n",
            "\t]\n",
            "}\n"
          ]
        }
      ],
      "source": [
        "# 네이버 검색 API예제는 블로그를 비롯 전문자료까지 호출방법이 동일하므로 blog검색만 대표로 예제를 올렸습니다.\n",
        "# 네이버 검색 Open API 예제 - 블로그 검색\n",
        "import os\n",
        "import sys\n",
        "import urllib.request\n",
        "\n",
        "client_id = \"WUyjcDpO9GnIR_W4rwlJ\"\n",
        "client_secret = \"RHOTnh1UPC\"\n",
        "\n",
        "encText = urllib.parse.quote(\"몰스킨\")\n",
        "url = \"https://openapi.naver.com/v1/search/shop?query=\" + encText # json 결과\n",
        "# url = \"https://openapi.naver.com/v1/search/blog.xml?query=\" + encText # xml 결과\n",
        "request = urllib.request.Request(url)\n",
        "request.add_header(\"X-Naver-Client-Id\",client_id)\n",
        "request.add_header(\"X-Naver-Client-Secret\",client_secret)\n",
        "response = urllib.request.urlopen(request)\n",
        "rescode = response.getcode()\n",
        "\n",
        "if(rescode==200):\n",
        "    response_body = response.read()\n",
        "    print(response_body.decode('utf-8'))\n",
        "else:\n",
        "    print(\"Error Code:\" + rescode)"
      ]
    },
    {
      "cell_type": "markdown",
      "source": [
        "### gen_search_url()"
      ],
      "metadata": {
        "id": "Tojakvh-PNpG"
      },
      "id": "Tojakvh-PNpG"
    },
    {
      "cell_type": "markdown",
      "source": [
        "encText = urllib.parse.quote(\"몰스킨\")\n",
        "\n",
        "\n",
        "url = \"https://openapi.naver.com/v1/search/shop?query=\" + encText # json 결과"
      ],
      "metadata": {
        "id": "B0BD2KkUP2hb"
      },
      "id": "B0BD2KkUP2hb"
    },
    {
      "cell_type": "code",
      "source": [
        "def gen_search_url(api_node, search_text,start_num,disp_num):\n",
        "  base = url = \"https://openapi.naver.com/v1/search\"\n",
        "  node = \"/\" + api_node + \".json\"\n",
        "  param_query = \"?query=\" + urllib.parse.quote(search_text)\n",
        "  param_start = \"&start=\" + str(start_num)\n",
        "  param_disp = \"&display\" + str(disp_num)\n",
        "\n",
        "  return base + node + param_query + param_start + param_disp"
      ],
      "metadata": {
        "id": "7Hr-gys9PM6a"
      },
      "id": "7Hr-gys9PM6a",
      "execution_count": 2,
      "outputs": []
    },
    {
      "cell_type": "code",
      "source": [
        "gen_search_url(\"shop\",\"TEST\",10,3)"
      ],
      "metadata": {
        "colab": {
          "base_uri": "https://localhost:8080/",
          "height": 35
        },
        "id": "oTGYPDVAOQ2z",
        "outputId": "a95700c1-3213-4aff-b61b-8e7fd384327e"
      },
      "id": "oTGYPDVAOQ2z",
      "execution_count": 3,
      "outputs": [
        {
          "output_type": "execute_result",
          "data": {
            "text/plain": [
              "'https://openapi.naver.com/v1/search/shop.json?query=TEST&start=10&display3'"
            ],
            "application/vnd.google.colaboratory.intrinsic+json": {
              "type": "string"
            }
          },
          "metadata": {},
          "execution_count": 3
        }
      ]
    },
    {
      "cell_type": "markdown",
      "source": [
        "### get_result_onepage()"
      ],
      "metadata": {
        "id": "0Az-D_EGQs7x"
      },
      "id": "0Az-D_EGQs7x"
    },
    {
      "cell_type": "code",
      "source": [
        "import json\n",
        "import datetime\n",
        "\n",
        "def get_result_onpage(url):\n",
        "  request = urllib.request.Request(url)\n",
        "  request.add_header(\"X-Naver-Client-Id\",client_id)\n",
        "  request.add_header(\"X-Naver-Client-Secret\",client_secret)\n",
        "  response = urllib.request.urlopen(request)\n",
        "  print(\"[%s] Url Request Success\" % datetime.datetime.now())\n",
        "  return json.loads(response.read().decode(\"utf-8\"))"
      ],
      "metadata": {
        "id": "6VlE7sKvQjYK"
      },
      "id": "6VlE7sKvQjYK",
      "execution_count": 4,
      "outputs": []
    },
    {
      "cell_type": "code",
      "source": [
        "datetime.datetime.now() #현재시간"
      ],
      "metadata": {
        "colab": {
          "base_uri": "https://localhost:8080/"
        },
        "id": "ZklAefr0ROJx",
        "outputId": "93e1db6c-6b05-4e06-a1bf-104a88e59544"
      },
      "id": "ZklAefr0ROJx",
      "execution_count": 5,
      "outputs": [
        {
          "output_type": "execute_result",
          "data": {
            "text/plain": [
              "datetime.datetime(2022, 8, 9, 12, 22, 30, 373233)"
            ]
          },
          "metadata": {},
          "execution_count": 5
        }
      ]
    },
    {
      "cell_type": "code",
      "source": [
        "#1 = 첫번째 페이지 부터 시작\n",
        "# 5 = 5개 보여줘\n",
        "url = gen_search_url(\"shop\",\"몰스킨\",1,5) \n",
        "one_result = get_result_onpage(url)"
      ],
      "metadata": {
        "colab": {
          "base_uri": "https://localhost:8080/"
        },
        "id": "ZPglogSWRTil",
        "outputId": "981f3713-95f1-4461-8eb6-810d2e9619f0"
      },
      "id": "ZPglogSWRTil",
      "execution_count": 6,
      "outputs": [
        {
          "output_type": "stream",
          "name": "stdout",
          "text": [
            "[2022-08-09 12:22:31.321180] Url Request Success\n"
          ]
        }
      ]
    },
    {
      "cell_type": "code",
      "source": [
        "one_result"
      ],
      "metadata": {
        "colab": {
          "base_uri": "https://localhost:8080/"
        },
        "id": "RvGHmVWgRnbZ",
        "outputId": "b1a8cdec-4aa3-4ddc-89d7-f602dc99673d"
      },
      "id": "RvGHmVWgRnbZ",
      "execution_count": 7,
      "outputs": [
        {
          "output_type": "execute_result",
          "data": {
            "text/plain": [
              "{'display': 10,\n",
              " 'items': [{'brand': '몰스킨',\n",
              "   'category1': '생활/건강',\n",
              "   'category2': '문구/사무용품',\n",
              "   'category3': '노트/수첩',\n",
              "   'category4': '노트',\n",
              "   'hprice': '',\n",
              "   'image': 'https://shopping-phinf.pstatic.net/main_2401492/24014924801.20200903021703.jpg',\n",
              "   'link': 'https://search.shopping.naver.com/gate.nhn?id=24014924801',\n",
              "   'lprice': '20760',\n",
              "   'maker': '몰스킨',\n",
              "   'mallName': '네이버',\n",
              "   'productId': '24014924801',\n",
              "   'productType': '1',\n",
              "   'title': '<b>몰스킨</b> 클래식 노트 소프트커버 도트 포켓 머틀그린'},\n",
              "  {'brand': '몰스킨',\n",
              "   'category1': '생활/건강',\n",
              "   'category2': '문구/사무용품',\n",
              "   'category3': '노트/수첩',\n",
              "   'category4': '노트',\n",
              "   'hprice': '',\n",
              "   'image': 'https://shopping-phinf.pstatic.net/main_2636921/26369214932.20210315185812.jpg',\n",
              "   'link': 'https://search.shopping.naver.com/gate.nhn?id=26369214932',\n",
              "   'lprice': '19410',\n",
              "   'maker': '몰스킨',\n",
              "   'mallName': '네이버',\n",
              "   'productId': '26369214932',\n",
              "   'productType': '1',\n",
              "   'title': '<b>몰스킨</b> 클래식노트 익스팬디드 소프트커버 사파이어블루'},\n",
              "  {'brand': '몰스킨',\n",
              "   'category1': '생활/건강',\n",
              "   'category2': '문구/사무용품',\n",
              "   'category3': '다이어리/플래너',\n",
              "   'category4': '다이어리',\n",
              "   'hprice': '',\n",
              "   'image': 'https://shopping-phinf.pstatic.net/main_3245790/32457903283.20220521025804.jpg',\n",
              "   'link': 'https://search.shopping.naver.com/gate.nhn?id=32457903283',\n",
              "   'lprice': '28000',\n",
              "   'maker': '몰스킨',\n",
              "   'mallName': '네이버',\n",
              "   'productId': '32457903283',\n",
              "   'productType': '1',\n",
              "   'title': '<b>몰스킨</b> 2023 위클리 18개월 다이어리 소프트커버 포켓 색상선택'},\n",
              "  {'brand': '',\n",
              "   'category1': '생활/건강',\n",
              "   'category2': '문구/사무용품',\n",
              "   'category3': '다이어리/플래너',\n",
              "   'category4': '다이어리',\n",
              "   'hprice': '',\n",
              "   'image': 'https://shopping-phinf.pstatic.net/main_2924680/29246808093.20211015235402.jpg',\n",
              "   'link': 'https://search.shopping.naver.com/gate.nhn?id=29246808093',\n",
              "   'lprice': '9300',\n",
              "   'maker': '몰스킨',\n",
              "   'mallName': '네이버',\n",
              "   'productId': '29246808093',\n",
              "   'productType': '1',\n",
              "   'title': '<b>몰스킨</b> 다이어리 수첩 데일리 위클리 파인그린 레몬옐로우 룰드'},\n",
              "  {'brand': '몰스킨',\n",
              "   'category1': '생활/건강',\n",
              "   'category2': '문구/사무용품',\n",
              "   'category3': '노트/수첩',\n",
              "   'category4': '노트',\n",
              "   'hprice': '',\n",
              "   'image': 'https://shopping-phinf.pstatic.net/main_8252695/82526953942.7.jpg',\n",
              "   'link': 'https://search.shopping.naver.com/gate.nhn?id=82526953942',\n",
              "   'lprice': '24900',\n",
              "   'maker': '',\n",
              "   'mallName': '베스트펜',\n",
              "   'productId': '82526953942',\n",
              "   'productType': '2',\n",
              "   'title': '<b>몰스킨</b> 노트 가죽 하드커버 각인 감성 고급 명품 업무용 이쁜 심플'},\n",
              "  {'brand': '몰스킨',\n",
              "   'category1': '생활/건강',\n",
              "   'category2': '문구/사무용품',\n",
              "   'category3': '다이어리/플래너',\n",
              "   'category4': '다이어리',\n",
              "   'hprice': '',\n",
              "   'image': 'https://shopping-phinf.pstatic.net/main_3223566/32235666548.1.jpg',\n",
              "   'link': 'https://search.shopping.naver.com/gate.nhn?id=32235666548',\n",
              "   'lprice': '28000',\n",
              "   'maker': '',\n",
              "   'mallName': '몰스킨공식온라인스토어',\n",
              "   'productId': '32235666548',\n",
              "   'productType': '2',\n",
              "   'title': '[<b>몰스킨</b>] 2022-23년 18개월 다이어리(데일리, 위클리, 먼슬리, 한정판)'},\n",
              "  {'brand': '몰스킨',\n",
              "   'category1': '생활/건강',\n",
              "   'category2': '문구/사무용품',\n",
              "   'category3': '다이어리/플래너',\n",
              "   'category4': '다이어리',\n",
              "   'hprice': '',\n",
              "   'image': 'https://shopping-phinf.pstatic.net/main_2401704/24017041588.20200903044334.jpg',\n",
              "   'link': 'https://search.shopping.naver.com/gate.nhn?id=24017041588',\n",
              "   'lprice': '19650',\n",
              "   'maker': '몰스킨',\n",
              "   'mallName': '네이버',\n",
              "   'productId': '24017041588',\n",
              "   'productType': '1',\n",
              "   'title': '<b>몰스킨</b> 클래식 노트 소프트커버 룰드 라지 리프블루'},\n",
              "  {'brand': '몰스킨',\n",
              "   'category1': '생활/건강',\n",
              "   'category2': '문구/사무용품',\n",
              "   'category3': '다이어리/플래너',\n",
              "   'category4': '다이어리',\n",
              "   'hprice': '',\n",
              "   'image': 'https://shopping-phinf.pstatic.net/main_3245649/32456490385.20220521062038.jpg',\n",
              "   'link': 'https://search.shopping.naver.com/gate.nhn?id=32456490385',\n",
              "   'lprice': '39000',\n",
              "   'maker': '몰스킨',\n",
              "   'mallName': '네이버',\n",
              "   'productId': '32456490385',\n",
              "   'productType': '1',\n",
              "   'title': '<b>몰스킨</b> 2023 위클리 18개월 다이어리 소프트커버 라지 색상선택'},\n",
              "  {'brand': '',\n",
              "   'category1': '생활/건강',\n",
              "   'category2': '문구/사무용품',\n",
              "   'category3': '다이어리/플래너',\n",
              "   'category4': '다이어리',\n",
              "   'hprice': '',\n",
              "   'image': 'https://shopping-phinf.pstatic.net/main_2407535/24075358671.20200908032927.jpg',\n",
              "   'link': 'https://search.shopping.naver.com/gate.nhn?id=24075358671',\n",
              "   'lprice': '18850',\n",
              "   'maker': '몰스킨',\n",
              "   'mallName': '네이버',\n",
              "   'productId': '24075358671',\n",
              "   'productType': '1',\n",
              "   'title': '<b>몰스킨</b> 무료각인 룰드 노트 하드 포켓 -머틀그린'},\n",
              "  {'brand': '몰스킨',\n",
              "   'category1': '생활/건강',\n",
              "   'category2': '문구/사무용품',\n",
              "   'category3': '노트/수첩',\n",
              "   'category4': '노트',\n",
              "   'hprice': '',\n",
              "   'image': 'https://shopping-phinf.pstatic.net/main_2403138/24031381534.20200904012957.jpg',\n",
              "   'link': 'https://search.shopping.naver.com/gate.nhn?id=24031381534',\n",
              "   'lprice': '19440',\n",
              "   'maker': '몰스킨',\n",
              "   'mallName': '네이버',\n",
              "   'productId': '24031381534',\n",
              "   'productType': '1',\n",
              "   'title': '<b>몰스킨</b> 클래식노트 플레인 하드 L'}],\n",
              " 'lastBuildDate': 'Tue, 09 Aug 2022 21:22:31 +0900',\n",
              " 'start': 1,\n",
              " 'total': 24408}"
            ]
          },
          "metadata": {},
          "execution_count": 7
        }
      ]
    },
    {
      "cell_type": "code",
      "source": [
        "one_result[\"items\"] #list형태"
      ],
      "metadata": {
        "colab": {
          "base_uri": "https://localhost:8080/"
        },
        "id": "fu-ObPr5RqWV",
        "outputId": "70826d1b-d6b9-4cdf-d158-63bbe4e425d0"
      },
      "id": "fu-ObPr5RqWV",
      "execution_count": 8,
      "outputs": [
        {
          "output_type": "execute_result",
          "data": {
            "text/plain": [
              "[{'brand': '몰스킨',\n",
              "  'category1': '생활/건강',\n",
              "  'category2': '문구/사무용품',\n",
              "  'category3': '노트/수첩',\n",
              "  'category4': '노트',\n",
              "  'hprice': '',\n",
              "  'image': 'https://shopping-phinf.pstatic.net/main_2401492/24014924801.20200903021703.jpg',\n",
              "  'link': 'https://search.shopping.naver.com/gate.nhn?id=24014924801',\n",
              "  'lprice': '20760',\n",
              "  'maker': '몰스킨',\n",
              "  'mallName': '네이버',\n",
              "  'productId': '24014924801',\n",
              "  'productType': '1',\n",
              "  'title': '<b>몰스킨</b> 클래식 노트 소프트커버 도트 포켓 머틀그린'},\n",
              " {'brand': '몰스킨',\n",
              "  'category1': '생활/건강',\n",
              "  'category2': '문구/사무용품',\n",
              "  'category3': '노트/수첩',\n",
              "  'category4': '노트',\n",
              "  'hprice': '',\n",
              "  'image': 'https://shopping-phinf.pstatic.net/main_2636921/26369214932.20210315185812.jpg',\n",
              "  'link': 'https://search.shopping.naver.com/gate.nhn?id=26369214932',\n",
              "  'lprice': '19410',\n",
              "  'maker': '몰스킨',\n",
              "  'mallName': '네이버',\n",
              "  'productId': '26369214932',\n",
              "  'productType': '1',\n",
              "  'title': '<b>몰스킨</b> 클래식노트 익스팬디드 소프트커버 사파이어블루'},\n",
              " {'brand': '몰스킨',\n",
              "  'category1': '생활/건강',\n",
              "  'category2': '문구/사무용품',\n",
              "  'category3': '다이어리/플래너',\n",
              "  'category4': '다이어리',\n",
              "  'hprice': '',\n",
              "  'image': 'https://shopping-phinf.pstatic.net/main_3245790/32457903283.20220521025804.jpg',\n",
              "  'link': 'https://search.shopping.naver.com/gate.nhn?id=32457903283',\n",
              "  'lprice': '28000',\n",
              "  'maker': '몰스킨',\n",
              "  'mallName': '네이버',\n",
              "  'productId': '32457903283',\n",
              "  'productType': '1',\n",
              "  'title': '<b>몰스킨</b> 2023 위클리 18개월 다이어리 소프트커버 포켓 색상선택'},\n",
              " {'brand': '',\n",
              "  'category1': '생활/건강',\n",
              "  'category2': '문구/사무용품',\n",
              "  'category3': '다이어리/플래너',\n",
              "  'category4': '다이어리',\n",
              "  'hprice': '',\n",
              "  'image': 'https://shopping-phinf.pstatic.net/main_2924680/29246808093.20211015235402.jpg',\n",
              "  'link': 'https://search.shopping.naver.com/gate.nhn?id=29246808093',\n",
              "  'lprice': '9300',\n",
              "  'maker': '몰스킨',\n",
              "  'mallName': '네이버',\n",
              "  'productId': '29246808093',\n",
              "  'productType': '1',\n",
              "  'title': '<b>몰스킨</b> 다이어리 수첩 데일리 위클리 파인그린 레몬옐로우 룰드'},\n",
              " {'brand': '몰스킨',\n",
              "  'category1': '생활/건강',\n",
              "  'category2': '문구/사무용품',\n",
              "  'category3': '노트/수첩',\n",
              "  'category4': '노트',\n",
              "  'hprice': '',\n",
              "  'image': 'https://shopping-phinf.pstatic.net/main_8252695/82526953942.7.jpg',\n",
              "  'link': 'https://search.shopping.naver.com/gate.nhn?id=82526953942',\n",
              "  'lprice': '24900',\n",
              "  'maker': '',\n",
              "  'mallName': '베스트펜',\n",
              "  'productId': '82526953942',\n",
              "  'productType': '2',\n",
              "  'title': '<b>몰스킨</b> 노트 가죽 하드커버 각인 감성 고급 명품 업무용 이쁜 심플'},\n",
              " {'brand': '몰스킨',\n",
              "  'category1': '생활/건강',\n",
              "  'category2': '문구/사무용품',\n",
              "  'category3': '다이어리/플래너',\n",
              "  'category4': '다이어리',\n",
              "  'hprice': '',\n",
              "  'image': 'https://shopping-phinf.pstatic.net/main_3223566/32235666548.1.jpg',\n",
              "  'link': 'https://search.shopping.naver.com/gate.nhn?id=32235666548',\n",
              "  'lprice': '28000',\n",
              "  'maker': '',\n",
              "  'mallName': '몰스킨공식온라인스토어',\n",
              "  'productId': '32235666548',\n",
              "  'productType': '2',\n",
              "  'title': '[<b>몰스킨</b>] 2022-23년 18개월 다이어리(데일리, 위클리, 먼슬리, 한정판)'},\n",
              " {'brand': '몰스킨',\n",
              "  'category1': '생활/건강',\n",
              "  'category2': '문구/사무용품',\n",
              "  'category3': '다이어리/플래너',\n",
              "  'category4': '다이어리',\n",
              "  'hprice': '',\n",
              "  'image': 'https://shopping-phinf.pstatic.net/main_2401704/24017041588.20200903044334.jpg',\n",
              "  'link': 'https://search.shopping.naver.com/gate.nhn?id=24017041588',\n",
              "  'lprice': '19650',\n",
              "  'maker': '몰스킨',\n",
              "  'mallName': '네이버',\n",
              "  'productId': '24017041588',\n",
              "  'productType': '1',\n",
              "  'title': '<b>몰스킨</b> 클래식 노트 소프트커버 룰드 라지 리프블루'},\n",
              " {'brand': '몰스킨',\n",
              "  'category1': '생활/건강',\n",
              "  'category2': '문구/사무용품',\n",
              "  'category3': '다이어리/플래너',\n",
              "  'category4': '다이어리',\n",
              "  'hprice': '',\n",
              "  'image': 'https://shopping-phinf.pstatic.net/main_3245649/32456490385.20220521062038.jpg',\n",
              "  'link': 'https://search.shopping.naver.com/gate.nhn?id=32456490385',\n",
              "  'lprice': '39000',\n",
              "  'maker': '몰스킨',\n",
              "  'mallName': '네이버',\n",
              "  'productId': '32456490385',\n",
              "  'productType': '1',\n",
              "  'title': '<b>몰스킨</b> 2023 위클리 18개월 다이어리 소프트커버 라지 색상선택'},\n",
              " {'brand': '',\n",
              "  'category1': '생활/건강',\n",
              "  'category2': '문구/사무용품',\n",
              "  'category3': '다이어리/플래너',\n",
              "  'category4': '다이어리',\n",
              "  'hprice': '',\n",
              "  'image': 'https://shopping-phinf.pstatic.net/main_2407535/24075358671.20200908032927.jpg',\n",
              "  'link': 'https://search.shopping.naver.com/gate.nhn?id=24075358671',\n",
              "  'lprice': '18850',\n",
              "  'maker': '몰스킨',\n",
              "  'mallName': '네이버',\n",
              "  'productId': '24075358671',\n",
              "  'productType': '1',\n",
              "  'title': '<b>몰스킨</b> 무료각인 룰드 노트 하드 포켓 -머틀그린'},\n",
              " {'brand': '몰스킨',\n",
              "  'category1': '생활/건강',\n",
              "  'category2': '문구/사무용품',\n",
              "  'category3': '노트/수첩',\n",
              "  'category4': '노트',\n",
              "  'hprice': '',\n",
              "  'image': 'https://shopping-phinf.pstatic.net/main_2403138/24031381534.20200904012957.jpg',\n",
              "  'link': 'https://search.shopping.naver.com/gate.nhn?id=24031381534',\n",
              "  'lprice': '19440',\n",
              "  'maker': '몰스킨',\n",
              "  'mallName': '네이버',\n",
              "  'productId': '24031381534',\n",
              "  'productType': '1',\n",
              "  'title': '<b>몰스킨</b> 클래식노트 플레인 하드 L'}]"
            ]
          },
          "metadata": {},
          "execution_count": 8
        }
      ]
    },
    {
      "cell_type": "code",
      "source": [
        "#하나의 딕셔너리 key value key value 가 나옴\n",
        "one_result[\"items\"][0][\"title\"]"
      ],
      "metadata": {
        "colab": {
          "base_uri": "https://localhost:8080/",
          "height": 35
        },
        "id": "W7kKS7IURxHV",
        "outputId": "ac695ccf-4c7a-4ee2-f07e-40cd25b8c7fe"
      },
      "id": "W7kKS7IURxHV",
      "execution_count": 9,
      "outputs": [
        {
          "output_type": "execute_result",
          "data": {
            "text/plain": [
              "'<b>몰스킨</b> 클래식 노트 소프트커버 도트 포켓 머틀그린'"
            ],
            "application/vnd.google.colaboratory.intrinsic+json": {
              "type": "string"
            }
          },
          "metadata": {},
          "execution_count": 9
        }
      ]
    },
    {
      "cell_type": "code",
      "source": [
        "one_result[\"items\"][0][\"link\"]"
      ],
      "metadata": {
        "colab": {
          "base_uri": "https://localhost:8080/",
          "height": 35
        },
        "id": "4kVpeLuPR5pD",
        "outputId": "d5305aba-e1f7-4b51-c5c5-099378f97dbe"
      },
      "id": "4kVpeLuPR5pD",
      "execution_count": 10,
      "outputs": [
        {
          "output_type": "execute_result",
          "data": {
            "text/plain": [
              "'https://search.shopping.naver.com/gate.nhn?id=24014924801'"
            ],
            "application/vnd.google.colaboratory.intrinsic+json": {
              "type": "string"
            }
          },
          "metadata": {},
          "execution_count": 10
        }
      ]
    },
    {
      "cell_type": "code",
      "source": [
        "one_result[\"items\"][0][\"lprice\"]"
      ],
      "metadata": {
        "colab": {
          "base_uri": "https://localhost:8080/",
          "height": 35
        },
        "id": "pDV2B5lfR_NS",
        "outputId": "d566fd80-6b3e-42ae-82a3-d53de863cde7"
      },
      "id": "pDV2B5lfR_NS",
      "execution_count": 11,
      "outputs": [
        {
          "output_type": "execute_result",
          "data": {
            "text/plain": [
              "'20760'"
            ],
            "application/vnd.google.colaboratory.intrinsic+json": {
              "type": "string"
            }
          },
          "metadata": {},
          "execution_count": 11
        }
      ]
    },
    {
      "cell_type": "code",
      "source": [
        "one_result[\"items\"][0][\"mallName\"]"
      ],
      "metadata": {
        "colab": {
          "base_uri": "https://localhost:8080/",
          "height": 35
        },
        "id": "grP7PhnzSAXt",
        "outputId": "81ebfb3f-1fbc-4038-dca1-ef430624e21e"
      },
      "id": "grP7PhnzSAXt",
      "execution_count": 12,
      "outputs": [
        {
          "output_type": "execute_result",
          "data": {
            "text/plain": [
              "'네이버'"
            ],
            "application/vnd.google.colaboratory.intrinsic+json": {
              "type": "string"
            }
          },
          "metadata": {},
          "execution_count": 12
        }
      ]
    },
    {
      "cell_type": "markdown",
      "source": [
        "### get_fields()"
      ],
      "metadata": {
        "id": "h8r-Q28aT_UT"
      },
      "id": "h8r-Q28aT_UT"
    },
    {
      "cell_type": "code",
      "source": [
        "one_result"
      ],
      "metadata": {
        "colab": {
          "base_uri": "https://localhost:8080/"
        },
        "id": "dVDISv1OSBep",
        "outputId": "766ba644-ad08-4a81-877e-4e88e1c72562"
      },
      "id": "dVDISv1OSBep",
      "execution_count": 13,
      "outputs": [
        {
          "output_type": "execute_result",
          "data": {
            "text/plain": [
              "{'display': 10,\n",
              " 'items': [{'brand': '몰스킨',\n",
              "   'category1': '생활/건강',\n",
              "   'category2': '문구/사무용품',\n",
              "   'category3': '노트/수첩',\n",
              "   'category4': '노트',\n",
              "   'hprice': '',\n",
              "   'image': 'https://shopping-phinf.pstatic.net/main_2401492/24014924801.20200903021703.jpg',\n",
              "   'link': 'https://search.shopping.naver.com/gate.nhn?id=24014924801',\n",
              "   'lprice': '20760',\n",
              "   'maker': '몰스킨',\n",
              "   'mallName': '네이버',\n",
              "   'productId': '24014924801',\n",
              "   'productType': '1',\n",
              "   'title': '<b>몰스킨</b> 클래식 노트 소프트커버 도트 포켓 머틀그린'},\n",
              "  {'brand': '몰스킨',\n",
              "   'category1': '생활/건강',\n",
              "   'category2': '문구/사무용품',\n",
              "   'category3': '노트/수첩',\n",
              "   'category4': '노트',\n",
              "   'hprice': '',\n",
              "   'image': 'https://shopping-phinf.pstatic.net/main_2636921/26369214932.20210315185812.jpg',\n",
              "   'link': 'https://search.shopping.naver.com/gate.nhn?id=26369214932',\n",
              "   'lprice': '19410',\n",
              "   'maker': '몰스킨',\n",
              "   'mallName': '네이버',\n",
              "   'productId': '26369214932',\n",
              "   'productType': '1',\n",
              "   'title': '<b>몰스킨</b> 클래식노트 익스팬디드 소프트커버 사파이어블루'},\n",
              "  {'brand': '몰스킨',\n",
              "   'category1': '생활/건강',\n",
              "   'category2': '문구/사무용품',\n",
              "   'category3': '다이어리/플래너',\n",
              "   'category4': '다이어리',\n",
              "   'hprice': '',\n",
              "   'image': 'https://shopping-phinf.pstatic.net/main_3245790/32457903283.20220521025804.jpg',\n",
              "   'link': 'https://search.shopping.naver.com/gate.nhn?id=32457903283',\n",
              "   'lprice': '28000',\n",
              "   'maker': '몰스킨',\n",
              "   'mallName': '네이버',\n",
              "   'productId': '32457903283',\n",
              "   'productType': '1',\n",
              "   'title': '<b>몰스킨</b> 2023 위클리 18개월 다이어리 소프트커버 포켓 색상선택'},\n",
              "  {'brand': '',\n",
              "   'category1': '생활/건강',\n",
              "   'category2': '문구/사무용품',\n",
              "   'category3': '다이어리/플래너',\n",
              "   'category4': '다이어리',\n",
              "   'hprice': '',\n",
              "   'image': 'https://shopping-phinf.pstatic.net/main_2924680/29246808093.20211015235402.jpg',\n",
              "   'link': 'https://search.shopping.naver.com/gate.nhn?id=29246808093',\n",
              "   'lprice': '9300',\n",
              "   'maker': '몰스킨',\n",
              "   'mallName': '네이버',\n",
              "   'productId': '29246808093',\n",
              "   'productType': '1',\n",
              "   'title': '<b>몰스킨</b> 다이어리 수첩 데일리 위클리 파인그린 레몬옐로우 룰드'},\n",
              "  {'brand': '몰스킨',\n",
              "   'category1': '생활/건강',\n",
              "   'category2': '문구/사무용품',\n",
              "   'category3': '노트/수첩',\n",
              "   'category4': '노트',\n",
              "   'hprice': '',\n",
              "   'image': 'https://shopping-phinf.pstatic.net/main_8252695/82526953942.7.jpg',\n",
              "   'link': 'https://search.shopping.naver.com/gate.nhn?id=82526953942',\n",
              "   'lprice': '24900',\n",
              "   'maker': '',\n",
              "   'mallName': '베스트펜',\n",
              "   'productId': '82526953942',\n",
              "   'productType': '2',\n",
              "   'title': '<b>몰스킨</b> 노트 가죽 하드커버 각인 감성 고급 명품 업무용 이쁜 심플'},\n",
              "  {'brand': '몰스킨',\n",
              "   'category1': '생활/건강',\n",
              "   'category2': '문구/사무용품',\n",
              "   'category3': '다이어리/플래너',\n",
              "   'category4': '다이어리',\n",
              "   'hprice': '',\n",
              "   'image': 'https://shopping-phinf.pstatic.net/main_3223566/32235666548.1.jpg',\n",
              "   'link': 'https://search.shopping.naver.com/gate.nhn?id=32235666548',\n",
              "   'lprice': '28000',\n",
              "   'maker': '',\n",
              "   'mallName': '몰스킨공식온라인스토어',\n",
              "   'productId': '32235666548',\n",
              "   'productType': '2',\n",
              "   'title': '[<b>몰스킨</b>] 2022-23년 18개월 다이어리(데일리, 위클리, 먼슬리, 한정판)'},\n",
              "  {'brand': '몰스킨',\n",
              "   'category1': '생활/건강',\n",
              "   'category2': '문구/사무용품',\n",
              "   'category3': '다이어리/플래너',\n",
              "   'category4': '다이어리',\n",
              "   'hprice': '',\n",
              "   'image': 'https://shopping-phinf.pstatic.net/main_2401704/24017041588.20200903044334.jpg',\n",
              "   'link': 'https://search.shopping.naver.com/gate.nhn?id=24017041588',\n",
              "   'lprice': '19650',\n",
              "   'maker': '몰스킨',\n",
              "   'mallName': '네이버',\n",
              "   'productId': '24017041588',\n",
              "   'productType': '1',\n",
              "   'title': '<b>몰스킨</b> 클래식 노트 소프트커버 룰드 라지 리프블루'},\n",
              "  {'brand': '몰스킨',\n",
              "   'category1': '생활/건강',\n",
              "   'category2': '문구/사무용품',\n",
              "   'category3': '다이어리/플래너',\n",
              "   'category4': '다이어리',\n",
              "   'hprice': '',\n",
              "   'image': 'https://shopping-phinf.pstatic.net/main_3245649/32456490385.20220521062038.jpg',\n",
              "   'link': 'https://search.shopping.naver.com/gate.nhn?id=32456490385',\n",
              "   'lprice': '39000',\n",
              "   'maker': '몰스킨',\n",
              "   'mallName': '네이버',\n",
              "   'productId': '32456490385',\n",
              "   'productType': '1',\n",
              "   'title': '<b>몰스킨</b> 2023 위클리 18개월 다이어리 소프트커버 라지 색상선택'},\n",
              "  {'brand': '',\n",
              "   'category1': '생활/건강',\n",
              "   'category2': '문구/사무용품',\n",
              "   'category3': '다이어리/플래너',\n",
              "   'category4': '다이어리',\n",
              "   'hprice': '',\n",
              "   'image': 'https://shopping-phinf.pstatic.net/main_2407535/24075358671.20200908032927.jpg',\n",
              "   'link': 'https://search.shopping.naver.com/gate.nhn?id=24075358671',\n",
              "   'lprice': '18850',\n",
              "   'maker': '몰스킨',\n",
              "   'mallName': '네이버',\n",
              "   'productId': '24075358671',\n",
              "   'productType': '1',\n",
              "   'title': '<b>몰스킨</b> 무료각인 룰드 노트 하드 포켓 -머틀그린'},\n",
              "  {'brand': '몰스킨',\n",
              "   'category1': '생활/건강',\n",
              "   'category2': '문구/사무용품',\n",
              "   'category3': '노트/수첩',\n",
              "   'category4': '노트',\n",
              "   'hprice': '',\n",
              "   'image': 'https://shopping-phinf.pstatic.net/main_2403138/24031381534.20200904012957.jpg',\n",
              "   'link': 'https://search.shopping.naver.com/gate.nhn?id=24031381534',\n",
              "   'lprice': '19440',\n",
              "   'maker': '몰스킨',\n",
              "   'mallName': '네이버',\n",
              "   'productId': '24031381534',\n",
              "   'productType': '1',\n",
              "   'title': '<b>몰스킨</b> 클래식노트 플레인 하드 L'}],\n",
              " 'lastBuildDate': 'Tue, 09 Aug 2022 21:22:31 +0900',\n",
              " 'start': 1,\n",
              " 'total': 24408}"
            ]
          },
          "metadata": {},
          "execution_count": 13
        }
      ]
    },
    {
      "cell_type": "code",
      "source": [
        "import pandas as pd\n",
        "\n",
        "def get_fields(json_data):\n",
        "  title = [each[\"title\"] for each in json_data[\"items\"]]\n",
        "  link = [each[\"link\"] for each in json_data[\"items\"]]\n",
        "  lprice = [each[\"lprice\"] for each in json_data[\"items\"]]\n",
        "  mall_name = [each[\"mallName\"] for each in json_data[\"items\"]]\n",
        "\n",
        "  result_pd = pd.DataFrame({\n",
        "      \"title\" : title,\n",
        "      \"link\" : link,\n",
        "      \"lprice\" : lprice,\n",
        "      \"mall\" : mall_name,\n",
        "  },columns = [\"title\",\"lprice\",\"link\",\"mall\"])\n",
        "  return result_pd"
      ],
      "metadata": {
        "id": "xzy_B2pWUPYP"
      },
      "id": "xzy_B2pWUPYP",
      "execution_count": 14,
      "outputs": []
    },
    {
      "cell_type": "code",
      "source": [
        "get_fields(one_result)"
      ],
      "metadata": {
        "colab": {
          "base_uri": "https://localhost:8080/",
          "height": 363
        },
        "id": "Qk8Ge6-qWYbv",
        "outputId": "29d67b42-516e-4f8e-b8b0-f39241cd9f93"
      },
      "id": "Qk8Ge6-qWYbv",
      "execution_count": 15,
      "outputs": [
        {
          "output_type": "execute_result",
          "data": {
            "text/plain": [
              "                                               title lprice  \\\n",
              "0                 <b>몰스킨</b> 클래식 노트 소프트커버 도트 포켓 머틀그린  20760   \n",
              "1                <b>몰스킨</b> 클래식노트 익스팬디드 소프트커버 사파이어블루  19410   \n",
              "2        <b>몰스킨</b> 2023 위클리 18개월 다이어리 소프트커버 포켓 색상선택  28000   \n",
              "3           <b>몰스킨</b> 다이어리 수첩 데일리 위클리 파인그린 레몬옐로우 룰드   9300   \n",
              "4        <b>몰스킨</b> 노트 가죽 하드커버 각인 감성 고급 명품 업무용 이쁜 심플  24900   \n",
              "5  [<b>몰스킨</b>] 2022-23년 18개월 다이어리(데일리, 위클리, 먼슬리,...  28000   \n",
              "6                 <b>몰스킨</b> 클래식 노트 소프트커버 룰드 라지 리프블루  19650   \n",
              "7        <b>몰스킨</b> 2023 위클리 18개월 다이어리 소프트커버 라지 색상선택  39000   \n",
              "8                  <b>몰스킨</b> 무료각인 룰드 노트 하드 포켓 -머틀그린  18850   \n",
              "9                          <b>몰스킨</b> 클래식노트 플레인 하드 L  19440   \n",
              "\n",
              "                                                link         mall  \n",
              "0  https://search.shopping.naver.com/gate.nhn?id=...          네이버  \n",
              "1  https://search.shopping.naver.com/gate.nhn?id=...          네이버  \n",
              "2  https://search.shopping.naver.com/gate.nhn?id=...          네이버  \n",
              "3  https://search.shopping.naver.com/gate.nhn?id=...          네이버  \n",
              "4  https://search.shopping.naver.com/gate.nhn?id=...         베스트펜  \n",
              "5  https://search.shopping.naver.com/gate.nhn?id=...  몰스킨공식온라인스토어  \n",
              "6  https://search.shopping.naver.com/gate.nhn?id=...          네이버  \n",
              "7  https://search.shopping.naver.com/gate.nhn?id=...          네이버  \n",
              "8  https://search.shopping.naver.com/gate.nhn?id=...          네이버  \n",
              "9  https://search.shopping.naver.com/gate.nhn?id=...          네이버  "
            ],
            "text/html": [
              "\n",
              "  <div id=\"df-ef06be30-c091-4581-a421-3a033ad01847\">\n",
              "    <div class=\"colab-df-container\">\n",
              "      <div>\n",
              "<style scoped>\n",
              "    .dataframe tbody tr th:only-of-type {\n",
              "        vertical-align: middle;\n",
              "    }\n",
              "\n",
              "    .dataframe tbody tr th {\n",
              "        vertical-align: top;\n",
              "    }\n",
              "\n",
              "    .dataframe thead th {\n",
              "        text-align: right;\n",
              "    }\n",
              "</style>\n",
              "<table border=\"1\" class=\"dataframe\">\n",
              "  <thead>\n",
              "    <tr style=\"text-align: right;\">\n",
              "      <th></th>\n",
              "      <th>title</th>\n",
              "      <th>lprice</th>\n",
              "      <th>link</th>\n",
              "      <th>mall</th>\n",
              "    </tr>\n",
              "  </thead>\n",
              "  <tbody>\n",
              "    <tr>\n",
              "      <th>0</th>\n",
              "      <td>&lt;b&gt;몰스킨&lt;/b&gt; 클래식 노트 소프트커버 도트 포켓 머틀그린</td>\n",
              "      <td>20760</td>\n",
              "      <td>https://search.shopping.naver.com/gate.nhn?id=...</td>\n",
              "      <td>네이버</td>\n",
              "    </tr>\n",
              "    <tr>\n",
              "      <th>1</th>\n",
              "      <td>&lt;b&gt;몰스킨&lt;/b&gt; 클래식노트 익스팬디드 소프트커버 사파이어블루</td>\n",
              "      <td>19410</td>\n",
              "      <td>https://search.shopping.naver.com/gate.nhn?id=...</td>\n",
              "      <td>네이버</td>\n",
              "    </tr>\n",
              "    <tr>\n",
              "      <th>2</th>\n",
              "      <td>&lt;b&gt;몰스킨&lt;/b&gt; 2023 위클리 18개월 다이어리 소프트커버 포켓 색상선택</td>\n",
              "      <td>28000</td>\n",
              "      <td>https://search.shopping.naver.com/gate.nhn?id=...</td>\n",
              "      <td>네이버</td>\n",
              "    </tr>\n",
              "    <tr>\n",
              "      <th>3</th>\n",
              "      <td>&lt;b&gt;몰스킨&lt;/b&gt; 다이어리 수첩 데일리 위클리 파인그린 레몬옐로우 룰드</td>\n",
              "      <td>9300</td>\n",
              "      <td>https://search.shopping.naver.com/gate.nhn?id=...</td>\n",
              "      <td>네이버</td>\n",
              "    </tr>\n",
              "    <tr>\n",
              "      <th>4</th>\n",
              "      <td>&lt;b&gt;몰스킨&lt;/b&gt; 노트 가죽 하드커버 각인 감성 고급 명품 업무용 이쁜 심플</td>\n",
              "      <td>24900</td>\n",
              "      <td>https://search.shopping.naver.com/gate.nhn?id=...</td>\n",
              "      <td>베스트펜</td>\n",
              "    </tr>\n",
              "    <tr>\n",
              "      <th>5</th>\n",
              "      <td>[&lt;b&gt;몰스킨&lt;/b&gt;] 2022-23년 18개월 다이어리(데일리, 위클리, 먼슬리,...</td>\n",
              "      <td>28000</td>\n",
              "      <td>https://search.shopping.naver.com/gate.nhn?id=...</td>\n",
              "      <td>몰스킨공식온라인스토어</td>\n",
              "    </tr>\n",
              "    <tr>\n",
              "      <th>6</th>\n",
              "      <td>&lt;b&gt;몰스킨&lt;/b&gt; 클래식 노트 소프트커버 룰드 라지 리프블루</td>\n",
              "      <td>19650</td>\n",
              "      <td>https://search.shopping.naver.com/gate.nhn?id=...</td>\n",
              "      <td>네이버</td>\n",
              "    </tr>\n",
              "    <tr>\n",
              "      <th>7</th>\n",
              "      <td>&lt;b&gt;몰스킨&lt;/b&gt; 2023 위클리 18개월 다이어리 소프트커버 라지 색상선택</td>\n",
              "      <td>39000</td>\n",
              "      <td>https://search.shopping.naver.com/gate.nhn?id=...</td>\n",
              "      <td>네이버</td>\n",
              "    </tr>\n",
              "    <tr>\n",
              "      <th>8</th>\n",
              "      <td>&lt;b&gt;몰스킨&lt;/b&gt; 무료각인 룰드 노트 하드 포켓 -머틀그린</td>\n",
              "      <td>18850</td>\n",
              "      <td>https://search.shopping.naver.com/gate.nhn?id=...</td>\n",
              "      <td>네이버</td>\n",
              "    </tr>\n",
              "    <tr>\n",
              "      <th>9</th>\n",
              "      <td>&lt;b&gt;몰스킨&lt;/b&gt; 클래식노트 플레인 하드 L</td>\n",
              "      <td>19440</td>\n",
              "      <td>https://search.shopping.naver.com/gate.nhn?id=...</td>\n",
              "      <td>네이버</td>\n",
              "    </tr>\n",
              "  </tbody>\n",
              "</table>\n",
              "</div>\n",
              "      <button class=\"colab-df-convert\" onclick=\"convertToInteractive('df-ef06be30-c091-4581-a421-3a033ad01847')\"\n",
              "              title=\"Convert this dataframe to an interactive table.\"\n",
              "              style=\"display:none;\">\n",
              "        \n",
              "  <svg xmlns=\"http://www.w3.org/2000/svg\" height=\"24px\"viewBox=\"0 0 24 24\"\n",
              "       width=\"24px\">\n",
              "    <path d=\"M0 0h24v24H0V0z\" fill=\"none\"/>\n",
              "    <path d=\"M18.56 5.44l.94 2.06.94-2.06 2.06-.94-2.06-.94-.94-2.06-.94 2.06-2.06.94zm-11 1L8.5 8.5l.94-2.06 2.06-.94-2.06-.94L8.5 2.5l-.94 2.06-2.06.94zm10 10l.94 2.06.94-2.06 2.06-.94-2.06-.94-.94-2.06-.94 2.06-2.06.94z\"/><path d=\"M17.41 7.96l-1.37-1.37c-.4-.4-.92-.59-1.43-.59-.52 0-1.04.2-1.43.59L10.3 9.45l-7.72 7.72c-.78.78-.78 2.05 0 2.83L4 21.41c.39.39.9.59 1.41.59.51 0 1.02-.2 1.41-.59l7.78-7.78 2.81-2.81c.8-.78.8-2.07 0-2.86zM5.41 20L4 18.59l7.72-7.72 1.47 1.35L5.41 20z\"/>\n",
              "  </svg>\n",
              "      </button>\n",
              "      \n",
              "  <style>\n",
              "    .colab-df-container {\n",
              "      display:flex;\n",
              "      flex-wrap:wrap;\n",
              "      gap: 12px;\n",
              "    }\n",
              "\n",
              "    .colab-df-convert {\n",
              "      background-color: #E8F0FE;\n",
              "      border: none;\n",
              "      border-radius: 50%;\n",
              "      cursor: pointer;\n",
              "      display: none;\n",
              "      fill: #1967D2;\n",
              "      height: 32px;\n",
              "      padding: 0 0 0 0;\n",
              "      width: 32px;\n",
              "    }\n",
              "\n",
              "    .colab-df-convert:hover {\n",
              "      background-color: #E2EBFA;\n",
              "      box-shadow: 0px 1px 2px rgba(60, 64, 67, 0.3), 0px 1px 3px 1px rgba(60, 64, 67, 0.15);\n",
              "      fill: #174EA6;\n",
              "    }\n",
              "\n",
              "    [theme=dark] .colab-df-convert {\n",
              "      background-color: #3B4455;\n",
              "      fill: #D2E3FC;\n",
              "    }\n",
              "\n",
              "    [theme=dark] .colab-df-convert:hover {\n",
              "      background-color: #434B5C;\n",
              "      box-shadow: 0px 1px 3px 1px rgba(0, 0, 0, 0.15);\n",
              "      filter: drop-shadow(0px 1px 2px rgba(0, 0, 0, 0.3));\n",
              "      fill: #FFFFFF;\n",
              "    }\n",
              "  </style>\n",
              "\n",
              "      <script>\n",
              "        const buttonEl =\n",
              "          document.querySelector('#df-ef06be30-c091-4581-a421-3a033ad01847 button.colab-df-convert');\n",
              "        buttonEl.style.display =\n",
              "          google.colab.kernel.accessAllowed ? 'block' : 'none';\n",
              "\n",
              "        async function convertToInteractive(key) {\n",
              "          const element = document.querySelector('#df-ef06be30-c091-4581-a421-3a033ad01847');\n",
              "          const dataTable =\n",
              "            await google.colab.kernel.invokeFunction('convertToInteractive',\n",
              "                                                     [key], {});\n",
              "          if (!dataTable) return;\n",
              "\n",
              "          const docLinkHtml = 'Like what you see? Visit the ' +\n",
              "            '<a target=\"_blank\" href=https://colab.research.google.com/notebooks/data_table.ipynb>data table notebook</a>'\n",
              "            + ' to learn more about interactive tables.';\n",
              "          element.innerHTML = '';\n",
              "          dataTable['output_type'] = 'display_data';\n",
              "          await google.colab.output.renderOutput(dataTable, element);\n",
              "          const docLink = document.createElement('div');\n",
              "          docLink.innerHTML = docLinkHtml;\n",
              "          element.appendChild(docLink);\n",
              "        }\n",
              "      </script>\n",
              "    </div>\n",
              "  </div>\n",
              "  "
            ]
          },
          "metadata": {},
          "execution_count": 15
        }
      ]
    },
    {
      "cell_type": "markdown",
      "source": [
        "### delete_tag()"
      ],
      "metadata": {
        "id": "wTrMADoNWugL"
      },
      "id": "wTrMADoNWugL"
    },
    {
      "cell_type": "code",
      "source": [
        "def delete_tag(input_str):\n",
        "  input_str = input_str.replace(\"<b>\",\"'\")\n",
        "  input_str = input_str.replace(\"</b>\",\"'\")\n",
        "  return input_str"
      ],
      "metadata": {
        "id": "ZNyALPrJWe3N"
      },
      "id": "ZNyALPrJWe3N",
      "execution_count": 16,
      "outputs": []
    },
    {
      "cell_type": "code",
      "source": [
        "import pandas as pd\n",
        "\n",
        "def get_fields(json_data):\n",
        "  title = [delete_tag(each[\"title\"]) for each in json_data[\"items\"]]\n",
        "  link = [each[\"link\"] for each in json_data[\"items\"]]\n",
        "  lprice = [each[\"lprice\"] for each in json_data[\"items\"]]\n",
        "  mall_name = [each[\"mallName\"] for each in json_data[\"items\"]]\n",
        "\n",
        "  result_pd = pd.DataFrame({\n",
        "      \"title\" : title,\n",
        "      \"link\" : link,\n",
        "      \"lprice\" : lprice,\n",
        "      \"mall\" : mall_name,\n",
        "  },columns = [\"title\",\"lprice\",\"link\",\"mall\"])\n",
        "  return result_pd"
      ],
      "metadata": {
        "id": "7hvkKYPUW5kl"
      },
      "id": "7hvkKYPUW5kl",
      "execution_count": 17,
      "outputs": []
    },
    {
      "cell_type": "code",
      "source": [
        "get_fields(one_result)"
      ],
      "metadata": {
        "colab": {
          "base_uri": "https://localhost:8080/",
          "height": 363
        },
        "id": "7Fq4h_9pW_dX",
        "outputId": "e20464f6-8508-4bdc-9a2b-dd6f5780a103"
      },
      "id": "7Fq4h_9pW_dX",
      "execution_count": 18,
      "outputs": [
        {
          "output_type": "execute_result",
          "data": {
            "text/plain": [
              "                                            title lprice  \\\n",
              "0                   '몰스킨' 클래식 노트 소프트커버 도트 포켓 머틀그린  20760   \n",
              "1                  '몰스킨' 클래식노트 익스팬디드 소프트커버 사파이어블루  19410   \n",
              "2          '몰스킨' 2023 위클리 18개월 다이어리 소프트커버 포켓 색상선택  28000   \n",
              "3             '몰스킨' 다이어리 수첩 데일리 위클리 파인그린 레몬옐로우 룰드   9300   \n",
              "4          '몰스킨' 노트 가죽 하드커버 각인 감성 고급 명품 업무용 이쁜 심플  24900   \n",
              "5  ['몰스킨'] 2022-23년 18개월 다이어리(데일리, 위클리, 먼슬리, 한정판)  28000   \n",
              "6                   '몰스킨' 클래식 노트 소프트커버 룰드 라지 리프블루  19650   \n",
              "7          '몰스킨' 2023 위클리 18개월 다이어리 소프트커버 라지 색상선택  39000   \n",
              "8                    '몰스킨' 무료각인 룰드 노트 하드 포켓 -머틀그린  18850   \n",
              "9                            '몰스킨' 클래식노트 플레인 하드 L  19440   \n",
              "\n",
              "                                                link         mall  \n",
              "0  https://search.shopping.naver.com/gate.nhn?id=...          네이버  \n",
              "1  https://search.shopping.naver.com/gate.nhn?id=...          네이버  \n",
              "2  https://search.shopping.naver.com/gate.nhn?id=...          네이버  \n",
              "3  https://search.shopping.naver.com/gate.nhn?id=...          네이버  \n",
              "4  https://search.shopping.naver.com/gate.nhn?id=...         베스트펜  \n",
              "5  https://search.shopping.naver.com/gate.nhn?id=...  몰스킨공식온라인스토어  \n",
              "6  https://search.shopping.naver.com/gate.nhn?id=...          네이버  \n",
              "7  https://search.shopping.naver.com/gate.nhn?id=...          네이버  \n",
              "8  https://search.shopping.naver.com/gate.nhn?id=...          네이버  \n",
              "9  https://search.shopping.naver.com/gate.nhn?id=...          네이버  "
            ],
            "text/html": [
              "\n",
              "  <div id=\"df-c99ec663-697b-4df0-82dc-be31651adb43\">\n",
              "    <div class=\"colab-df-container\">\n",
              "      <div>\n",
              "<style scoped>\n",
              "    .dataframe tbody tr th:only-of-type {\n",
              "        vertical-align: middle;\n",
              "    }\n",
              "\n",
              "    .dataframe tbody tr th {\n",
              "        vertical-align: top;\n",
              "    }\n",
              "\n",
              "    .dataframe thead th {\n",
              "        text-align: right;\n",
              "    }\n",
              "</style>\n",
              "<table border=\"1\" class=\"dataframe\">\n",
              "  <thead>\n",
              "    <tr style=\"text-align: right;\">\n",
              "      <th></th>\n",
              "      <th>title</th>\n",
              "      <th>lprice</th>\n",
              "      <th>link</th>\n",
              "      <th>mall</th>\n",
              "    </tr>\n",
              "  </thead>\n",
              "  <tbody>\n",
              "    <tr>\n",
              "      <th>0</th>\n",
              "      <td>'몰스킨' 클래식 노트 소프트커버 도트 포켓 머틀그린</td>\n",
              "      <td>20760</td>\n",
              "      <td>https://search.shopping.naver.com/gate.nhn?id=...</td>\n",
              "      <td>네이버</td>\n",
              "    </tr>\n",
              "    <tr>\n",
              "      <th>1</th>\n",
              "      <td>'몰스킨' 클래식노트 익스팬디드 소프트커버 사파이어블루</td>\n",
              "      <td>19410</td>\n",
              "      <td>https://search.shopping.naver.com/gate.nhn?id=...</td>\n",
              "      <td>네이버</td>\n",
              "    </tr>\n",
              "    <tr>\n",
              "      <th>2</th>\n",
              "      <td>'몰스킨' 2023 위클리 18개월 다이어리 소프트커버 포켓 색상선택</td>\n",
              "      <td>28000</td>\n",
              "      <td>https://search.shopping.naver.com/gate.nhn?id=...</td>\n",
              "      <td>네이버</td>\n",
              "    </tr>\n",
              "    <tr>\n",
              "      <th>3</th>\n",
              "      <td>'몰스킨' 다이어리 수첩 데일리 위클리 파인그린 레몬옐로우 룰드</td>\n",
              "      <td>9300</td>\n",
              "      <td>https://search.shopping.naver.com/gate.nhn?id=...</td>\n",
              "      <td>네이버</td>\n",
              "    </tr>\n",
              "    <tr>\n",
              "      <th>4</th>\n",
              "      <td>'몰스킨' 노트 가죽 하드커버 각인 감성 고급 명품 업무용 이쁜 심플</td>\n",
              "      <td>24900</td>\n",
              "      <td>https://search.shopping.naver.com/gate.nhn?id=...</td>\n",
              "      <td>베스트펜</td>\n",
              "    </tr>\n",
              "    <tr>\n",
              "      <th>5</th>\n",
              "      <td>['몰스킨'] 2022-23년 18개월 다이어리(데일리, 위클리, 먼슬리, 한정판)</td>\n",
              "      <td>28000</td>\n",
              "      <td>https://search.shopping.naver.com/gate.nhn?id=...</td>\n",
              "      <td>몰스킨공식온라인스토어</td>\n",
              "    </tr>\n",
              "    <tr>\n",
              "      <th>6</th>\n",
              "      <td>'몰스킨' 클래식 노트 소프트커버 룰드 라지 리프블루</td>\n",
              "      <td>19650</td>\n",
              "      <td>https://search.shopping.naver.com/gate.nhn?id=...</td>\n",
              "      <td>네이버</td>\n",
              "    </tr>\n",
              "    <tr>\n",
              "      <th>7</th>\n",
              "      <td>'몰스킨' 2023 위클리 18개월 다이어리 소프트커버 라지 색상선택</td>\n",
              "      <td>39000</td>\n",
              "      <td>https://search.shopping.naver.com/gate.nhn?id=...</td>\n",
              "      <td>네이버</td>\n",
              "    </tr>\n",
              "    <tr>\n",
              "      <th>8</th>\n",
              "      <td>'몰스킨' 무료각인 룰드 노트 하드 포켓 -머틀그린</td>\n",
              "      <td>18850</td>\n",
              "      <td>https://search.shopping.naver.com/gate.nhn?id=...</td>\n",
              "      <td>네이버</td>\n",
              "    </tr>\n",
              "    <tr>\n",
              "      <th>9</th>\n",
              "      <td>'몰스킨' 클래식노트 플레인 하드 L</td>\n",
              "      <td>19440</td>\n",
              "      <td>https://search.shopping.naver.com/gate.nhn?id=...</td>\n",
              "      <td>네이버</td>\n",
              "    </tr>\n",
              "  </tbody>\n",
              "</table>\n",
              "</div>\n",
              "      <button class=\"colab-df-convert\" onclick=\"convertToInteractive('df-c99ec663-697b-4df0-82dc-be31651adb43')\"\n",
              "              title=\"Convert this dataframe to an interactive table.\"\n",
              "              style=\"display:none;\">\n",
              "        \n",
              "  <svg xmlns=\"http://www.w3.org/2000/svg\" height=\"24px\"viewBox=\"0 0 24 24\"\n",
              "       width=\"24px\">\n",
              "    <path d=\"M0 0h24v24H0V0z\" fill=\"none\"/>\n",
              "    <path d=\"M18.56 5.44l.94 2.06.94-2.06 2.06-.94-2.06-.94-.94-2.06-.94 2.06-2.06.94zm-11 1L8.5 8.5l.94-2.06 2.06-.94-2.06-.94L8.5 2.5l-.94 2.06-2.06.94zm10 10l.94 2.06.94-2.06 2.06-.94-2.06-.94-.94-2.06-.94 2.06-2.06.94z\"/><path d=\"M17.41 7.96l-1.37-1.37c-.4-.4-.92-.59-1.43-.59-.52 0-1.04.2-1.43.59L10.3 9.45l-7.72 7.72c-.78.78-.78 2.05 0 2.83L4 21.41c.39.39.9.59 1.41.59.51 0 1.02-.2 1.41-.59l7.78-7.78 2.81-2.81c.8-.78.8-2.07 0-2.86zM5.41 20L4 18.59l7.72-7.72 1.47 1.35L5.41 20z\"/>\n",
              "  </svg>\n",
              "      </button>\n",
              "      \n",
              "  <style>\n",
              "    .colab-df-container {\n",
              "      display:flex;\n",
              "      flex-wrap:wrap;\n",
              "      gap: 12px;\n",
              "    }\n",
              "\n",
              "    .colab-df-convert {\n",
              "      background-color: #E8F0FE;\n",
              "      border: none;\n",
              "      border-radius: 50%;\n",
              "      cursor: pointer;\n",
              "      display: none;\n",
              "      fill: #1967D2;\n",
              "      height: 32px;\n",
              "      padding: 0 0 0 0;\n",
              "      width: 32px;\n",
              "    }\n",
              "\n",
              "    .colab-df-convert:hover {\n",
              "      background-color: #E2EBFA;\n",
              "      box-shadow: 0px 1px 2px rgba(60, 64, 67, 0.3), 0px 1px 3px 1px rgba(60, 64, 67, 0.15);\n",
              "      fill: #174EA6;\n",
              "    }\n",
              "\n",
              "    [theme=dark] .colab-df-convert {\n",
              "      background-color: #3B4455;\n",
              "      fill: #D2E3FC;\n",
              "    }\n",
              "\n",
              "    [theme=dark] .colab-df-convert:hover {\n",
              "      background-color: #434B5C;\n",
              "      box-shadow: 0px 1px 3px 1px rgba(0, 0, 0, 0.15);\n",
              "      filter: drop-shadow(0px 1px 2px rgba(0, 0, 0, 0.3));\n",
              "      fill: #FFFFFF;\n",
              "    }\n",
              "  </style>\n",
              "\n",
              "      <script>\n",
              "        const buttonEl =\n",
              "          document.querySelector('#df-c99ec663-697b-4df0-82dc-be31651adb43 button.colab-df-convert');\n",
              "        buttonEl.style.display =\n",
              "          google.colab.kernel.accessAllowed ? 'block' : 'none';\n",
              "\n",
              "        async function convertToInteractive(key) {\n",
              "          const element = document.querySelector('#df-c99ec663-697b-4df0-82dc-be31651adb43');\n",
              "          const dataTable =\n",
              "            await google.colab.kernel.invokeFunction('convertToInteractive',\n",
              "                                                     [key], {});\n",
              "          if (!dataTable) return;\n",
              "\n",
              "          const docLinkHtml = 'Like what you see? Visit the ' +\n",
              "            '<a target=\"_blank\" href=https://colab.research.google.com/notebooks/data_table.ipynb>data table notebook</a>'\n",
              "            + ' to learn more about interactive tables.';\n",
              "          element.innerHTML = '';\n",
              "          dataTable['output_type'] = 'display_data';\n",
              "          await google.colab.output.renderOutput(dataTable, element);\n",
              "          const docLink = document.createElement('div');\n",
              "          docLink.innerHTML = docLinkHtml;\n",
              "          element.appendChild(docLink);\n",
              "        }\n",
              "      </script>\n",
              "    </div>\n",
              "  </div>\n",
              "  "
            ]
          },
          "metadata": {},
          "execution_count": 18
        }
      ]
    },
    {
      "cell_type": "code",
      "source": [
        "url = gen_search_url(\"shop\", \"몰스킨\",1,5)\n",
        "json_result = get_result_onpage(url)\n",
        "pd_result = get_fields(json_result)"
      ],
      "metadata": {
        "colab": {
          "base_uri": "https://localhost:8080/"
        },
        "id": "nB5UuQWCXCgR",
        "outputId": "c35fa44a-5d59-454d-d18e-9beccde09782"
      },
      "id": "nB5UuQWCXCgR",
      "execution_count": 19,
      "outputs": [
        {
          "output_type": "stream",
          "name": "stdout",
          "text": [
            "[2022-08-09 12:22:39.855251] Url Request Success\n"
          ]
        }
      ]
    },
    {
      "cell_type": "code",
      "source": [
        "pd_result"
      ],
      "metadata": {
        "colab": {
          "base_uri": "https://localhost:8080/",
          "height": 363
        },
        "id": "AEso3__cXdHZ",
        "outputId": "1b4d837d-571a-4396-f86f-97932592a9d6"
      },
      "id": "AEso3__cXdHZ",
      "execution_count": 20,
      "outputs": [
        {
          "output_type": "execute_result",
          "data": {
            "text/plain": [
              "                                            title lprice  \\\n",
              "0                   '몰스킨' 클래식 노트 소프트커버 도트 포켓 머틀그린  20760   \n",
              "1                  '몰스킨' 클래식노트 익스팬디드 소프트커버 사파이어블루  19410   \n",
              "2          '몰스킨' 2023 위클리 18개월 다이어리 소프트커버 포켓 색상선택  28000   \n",
              "3             '몰스킨' 다이어리 수첩 데일리 위클리 파인그린 레몬옐로우 룰드   9300   \n",
              "4          '몰스킨' 노트 가죽 하드커버 각인 감성 고급 명품 업무용 이쁜 심플  24900   \n",
              "5  ['몰스킨'] 2022-23년 18개월 다이어리(데일리, 위클리, 먼슬리, 한정판)  28000   \n",
              "6                   '몰스킨' 클래식 노트 소프트커버 룰드 라지 리프블루  19650   \n",
              "7          '몰스킨' 2023 위클리 18개월 다이어리 소프트커버 라지 색상선택  39000   \n",
              "8                    '몰스킨' 무료각인 룰드 노트 하드 포켓 -머틀그린  18850   \n",
              "9                            '몰스킨' 클래식노트 플레인 하드 L  19440   \n",
              "\n",
              "                                                link         mall  \n",
              "0  https://search.shopping.naver.com/gate.nhn?id=...          네이버  \n",
              "1  https://search.shopping.naver.com/gate.nhn?id=...          네이버  \n",
              "2  https://search.shopping.naver.com/gate.nhn?id=...          네이버  \n",
              "3  https://search.shopping.naver.com/gate.nhn?id=...          네이버  \n",
              "4  https://search.shopping.naver.com/gate.nhn?id=...         베스트펜  \n",
              "5  https://search.shopping.naver.com/gate.nhn?id=...  몰스킨공식온라인스토어  \n",
              "6  https://search.shopping.naver.com/gate.nhn?id=...          네이버  \n",
              "7  https://search.shopping.naver.com/gate.nhn?id=...          네이버  \n",
              "8  https://search.shopping.naver.com/gate.nhn?id=...          네이버  \n",
              "9  https://search.shopping.naver.com/gate.nhn?id=...          네이버  "
            ],
            "text/html": [
              "\n",
              "  <div id=\"df-0a0a78a0-4ec4-4b31-bf6d-d4d8e6124687\">\n",
              "    <div class=\"colab-df-container\">\n",
              "      <div>\n",
              "<style scoped>\n",
              "    .dataframe tbody tr th:only-of-type {\n",
              "        vertical-align: middle;\n",
              "    }\n",
              "\n",
              "    .dataframe tbody tr th {\n",
              "        vertical-align: top;\n",
              "    }\n",
              "\n",
              "    .dataframe thead th {\n",
              "        text-align: right;\n",
              "    }\n",
              "</style>\n",
              "<table border=\"1\" class=\"dataframe\">\n",
              "  <thead>\n",
              "    <tr style=\"text-align: right;\">\n",
              "      <th></th>\n",
              "      <th>title</th>\n",
              "      <th>lprice</th>\n",
              "      <th>link</th>\n",
              "      <th>mall</th>\n",
              "    </tr>\n",
              "  </thead>\n",
              "  <tbody>\n",
              "    <tr>\n",
              "      <th>0</th>\n",
              "      <td>'몰스킨' 클래식 노트 소프트커버 도트 포켓 머틀그린</td>\n",
              "      <td>20760</td>\n",
              "      <td>https://search.shopping.naver.com/gate.nhn?id=...</td>\n",
              "      <td>네이버</td>\n",
              "    </tr>\n",
              "    <tr>\n",
              "      <th>1</th>\n",
              "      <td>'몰스킨' 클래식노트 익스팬디드 소프트커버 사파이어블루</td>\n",
              "      <td>19410</td>\n",
              "      <td>https://search.shopping.naver.com/gate.nhn?id=...</td>\n",
              "      <td>네이버</td>\n",
              "    </tr>\n",
              "    <tr>\n",
              "      <th>2</th>\n",
              "      <td>'몰스킨' 2023 위클리 18개월 다이어리 소프트커버 포켓 색상선택</td>\n",
              "      <td>28000</td>\n",
              "      <td>https://search.shopping.naver.com/gate.nhn?id=...</td>\n",
              "      <td>네이버</td>\n",
              "    </tr>\n",
              "    <tr>\n",
              "      <th>3</th>\n",
              "      <td>'몰스킨' 다이어리 수첩 데일리 위클리 파인그린 레몬옐로우 룰드</td>\n",
              "      <td>9300</td>\n",
              "      <td>https://search.shopping.naver.com/gate.nhn?id=...</td>\n",
              "      <td>네이버</td>\n",
              "    </tr>\n",
              "    <tr>\n",
              "      <th>4</th>\n",
              "      <td>'몰스킨' 노트 가죽 하드커버 각인 감성 고급 명품 업무용 이쁜 심플</td>\n",
              "      <td>24900</td>\n",
              "      <td>https://search.shopping.naver.com/gate.nhn?id=...</td>\n",
              "      <td>베스트펜</td>\n",
              "    </tr>\n",
              "    <tr>\n",
              "      <th>5</th>\n",
              "      <td>['몰스킨'] 2022-23년 18개월 다이어리(데일리, 위클리, 먼슬리, 한정판)</td>\n",
              "      <td>28000</td>\n",
              "      <td>https://search.shopping.naver.com/gate.nhn?id=...</td>\n",
              "      <td>몰스킨공식온라인스토어</td>\n",
              "    </tr>\n",
              "    <tr>\n",
              "      <th>6</th>\n",
              "      <td>'몰스킨' 클래식 노트 소프트커버 룰드 라지 리프블루</td>\n",
              "      <td>19650</td>\n",
              "      <td>https://search.shopping.naver.com/gate.nhn?id=...</td>\n",
              "      <td>네이버</td>\n",
              "    </tr>\n",
              "    <tr>\n",
              "      <th>7</th>\n",
              "      <td>'몰스킨' 2023 위클리 18개월 다이어리 소프트커버 라지 색상선택</td>\n",
              "      <td>39000</td>\n",
              "      <td>https://search.shopping.naver.com/gate.nhn?id=...</td>\n",
              "      <td>네이버</td>\n",
              "    </tr>\n",
              "    <tr>\n",
              "      <th>8</th>\n",
              "      <td>'몰스킨' 무료각인 룰드 노트 하드 포켓 -머틀그린</td>\n",
              "      <td>18850</td>\n",
              "      <td>https://search.shopping.naver.com/gate.nhn?id=...</td>\n",
              "      <td>네이버</td>\n",
              "    </tr>\n",
              "    <tr>\n",
              "      <th>9</th>\n",
              "      <td>'몰스킨' 클래식노트 플레인 하드 L</td>\n",
              "      <td>19440</td>\n",
              "      <td>https://search.shopping.naver.com/gate.nhn?id=...</td>\n",
              "      <td>네이버</td>\n",
              "    </tr>\n",
              "  </tbody>\n",
              "</table>\n",
              "</div>\n",
              "      <button class=\"colab-df-convert\" onclick=\"convertToInteractive('df-0a0a78a0-4ec4-4b31-bf6d-d4d8e6124687')\"\n",
              "              title=\"Convert this dataframe to an interactive table.\"\n",
              "              style=\"display:none;\">\n",
              "        \n",
              "  <svg xmlns=\"http://www.w3.org/2000/svg\" height=\"24px\"viewBox=\"0 0 24 24\"\n",
              "       width=\"24px\">\n",
              "    <path d=\"M0 0h24v24H0V0z\" fill=\"none\"/>\n",
              "    <path d=\"M18.56 5.44l.94 2.06.94-2.06 2.06-.94-2.06-.94-.94-2.06-.94 2.06-2.06.94zm-11 1L8.5 8.5l.94-2.06 2.06-.94-2.06-.94L8.5 2.5l-.94 2.06-2.06.94zm10 10l.94 2.06.94-2.06 2.06-.94-2.06-.94-.94-2.06-.94 2.06-2.06.94z\"/><path d=\"M17.41 7.96l-1.37-1.37c-.4-.4-.92-.59-1.43-.59-.52 0-1.04.2-1.43.59L10.3 9.45l-7.72 7.72c-.78.78-.78 2.05 0 2.83L4 21.41c.39.39.9.59 1.41.59.51 0 1.02-.2 1.41-.59l7.78-7.78 2.81-2.81c.8-.78.8-2.07 0-2.86zM5.41 20L4 18.59l7.72-7.72 1.47 1.35L5.41 20z\"/>\n",
              "  </svg>\n",
              "      </button>\n",
              "      \n",
              "  <style>\n",
              "    .colab-df-container {\n",
              "      display:flex;\n",
              "      flex-wrap:wrap;\n",
              "      gap: 12px;\n",
              "    }\n",
              "\n",
              "    .colab-df-convert {\n",
              "      background-color: #E8F0FE;\n",
              "      border: none;\n",
              "      border-radius: 50%;\n",
              "      cursor: pointer;\n",
              "      display: none;\n",
              "      fill: #1967D2;\n",
              "      height: 32px;\n",
              "      padding: 0 0 0 0;\n",
              "      width: 32px;\n",
              "    }\n",
              "\n",
              "    .colab-df-convert:hover {\n",
              "      background-color: #E2EBFA;\n",
              "      box-shadow: 0px 1px 2px rgba(60, 64, 67, 0.3), 0px 1px 3px 1px rgba(60, 64, 67, 0.15);\n",
              "      fill: #174EA6;\n",
              "    }\n",
              "\n",
              "    [theme=dark] .colab-df-convert {\n",
              "      background-color: #3B4455;\n",
              "      fill: #D2E3FC;\n",
              "    }\n",
              "\n",
              "    [theme=dark] .colab-df-convert:hover {\n",
              "      background-color: #434B5C;\n",
              "      box-shadow: 0px 1px 3px 1px rgba(0, 0, 0, 0.15);\n",
              "      filter: drop-shadow(0px 1px 2px rgba(0, 0, 0, 0.3));\n",
              "      fill: #FFFFFF;\n",
              "    }\n",
              "  </style>\n",
              "\n",
              "      <script>\n",
              "        const buttonEl =\n",
              "          document.querySelector('#df-0a0a78a0-4ec4-4b31-bf6d-d4d8e6124687 button.colab-df-convert');\n",
              "        buttonEl.style.display =\n",
              "          google.colab.kernel.accessAllowed ? 'block' : 'none';\n",
              "\n",
              "        async function convertToInteractive(key) {\n",
              "          const element = document.querySelector('#df-0a0a78a0-4ec4-4b31-bf6d-d4d8e6124687');\n",
              "          const dataTable =\n",
              "            await google.colab.kernel.invokeFunction('convertToInteractive',\n",
              "                                                     [key], {});\n",
              "          if (!dataTable) return;\n",
              "\n",
              "          const docLinkHtml = 'Like what you see? Visit the ' +\n",
              "            '<a target=\"_blank\" href=https://colab.research.google.com/notebooks/data_table.ipynb>data table notebook</a>'\n",
              "            + ' to learn more about interactive tables.';\n",
              "          element.innerHTML = '';\n",
              "          dataTable['output_type'] = 'display_data';\n",
              "          await google.colab.output.renderOutput(dataTable, element);\n",
              "          const docLink = document.createElement('div');\n",
              "          docLink.innerHTML = docLinkHtml;\n",
              "          element.appendChild(docLink);\n",
              "        }\n",
              "      </script>\n",
              "    </div>\n",
              "  </div>\n",
              "  "
            ]
          },
          "metadata": {},
          "execution_count": 20
        }
      ]
    },
    {
      "cell_type": "markdown",
      "source": [
        "### actMain()"
      ],
      "metadata": {
        "id": "CdFULGpdXghn"
      },
      "id": "CdFULGpdXghn"
    },
    {
      "cell_type": "code",
      "source": [
        "for n in range(1,1000,100):\n",
        "  print(n)"
      ],
      "metadata": {
        "colab": {
          "base_uri": "https://localhost:8080/"
        },
        "id": "QaJVEQJmXeUJ",
        "outputId": "87b73eb9-1123-47f4-a286-a82d8b355478"
      },
      "id": "QaJVEQJmXeUJ",
      "execution_count": 21,
      "outputs": [
        {
          "output_type": "stream",
          "name": "stdout",
          "text": [
            "1\n",
            "101\n",
            "201\n",
            "301\n",
            "401\n",
            "501\n",
            "601\n",
            "701\n",
            "801\n",
            "901\n"
          ]
        }
      ]
    },
    {
      "cell_type": "code",
      "source": [
        "result_mol = []\n",
        "\n",
        "for n in range(1,1000,100):\n",
        "  url = gen_search_url(\"shop\",\"몰스킨\",n,100)\n",
        "  json_result = get_result_onpage(url)\n",
        "  pd_result = get_fields(json_result)\n",
        "\n",
        "  result_mol.append(pd_result)\n",
        "\n",
        "\n",
        "result_mol = pd.concat(result_mol)"
      ],
      "metadata": {
        "colab": {
          "base_uri": "https://localhost:8080/"
        },
        "id": "aCyFWfWhXlk_",
        "outputId": "fd960202-daa2-451d-9a10-70bdf7f935f4"
      },
      "id": "aCyFWfWhXlk_",
      "execution_count": 22,
      "outputs": [
        {
          "output_type": "stream",
          "name": "stdout",
          "text": [
            "[2022-08-09 12:22:43.784073] Url Request Success\n",
            "[2022-08-09 12:22:44.094125] Url Request Success\n",
            "[2022-08-09 12:22:44.446268] Url Request Success\n",
            "[2022-08-09 12:22:44.711091] Url Request Success\n",
            "[2022-08-09 12:22:44.949486] Url Request Success\n",
            "[2022-08-09 12:22:45.299052] Url Request Success\n",
            "[2022-08-09 12:22:45.589577] Url Request Success\n",
            "[2022-08-09 12:22:45.904688] Url Request Success\n",
            "[2022-08-09 12:22:46.217685] Url Request Success\n",
            "[2022-08-09 12:22:46.539300] Url Request Success\n"
          ]
        }
      ]
    },
    {
      "cell_type": "code",
      "source": [
        "result_mol.info()"
      ],
      "metadata": {
        "colab": {
          "base_uri": "https://localhost:8080/"
        },
        "id": "-5SOjInrXwpz",
        "outputId": "75dfe321-143d-43e5-b0ab-6acad88f6720"
      },
      "id": "-5SOjInrXwpz",
      "execution_count": 23,
      "outputs": [
        {
          "output_type": "stream",
          "name": "stdout",
          "text": [
            "<class 'pandas.core.frame.DataFrame'>\n",
            "Int64Index: 100 entries, 0 to 9\n",
            "Data columns (total 4 columns):\n",
            " #   Column  Non-Null Count  Dtype \n",
            "---  ------  --------------  ----- \n",
            " 0   title   100 non-null    object\n",
            " 1   lprice  100 non-null    object\n",
            " 2   link    100 non-null    object\n",
            " 3   mall    100 non-null    object\n",
            "dtypes: object(4)\n",
            "memory usage: 3.9+ KB\n"
          ]
        }
      ]
    },
    {
      "cell_type": "code",
      "source": [
        "result_mol.reset_index(drop=True, inplace = True)\n",
        "result_mol.info()"
      ],
      "metadata": {
        "colab": {
          "base_uri": "https://localhost:8080/"
        },
        "id": "gc61BejxX1zS",
        "outputId": "22344d10-104c-48cf-95f9-014acde30a1b"
      },
      "id": "gc61BejxX1zS",
      "execution_count": 24,
      "outputs": [
        {
          "output_type": "stream",
          "name": "stdout",
          "text": [
            "<class 'pandas.core.frame.DataFrame'>\n",
            "RangeIndex: 100 entries, 0 to 99\n",
            "Data columns (total 4 columns):\n",
            " #   Column  Non-Null Count  Dtype \n",
            "---  ------  --------------  ----- \n",
            " 0   title   100 non-null    object\n",
            " 1   lprice  100 non-null    object\n",
            " 2   link    100 non-null    object\n",
            " 3   mall    100 non-null    object\n",
            "dtypes: object(4)\n",
            "memory usage: 3.2+ KB\n"
          ]
        }
      ]
    },
    {
      "cell_type": "code",
      "source": [
        "result_mol"
      ],
      "metadata": {
        "colab": {
          "base_uri": "https://localhost:8080/",
          "height": 424
        },
        "id": "8hPNM8wfZPLm",
        "outputId": "4d961173-dbb3-4d0a-efce-0aea2486b75d"
      },
      "id": "8hPNM8wfZPLm",
      "execution_count": 25,
      "outputs": [
        {
          "output_type": "execute_result",
          "data": {
            "text/plain": [
              "                                                title   lprice  \\\n",
              "0                       '몰스킨' 클래식 노트 소프트커버 도트 포켓 머틀그린    20760   \n",
              "1                      '몰스킨' 클래식노트 익스팬디드 소프트커버 사파이어블루    19410   \n",
              "2              '몰스킨' 2023 위클리 18개월 다이어리 소프트커버 포켓 색상선택    28000   \n",
              "3                 '몰스킨' 다이어리 수첩 데일리 위클리 파인그린 레몬옐로우 룰드     9300   \n",
              "4              '몰스킨' 노트 가죽 하드커버 각인 감성 고급 명품 업무용 이쁜 심플    24900   \n",
              "..                                                ...      ...   \n",
              "95  톰포드 '몰스킨' 데님 Moleskin Stretch Slim Fit Denim B...   479000   \n",
              "96                                    일본수입 '몰스킨' 스판자켓   101400   \n",
              "97            스톤아일랜드 20FW SHADOW PROJECT '몰스킨' 자켓 BLK  1312000   \n",
              "98                스톤아일랜드 22 '몰스킨' TC 고스트 코튼 나일론 코트 자켓  1451420   \n",
              "99                    KAPITAL 캐피탈 '몰스킨' CPO 슬래피 셔츠 코트   330000   \n",
              "\n",
              "                                                 link  mall  \n",
              "0   https://search.shopping.naver.com/gate.nhn?id=...   네이버  \n",
              "1   https://search.shopping.naver.com/gate.nhn?id=...   네이버  \n",
              "2   https://search.shopping.naver.com/gate.nhn?id=...   네이버  \n",
              "3   https://search.shopping.naver.com/gate.nhn?id=...   네이버  \n",
              "4   https://search.shopping.naver.com/gate.nhn?id=...  베스트펜  \n",
              "..                                                ...   ...  \n",
              "95  https://search.shopping.naver.com/gate.nhn?id=...   네이버  \n",
              "96  https://search.shopping.naver.com/gate.nhn?id=...   네이버  \n",
              "97  https://search.shopping.naver.com/gate.nhn?id=...   네이버  \n",
              "98  https://search.shopping.naver.com/gate.nhn?id=...   네이버  \n",
              "99  https://search.shopping.naver.com/gate.nhn?id=...   네이버  \n",
              "\n",
              "[100 rows x 4 columns]"
            ],
            "text/html": [
              "\n",
              "  <div id=\"df-f426d81e-2546-4f95-8660-dcb4aca2e2e8\">\n",
              "    <div class=\"colab-df-container\">\n",
              "      <div>\n",
              "<style scoped>\n",
              "    .dataframe tbody tr th:only-of-type {\n",
              "        vertical-align: middle;\n",
              "    }\n",
              "\n",
              "    .dataframe tbody tr th {\n",
              "        vertical-align: top;\n",
              "    }\n",
              "\n",
              "    .dataframe thead th {\n",
              "        text-align: right;\n",
              "    }\n",
              "</style>\n",
              "<table border=\"1\" class=\"dataframe\">\n",
              "  <thead>\n",
              "    <tr style=\"text-align: right;\">\n",
              "      <th></th>\n",
              "      <th>title</th>\n",
              "      <th>lprice</th>\n",
              "      <th>link</th>\n",
              "      <th>mall</th>\n",
              "    </tr>\n",
              "  </thead>\n",
              "  <tbody>\n",
              "    <tr>\n",
              "      <th>0</th>\n",
              "      <td>'몰스킨' 클래식 노트 소프트커버 도트 포켓 머틀그린</td>\n",
              "      <td>20760</td>\n",
              "      <td>https://search.shopping.naver.com/gate.nhn?id=...</td>\n",
              "      <td>네이버</td>\n",
              "    </tr>\n",
              "    <tr>\n",
              "      <th>1</th>\n",
              "      <td>'몰스킨' 클래식노트 익스팬디드 소프트커버 사파이어블루</td>\n",
              "      <td>19410</td>\n",
              "      <td>https://search.shopping.naver.com/gate.nhn?id=...</td>\n",
              "      <td>네이버</td>\n",
              "    </tr>\n",
              "    <tr>\n",
              "      <th>2</th>\n",
              "      <td>'몰스킨' 2023 위클리 18개월 다이어리 소프트커버 포켓 색상선택</td>\n",
              "      <td>28000</td>\n",
              "      <td>https://search.shopping.naver.com/gate.nhn?id=...</td>\n",
              "      <td>네이버</td>\n",
              "    </tr>\n",
              "    <tr>\n",
              "      <th>3</th>\n",
              "      <td>'몰스킨' 다이어리 수첩 데일리 위클리 파인그린 레몬옐로우 룰드</td>\n",
              "      <td>9300</td>\n",
              "      <td>https://search.shopping.naver.com/gate.nhn?id=...</td>\n",
              "      <td>네이버</td>\n",
              "    </tr>\n",
              "    <tr>\n",
              "      <th>4</th>\n",
              "      <td>'몰스킨' 노트 가죽 하드커버 각인 감성 고급 명품 업무용 이쁜 심플</td>\n",
              "      <td>24900</td>\n",
              "      <td>https://search.shopping.naver.com/gate.nhn?id=...</td>\n",
              "      <td>베스트펜</td>\n",
              "    </tr>\n",
              "    <tr>\n",
              "      <th>...</th>\n",
              "      <td>...</td>\n",
              "      <td>...</td>\n",
              "      <td>...</td>\n",
              "      <td>...</td>\n",
              "    </tr>\n",
              "    <tr>\n",
              "      <th>95</th>\n",
              "      <td>톰포드 '몰스킨' 데님 Moleskin Stretch Slim Fit Denim B...</td>\n",
              "      <td>479000</td>\n",
              "      <td>https://search.shopping.naver.com/gate.nhn?id=...</td>\n",
              "      <td>네이버</td>\n",
              "    </tr>\n",
              "    <tr>\n",
              "      <th>96</th>\n",
              "      <td>일본수입 '몰스킨' 스판자켓</td>\n",
              "      <td>101400</td>\n",
              "      <td>https://search.shopping.naver.com/gate.nhn?id=...</td>\n",
              "      <td>네이버</td>\n",
              "    </tr>\n",
              "    <tr>\n",
              "      <th>97</th>\n",
              "      <td>스톤아일랜드 20FW SHADOW PROJECT '몰스킨' 자켓 BLK</td>\n",
              "      <td>1312000</td>\n",
              "      <td>https://search.shopping.naver.com/gate.nhn?id=...</td>\n",
              "      <td>네이버</td>\n",
              "    </tr>\n",
              "    <tr>\n",
              "      <th>98</th>\n",
              "      <td>스톤아일랜드 22 '몰스킨' TC 고스트 코튼 나일론 코트 자켓</td>\n",
              "      <td>1451420</td>\n",
              "      <td>https://search.shopping.naver.com/gate.nhn?id=...</td>\n",
              "      <td>네이버</td>\n",
              "    </tr>\n",
              "    <tr>\n",
              "      <th>99</th>\n",
              "      <td>KAPITAL 캐피탈 '몰스킨' CPO 슬래피 셔츠 코트</td>\n",
              "      <td>330000</td>\n",
              "      <td>https://search.shopping.naver.com/gate.nhn?id=...</td>\n",
              "      <td>네이버</td>\n",
              "    </tr>\n",
              "  </tbody>\n",
              "</table>\n",
              "<p>100 rows × 4 columns</p>\n",
              "</div>\n",
              "      <button class=\"colab-df-convert\" onclick=\"convertToInteractive('df-f426d81e-2546-4f95-8660-dcb4aca2e2e8')\"\n",
              "              title=\"Convert this dataframe to an interactive table.\"\n",
              "              style=\"display:none;\">\n",
              "        \n",
              "  <svg xmlns=\"http://www.w3.org/2000/svg\" height=\"24px\"viewBox=\"0 0 24 24\"\n",
              "       width=\"24px\">\n",
              "    <path d=\"M0 0h24v24H0V0z\" fill=\"none\"/>\n",
              "    <path d=\"M18.56 5.44l.94 2.06.94-2.06 2.06-.94-2.06-.94-.94-2.06-.94 2.06-2.06.94zm-11 1L8.5 8.5l.94-2.06 2.06-.94-2.06-.94L8.5 2.5l-.94 2.06-2.06.94zm10 10l.94 2.06.94-2.06 2.06-.94-2.06-.94-.94-2.06-.94 2.06-2.06.94z\"/><path d=\"M17.41 7.96l-1.37-1.37c-.4-.4-.92-.59-1.43-.59-.52 0-1.04.2-1.43.59L10.3 9.45l-7.72 7.72c-.78.78-.78 2.05 0 2.83L4 21.41c.39.39.9.59 1.41.59.51 0 1.02-.2 1.41-.59l7.78-7.78 2.81-2.81c.8-.78.8-2.07 0-2.86zM5.41 20L4 18.59l7.72-7.72 1.47 1.35L5.41 20z\"/>\n",
              "  </svg>\n",
              "      </button>\n",
              "      \n",
              "  <style>\n",
              "    .colab-df-container {\n",
              "      display:flex;\n",
              "      flex-wrap:wrap;\n",
              "      gap: 12px;\n",
              "    }\n",
              "\n",
              "    .colab-df-convert {\n",
              "      background-color: #E8F0FE;\n",
              "      border: none;\n",
              "      border-radius: 50%;\n",
              "      cursor: pointer;\n",
              "      display: none;\n",
              "      fill: #1967D2;\n",
              "      height: 32px;\n",
              "      padding: 0 0 0 0;\n",
              "      width: 32px;\n",
              "    }\n",
              "\n",
              "    .colab-df-convert:hover {\n",
              "      background-color: #E2EBFA;\n",
              "      box-shadow: 0px 1px 2px rgba(60, 64, 67, 0.3), 0px 1px 3px 1px rgba(60, 64, 67, 0.15);\n",
              "      fill: #174EA6;\n",
              "    }\n",
              "\n",
              "    [theme=dark] .colab-df-convert {\n",
              "      background-color: #3B4455;\n",
              "      fill: #D2E3FC;\n",
              "    }\n",
              "\n",
              "    [theme=dark] .colab-df-convert:hover {\n",
              "      background-color: #434B5C;\n",
              "      box-shadow: 0px 1px 3px 1px rgba(0, 0, 0, 0.15);\n",
              "      filter: drop-shadow(0px 1px 2px rgba(0, 0, 0, 0.3));\n",
              "      fill: #FFFFFF;\n",
              "    }\n",
              "  </style>\n",
              "\n",
              "      <script>\n",
              "        const buttonEl =\n",
              "          document.querySelector('#df-f426d81e-2546-4f95-8660-dcb4aca2e2e8 button.colab-df-convert');\n",
              "        buttonEl.style.display =\n",
              "          google.colab.kernel.accessAllowed ? 'block' : 'none';\n",
              "\n",
              "        async function convertToInteractive(key) {\n",
              "          const element = document.querySelector('#df-f426d81e-2546-4f95-8660-dcb4aca2e2e8');\n",
              "          const dataTable =\n",
              "            await google.colab.kernel.invokeFunction('convertToInteractive',\n",
              "                                                     [key], {});\n",
              "          if (!dataTable) return;\n",
              "\n",
              "          const docLinkHtml = 'Like what you see? Visit the ' +\n",
              "            '<a target=\"_blank\" href=https://colab.research.google.com/notebooks/data_table.ipynb>data table notebook</a>'\n",
              "            + ' to learn more about interactive tables.';\n",
              "          element.innerHTML = '';\n",
              "          dataTable['output_type'] = 'display_data';\n",
              "          await google.colab.output.renderOutput(dataTable, element);\n",
              "          const docLink = document.createElement('div');\n",
              "          docLink.innerHTML = docLinkHtml;\n",
              "          element.appendChild(docLink);\n",
              "        }\n",
              "      </script>\n",
              "    </div>\n",
              "  </div>\n",
              "  "
            ]
          },
          "metadata": {},
          "execution_count": 25
        }
      ]
    },
    {
      "cell_type": "markdown",
      "source": [
        "* 형태바꾸기"
      ],
      "metadata": {
        "id": "5QNR3laUZiOA"
      },
      "id": "5QNR3laUZiOA"
    },
    {
      "cell_type": "code",
      "source": [
        "result_mol[\"lprice\"] = result_mol[\"lprice\"].astype(\"float\")\n",
        "result_mol.info()"
      ],
      "metadata": {
        "colab": {
          "base_uri": "https://localhost:8080/"
        },
        "id": "3xdlTOk8ZVW1",
        "outputId": "9663e055-587b-4e66-bb38-f34f941fa22f"
      },
      "id": "3xdlTOk8ZVW1",
      "execution_count": 26,
      "outputs": [
        {
          "output_type": "stream",
          "name": "stdout",
          "text": [
            "<class 'pandas.core.frame.DataFrame'>\n",
            "RangeIndex: 100 entries, 0 to 99\n",
            "Data columns (total 4 columns):\n",
            " #   Column  Non-Null Count  Dtype  \n",
            "---  ------  --------------  -----  \n",
            " 0   title   100 non-null    object \n",
            " 1   lprice  100 non-null    float64\n",
            " 2   link    100 non-null    object \n",
            " 3   mall    100 non-null    object \n",
            "dtypes: float64(1), object(3)\n",
            "memory usage: 3.2+ KB\n"
          ]
        }
      ]
    },
    {
      "cell_type": "markdown",
      "source": [
        "## 엑셀로 내보내기"
      ],
      "metadata": {
        "id": "W0Z5ATAoZs9n"
      },
      "id": "W0Z5ATAoZs9n"
    },
    {
      "cell_type": "code",
      "source": [
        "# !pip install xlsxwriter"
      ],
      "metadata": {
        "id": "SmOxobtSZrBx"
      },
      "id": "SmOxobtSZrBx",
      "execution_count": 27,
      "outputs": []
    },
    {
      "cell_type": "code",
      "source": [
        "writer = pd.ExcelWriter(\"/content/drive/MyDrive/data/06_molskin_diary_in_naveer_shop.xlsx\", engine = \"xlsxwriter\")\n",
        "result_mol.to_excel(writer, sheet_name=\"Sheet1\")\n",
        "\n",
        "workbook = writer.book\n",
        "worksheet = writer.sheets[\"Sheet1\"]\n",
        "worksheet.set_column(\"A:A\", 4)\n",
        "worksheet.set_column(\"B:B\", 60)\n",
        "worksheet.set_column(\"C:C\", 10)\n",
        "worksheet.set_column(\"D:D\", 10)\n",
        "worksheet.set_column(\"E:E\", 50)\n",
        "worksheet.set_column(\"F:F\", 10)\n",
        "\n",
        "worksheet.conditional_format(\"C2:C1001\", {\"type\" : \"3_color_scale\"})\n",
        "writer.save()"
      ],
      "metadata": {
        "id": "aYHcR6XEZwgk"
      },
      "id": "aYHcR6XEZwgk",
      "execution_count": 28,
      "outputs": []
    },
    {
      "cell_type": "code",
      "source": [
        "!ls \"/content/drive/MyDrive/data/06_molskin_diary_in_naveer_shop.xlsx\""
      ],
      "metadata": {
        "colab": {
          "base_uri": "https://localhost:8080/"
        },
        "id": "mD4nSmndcAyE",
        "outputId": "d0dc64e5-af84-4d83-ecf7-55b7143f073a"
      },
      "id": "mD4nSmndcAyE",
      "execution_count": 29,
      "outputs": [
        {
          "output_type": "stream",
          "name": "stdout",
          "text": [
            "/content/drive/MyDrive/data/06_molskin_diary_in_naveer_shop.xlsx\n"
          ]
        }
      ]
    },
    {
      "cell_type": "markdown",
      "source": [
        "## 시각화"
      ],
      "metadata": {
        "id": "1BJYrPNvcaYZ"
      },
      "id": "1BJYrPNvcaYZ"
    },
    {
      "cell_type": "code",
      "source": [
        "import matplotlib.pyplot as plt\n",
        "import seaborn as sns"
      ],
      "metadata": {
        "id": "kdQ8Vn7Bc_9a"
      },
      "id": "kdQ8Vn7Bc_9a",
      "execution_count": 27,
      "outputs": []
    },
    {
      "cell_type": "code",
      "source": [
        "# !apt-get update -qq\n",
        "# !apt-get install fonts-nanum* -qq  #코랩에서 한글 표기를 위해 폰트 설치(리눅스)"
      ],
      "metadata": {
        "id": "upvbLhyceCPM"
      },
      "id": "upvbLhyceCPM",
      "execution_count": 31,
      "outputs": []
    },
    {
      "cell_type": "code",
      "source": [
        "# # 브라우저에서 바로 그려지도록 \n",
        "# %matplotlib inline\n",
        "\n",
        "# # 그래프에 retina display 적용\n",
        "# %config InlineBackend.figure_format = 'retina'\n",
        "\n",
        "# # Colab 의 한글 폰트 설정\n",
        "# plt.rc('font', family='NanumBarunGothic')\n",
        "\n",
        "# plt.rcParams['axes.unicode_minus'] = False"
      ],
      "metadata": {
        "id": "jWTHCd3NeUeN"
      },
      "id": "jWTHCd3NeUeN",
      "execution_count": 54,
      "outputs": []
    },
    {
      "cell_type": "code",
      "source": [
        "plt.figure(figsize=(15,6))\n",
        "\n",
        "# Colab 의 한글 폰트 설정\n",
        "plt.rc('font', family='NanumBarunGothic')\n",
        "\n",
        "sns.countplot(\n",
        "    result_mol[\"mall\"],\n",
        "    data = result_mol,\n",
        "    # palette = \"red\",\n",
        "    # font =  'NanumGothic',\n",
        "    order = result_mol[\"mall\"].value_counts().index\n",
        ")\n",
        "\n",
        "plt.xticks(rotation = 90)\n",
        "plt.show()"
      ],
      "metadata": {
        "colab": {
          "base_uri": "https://localhost:8080/",
          "height": 1000
        },
        "id": "SOgRD-pmcI3F",
        "outputId": "daa10ae1-44cd-41d7-9e51-76dc56dd327c"
      },
      "id": "SOgRD-pmcI3F",
      "execution_count": 28,
      "outputs": [
        {
          "output_type": "stream",
          "name": "stderr",
          "text": [
            "/usr/local/lib/python3.7/dist-packages/seaborn/_decorators.py:43: FutureWarning: Pass the following variable as a keyword arg: x. From version 0.12, the only valid positional argument will be `data`, and passing other arguments without an explicit keyword will result in an error or misinterpretation.\n",
            "  FutureWarning\n",
            "findfont: Font family ['NanumBarunGothic'] not found. Falling back to DejaVu Sans.\n",
            "/usr/local/lib/python3.7/dist-packages/matplotlib/backends/backend_agg.py:214: RuntimeWarning: Glyph 45348 missing from current font.\n",
            "  font.set_text(s, 0.0, flags=flags)\n",
            "/usr/local/lib/python3.7/dist-packages/matplotlib/backends/backend_agg.py:214: RuntimeWarning: Glyph 51060 missing from current font.\n",
            "  font.set_text(s, 0.0, flags=flags)\n",
            "/usr/local/lib/python3.7/dist-packages/matplotlib/backends/backend_agg.py:214: RuntimeWarning: Glyph 48260 missing from current font.\n",
            "  font.set_text(s, 0.0, flags=flags)\n",
            "/usr/local/lib/python3.7/dist-packages/matplotlib/backends/backend_agg.py:214: RuntimeWarning: Glyph 48288 missing from current font.\n",
            "  font.set_text(s, 0.0, flags=flags)\n",
            "/usr/local/lib/python3.7/dist-packages/matplotlib/backends/backend_agg.py:214: RuntimeWarning: Glyph 49828 missing from current font.\n",
            "  font.set_text(s, 0.0, flags=flags)\n",
            "/usr/local/lib/python3.7/dist-packages/matplotlib/backends/backend_agg.py:214: RuntimeWarning: Glyph 53944 missing from current font.\n",
            "  font.set_text(s, 0.0, flags=flags)\n",
            "/usr/local/lib/python3.7/dist-packages/matplotlib/backends/backend_agg.py:214: RuntimeWarning: Glyph 54172 missing from current font.\n",
            "  font.set_text(s, 0.0, flags=flags)\n",
            "/usr/local/lib/python3.7/dist-packages/matplotlib/backends/backend_agg.py:214: RuntimeWarning: Glyph 47792 missing from current font.\n",
            "  font.set_text(s, 0.0, flags=flags)\n",
            "/usr/local/lib/python3.7/dist-packages/matplotlib/backends/backend_agg.py:214: RuntimeWarning: Glyph 53416 missing from current font.\n",
            "  font.set_text(s, 0.0, flags=flags)\n",
            "/usr/local/lib/python3.7/dist-packages/matplotlib/backends/backend_agg.py:214: RuntimeWarning: Glyph 44277 missing from current font.\n",
            "  font.set_text(s, 0.0, flags=flags)\n",
            "/usr/local/lib/python3.7/dist-packages/matplotlib/backends/backend_agg.py:214: RuntimeWarning: Glyph 49885 missing from current font.\n",
            "  font.set_text(s, 0.0, flags=flags)\n",
            "/usr/local/lib/python3.7/dist-packages/matplotlib/backends/backend_agg.py:214: RuntimeWarning: Glyph 50728 missing from current font.\n",
            "  font.set_text(s, 0.0, flags=flags)\n",
            "/usr/local/lib/python3.7/dist-packages/matplotlib/backends/backend_agg.py:214: RuntimeWarning: Glyph 46972 missing from current font.\n",
            "  font.set_text(s, 0.0, flags=flags)\n",
            "/usr/local/lib/python3.7/dist-packages/matplotlib/backends/backend_agg.py:214: RuntimeWarning: Glyph 51064 missing from current font.\n",
            "  font.set_text(s, 0.0, flags=flags)\n",
            "/usr/local/lib/python3.7/dist-packages/matplotlib/backends/backend_agg.py:214: RuntimeWarning: Glyph 53664 missing from current font.\n",
            "  font.set_text(s, 0.0, flags=flags)\n",
            "/usr/local/lib/python3.7/dist-packages/matplotlib/backends/backend_agg.py:214: RuntimeWarning: Glyph 50612 missing from current font.\n",
            "  font.set_text(s, 0.0, flags=flags)\n",
            "/usr/local/lib/python3.7/dist-packages/matplotlib/backends/backend_agg.py:183: RuntimeWarning: Glyph 45348 missing from current font.\n",
            "  font.set_text(s, 0, flags=flags)\n",
            "/usr/local/lib/python3.7/dist-packages/matplotlib/backends/backend_agg.py:183: RuntimeWarning: Glyph 51060 missing from current font.\n",
            "  font.set_text(s, 0, flags=flags)\n",
            "/usr/local/lib/python3.7/dist-packages/matplotlib/backends/backend_agg.py:183: RuntimeWarning: Glyph 48260 missing from current font.\n",
            "  font.set_text(s, 0, flags=flags)\n",
            "/usr/local/lib/python3.7/dist-packages/matplotlib/backends/backend_agg.py:183: RuntimeWarning: Glyph 48288 missing from current font.\n",
            "  font.set_text(s, 0, flags=flags)\n",
            "/usr/local/lib/python3.7/dist-packages/matplotlib/backends/backend_agg.py:183: RuntimeWarning: Glyph 49828 missing from current font.\n",
            "  font.set_text(s, 0, flags=flags)\n",
            "/usr/local/lib/python3.7/dist-packages/matplotlib/backends/backend_agg.py:183: RuntimeWarning: Glyph 53944 missing from current font.\n",
            "  font.set_text(s, 0, flags=flags)\n",
            "/usr/local/lib/python3.7/dist-packages/matplotlib/backends/backend_agg.py:183: RuntimeWarning: Glyph 54172 missing from current font.\n",
            "  font.set_text(s, 0, flags=flags)\n",
            "/usr/local/lib/python3.7/dist-packages/matplotlib/backends/backend_agg.py:183: RuntimeWarning: Glyph 47792 missing from current font.\n",
            "  font.set_text(s, 0, flags=flags)\n",
            "/usr/local/lib/python3.7/dist-packages/matplotlib/backends/backend_agg.py:183: RuntimeWarning: Glyph 53416 missing from current font.\n",
            "  font.set_text(s, 0, flags=flags)\n",
            "/usr/local/lib/python3.7/dist-packages/matplotlib/backends/backend_agg.py:183: RuntimeWarning: Glyph 44277 missing from current font.\n",
            "  font.set_text(s, 0, flags=flags)\n",
            "/usr/local/lib/python3.7/dist-packages/matplotlib/backends/backend_agg.py:183: RuntimeWarning: Glyph 49885 missing from current font.\n",
            "  font.set_text(s, 0, flags=flags)\n",
            "/usr/local/lib/python3.7/dist-packages/matplotlib/backends/backend_agg.py:183: RuntimeWarning: Glyph 50728 missing from current font.\n",
            "  font.set_text(s, 0, flags=flags)\n",
            "/usr/local/lib/python3.7/dist-packages/matplotlib/backends/backend_agg.py:183: RuntimeWarning: Glyph 46972 missing from current font.\n",
            "  font.set_text(s, 0, flags=flags)\n",
            "/usr/local/lib/python3.7/dist-packages/matplotlib/backends/backend_agg.py:183: RuntimeWarning: Glyph 51064 missing from current font.\n",
            "  font.set_text(s, 0, flags=flags)\n",
            "/usr/local/lib/python3.7/dist-packages/matplotlib/backends/backend_agg.py:183: RuntimeWarning: Glyph 53664 missing from current font.\n",
            "  font.set_text(s, 0, flags=flags)\n",
            "/usr/local/lib/python3.7/dist-packages/matplotlib/backends/backend_agg.py:183: RuntimeWarning: Glyph 50612 missing from current font.\n",
            "  font.set_text(s, 0, flags=flags)\n"
          ]
        },
        {
          "output_type": "display_data",
          "data": {
            "text/plain": [
              "<Figure size 1080x432 with 1 Axes>"
            ],
            "image/png": "[encoded data removed]"
          },
          "metadata": {
            "needs_background": "light"
          }
        }
      ]
    },
    {
      "cell_type": "code",
      "source": [
        ""
      ],
      "metadata": {
        "id": "snzOgHxDcf1Z"
      },
      "id": "snzOgHxDcf1Z",
      "execution_count": null,
      "outputs": []
    }
  ],
  "metadata": {
    "kernelspec": {
      "display_name": "Python 3 (ipykernel)",
      "language": "python",
      "name": "python3"
    },
    "language_info": {
      "codemirror_mode": {
        "name": "ipython",
        "version": 3
      },
      "file_extension": ".py",
      "mimetype": "text/x-python",
      "name": "python",
      "nbconvert_exporter": "python",
      "pygments_lexer": "ipython3",
      "version": "3.9.7"
    },
    "colab": {
      "name": "NAVER API_이론.ipynb",
      "provenance": [],
      "toc_visible": true,
      "include_colab_link": true
    }
  },
  "nbformat": 4,
  "nbformat_minor": 5
}